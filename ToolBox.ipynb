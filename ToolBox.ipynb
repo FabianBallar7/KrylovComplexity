{
 "cells": [
  {
   "cell_type": "code",
   "execution_count": 1,
   "metadata": {},
   "outputs": [
    {
     "data": {
      "text/plain": [
       "codetobasis (generic function with 2 methods)"
      ]
     },
     "execution_count": 1,
     "metadata": {},
     "output_type": "execute_result"
    }
   ],
   "source": [
    "function codetobasis(a::Int64,L::Int64,base=4) #convert a state code a to basis, e.g. 1=0000001\n",
    "    basis=zeros(Int64,L);\n",
    "    temp=a;\n",
    "    for i=1:L\n",
    "        basis[i]=rem(temp,base);\n",
    "        temp=div(temp,base);\n",
    "    end\n",
    "    return basis;\n",
    "end"
   ]
  },
  {
   "cell_type": "code",
   "execution_count": 2,
   "metadata": {},
   "outputs": [
    {
     "data": {
      "text/plain": [
       "num2basis (generic function with 2 methods)"
      ]
     },
     "execution_count": 2,
     "metadata": {},
     "output_type": "execute_result"
    }
   ],
   "source": [
    "using SparseArrays\n",
    "num2basis(a::Int64,L::Int64,base=4)=codetobasis(a,L,base)"
   ]
  },
  {
   "cell_type": "code",
   "execution_count": 3,
   "metadata": {},
   "outputs": [
    {
     "data": {
      "text/plain": [
       "basistocode (generic function with 2 methods)"
      ]
     },
     "execution_count": 3,
     "metadata": {},
     "output_type": "execute_result"
    }
   ],
   "source": [
    "#basis to number converter\n",
    "function basistocode(basis::Array{Int64},base=4)\n",
    "    temp=BigInt(0);\n",
    "    for i=1:length(basis)\n",
    "        temp+=basis[i]*big(base)^(i-1);\n",
    "    end\n",
    "    return temp;\n",
    "end"
   ]
  },
  {
   "cell_type": "code",
   "execution_count": 4,
   "metadata": {},
   "outputs": [
    {
     "data": {
      "text/plain": [
       "basis2num (generic function with 2 methods)"
      ]
     },
     "execution_count": 4,
     "metadata": {},
     "output_type": "execute_result"
    }
   ],
   "source": [
    "basis2num(basis::Array{Int64},base=4)=basistocode(basis,base)"
   ]
  },
  {
   "cell_type": "code",
   "execution_count": 5,
   "metadata": {},
   "outputs": [
    {
     "data": {
      "text/plain": [
       "Pauli_Algebra (generic function with 1 method)"
      ]
     },
     "execution_count": 5,
     "metadata": {},
     "output_type": "execute_result"
    }
   ],
   "source": [
    "function Pauli_Algebra(x::Int64, y::Int64)\n",
    "           if x == 0 && y == 0 || x == 1 && y == 1 || x == 2 && y == 2 || x == 3 && y == 3\n",
    "               c, w = 1, 0\n",
    "           elseif x == 2 && y == 3\n",
    "               c, w = 1im, 1\n",
    "           elseif x == 3 && y == 1\n",
    "               c, w = 1im, 2\n",
    "           elseif x == 1 && y == 2\n",
    "               c, w = 1im, 3\n",
    "           elseif x == 3 && y == 2 \n",
    "               c, w = -1im, 1\n",
    "           elseif x == 1 && y == 3 \n",
    "               c, w = -1im, 2\n",
    "           elseif x == 2 && y == 1 \n",
    "               c, w = -1im, 3\n",
    "           elseif x == 0 && y == 1 || x == 1 && y == 0 \n",
    "               c, w = 1, 1\n",
    "           elseif x == 0 && y == 2 || x == 2 && y == 0 \n",
    "               c, w = 1, 2\n",
    "           elseif x == 0 && y == 3 || x == 3 && y == 0 \n",
    "               c, w = 1, 3\n",
    "           end\n",
    "            return c, w\n",
    "       end"
   ]
  },
  {
   "cell_type": "code",
   "execution_count": 6,
   "metadata": {},
   "outputs": [
    {
     "data": {
      "text/plain": [
       "PauliAlg (generic function with 1 method)"
      ]
     },
     "execution_count": 6,
     "metadata": {},
     "output_type": "execute_result"
    }
   ],
   "source": [
    "PauliAlg(x::Int64, y::Int64) = Pauli_Algebra(x, y)"
   ]
  },
  {
   "cell_type": "code",
   "execution_count": 7,
   "metadata": {},
   "outputs": [
    {
     "data": {
      "text/plain": [
       "Initial_Operator (generic function with 1 method)"
      ]
     },
     "execution_count": 7,
     "metadata": {},
     "output_type": "execute_result"
    }
   ],
   "source": [
    "function Initial_Operator(c::Complex{Float64},a::Int64,L::Int64)\n",
    "    z = convert(Array{Int64},zeros(L))\n",
    "    z[convert(Int64,ceil(L/2))] = a\n",
    "     return (c,z)\n",
    "end"
   ]
  },
  {
   "cell_type": "code",
   "execution_count": 8,
   "metadata": {},
   "outputs": [
    {
     "data": {
      "text/plain": [
       "IoP (generic function with 1 method)"
      ]
     },
     "execution_count": 8,
     "metadata": {},
     "output_type": "execute_result"
    }
   ],
   "source": [
    "function IoP(a,L)\n",
    "    z = convert(Array{Int64},zeros(L))\n",
    "    z[convert(Int64,ceil(L/2))] = a\n",
    "     return z\n",
    "end"
   ]
  },
  {
   "cell_type": "code",
   "execution_count": null,
   "metadata": {},
   "outputs": [],
   "source": []
  },
  {
   "cell_type": "code",
   "execution_count": 9,
   "metadata": {},
   "outputs": [
    {
     "data": {
      "text/plain": [
       "InitialOp (generic function with 1 method)"
      ]
     },
     "execution_count": 9,
     "metadata": {},
     "output_type": "execute_result"
    }
   ],
   "source": [
    "InitialOp(c,a::Int64,L::Int64) = Initial_Operator(c,a,L)"
   ]
  },
  {
   "cell_type": "code",
   "execution_count": 10,
   "metadata": {},
   "outputs": [
    {
     "data": {
      "text/plain": [
       "Pauli_Commutator (generic function with 1 method)"
      ]
     },
     "execution_count": 10,
     "metadata": {},
     "output_type": "execute_result"
    }
   ],
   "source": [
    "function Pauli_Commutator(x::Int64, y::Int64)\n",
    "           if  x == 1 && y == 1 || x == 2 && y == 2 || x == 3 && y == 3\n",
    "               return 0 ,0\n",
    "           elseif x == 0 || y == 0\n",
    "               return 0 ,0\n",
    "           elseif x == 1 && y == 2 \n",
    "               return  2im, 3\n",
    "           elseif x == 1 && y == 3 \n",
    "               return  -2im, 2\n",
    "           elseif x == 2 && y == 1 \n",
    "               return  -2im, 3\n",
    "           elseif x == 2 && y == 3 \n",
    "               return  2im, 1\n",
    "           elseif x == 3 && y == 1 \n",
    "               return  2im, 2\n",
    "           elseif x == 3 && y == 2 \n",
    "               return  -2im, 1\n",
    "           end\n",
    "            return c, w\n",
    "       end"
   ]
  },
  {
   "cell_type": "code",
   "execution_count": 11,
   "metadata": {},
   "outputs": [
    {
     "data": {
      "text/plain": [
       "PauliComm (generic function with 1 method)"
      ]
     },
     "execution_count": 11,
     "metadata": {},
     "output_type": "execute_result"
    }
   ],
   "source": [
    "PauliComm(x::Int64, y::Int64) = Pauli_Commutator(x, y)"
   ]
  },
  {
   "cell_type": "code",
   "execution_count": 12,
   "metadata": {},
   "outputs": [
    {
     "data": {
      "text/plain": [
       "Pauli_Algebra2 (generic function with 1 method)"
      ]
     },
     "execution_count": 12,
     "metadata": {},
     "output_type": "execute_result"
    }
   ],
   "source": [
    "function Pauli_Algebra2(x::Int64, y::Int64) #This product is blind to coefficients and signs\n",
    "           if  x == 1 && y == 1 || x == 2 && y == 2 || x == 3 && y == 3\n",
    "               return 0\n",
    "           elseif x == 0 && y == 0\n",
    "               return 0\n",
    "           elseif x == 0 && y != 0\n",
    "                return y\n",
    "           elseif x != 0 && y == 0\n",
    "                return x\n",
    "           elseif x == 1 && y == 2 \n",
    "               return  3\n",
    "           elseif x == 1 && y == 3 \n",
    "               return  2\n",
    "           elseif x == 2 && y == 1 \n",
    "               return  3\n",
    "           elseif x == 2 && y == 3 \n",
    "               return  1\n",
    "           elseif x == 3 && y == 1 \n",
    "               return  2\n",
    "           elseif x == 3 && y == 2 \n",
    "               return  1\n",
    "           end\n",
    "            return w\n",
    "       end"
   ]
  },
  {
   "cell_type": "code",
   "execution_count": 13,
   "metadata": {},
   "outputs": [
    {
     "data": {
      "text/plain": [
       "PC2 (generic function with 1 method)"
      ]
     },
     "execution_count": 13,
     "metadata": {},
     "output_type": "execute_result"
    }
   ],
   "source": [
    "PC2(x::Int64, y::Int64) = Pauli_Algebra2(x, y)"
   ]
  },
  {
   "cell_type": "code",
   "execution_count": 14,
   "metadata": {},
   "outputs": [
    {
     "data": {
      "text/plain": [
       "Commutator (generic function with 1 method)"
      ]
     },
     "execution_count": 14,
     "metadata": {},
     "output_type": "execute_result"
    }
   ],
   "source": [
    "function Commutator(A::Array{Int64,1},B::Array{Int64,1},L::Int64) #Commutation of Pauli (Basis)\n",
    "    cm = convert(Array{Int64},zeros(L))\n",
    "    zl = 1\n",
    "    zr = 1\n",
    "    for i = 1:L\n",
    "        cm[i] += PauliAlg(A[i],B[i])[2] \n",
    "    end\n",
    "    for i = 1:L\n",
    "        zl = zl * PauliAlg(A[i],B[i])[1] \n",
    "        zr = zr * PauliAlg(B[i],A[i])[1]\n",
    "    end \n",
    "    z = zl - zr \n",
    "    if z == 0\n",
    "        return (convert(Complex{Float64},0),cm)\n",
    "    else\n",
    "        return (convert(Complex{Float64},z), cm)\n",
    "    end\n",
    "end"
   ]
  },
  {
   "cell_type": "code",
   "execution_count": 15,
   "metadata": {},
   "outputs": [
    {
     "data": {
      "text/plain": [
       "Comm (generic function with 1 method)"
      ]
     },
     "execution_count": 15,
     "metadata": {},
     "output_type": "execute_result"
    }
   ],
   "source": [
    "Comm(A::Array{Int64,1},B::Array{Int64,1},L::Int64)= Commutator(A,B,L)"
   ]
  },
  {
   "cell_type": "code",
   "execution_count": null,
   "metadata": {},
   "outputs": [],
   "source": []
  },
  {
   "cell_type": "code",
   "execution_count": null,
   "metadata": {},
   "outputs": [],
   "source": []
  },
  {
   "cell_type": "code",
   "execution_count": 16,
   "metadata": {},
   "outputs": [
    {
     "data": {
      "text/plain": [
       "Interaction_Hamiltonian (generic function with 1 method)"
      ]
     },
     "execution_count": 16,
     "metadata": {},
     "output_type": "execute_result"
    }
   ],
   "source": [
    "function Interaction_Hamiltonian(j::Int64,A::Int64,B::Int64,L::Int64)\n",
    "    h = convert(Array{Int64},zeros(L))\n",
    "    h[j] = A\n",
    "    h[j+1] = B\n",
    "    return h\n",
    "end"
   ]
  },
  {
   "cell_type": "code",
   "execution_count": 17,
   "metadata": {},
   "outputs": [
    {
     "data": {
      "text/plain": [
       "LocalField_Hamiltonian (generic function with 1 method)"
      ]
     },
     "execution_count": 17,
     "metadata": {},
     "output_type": "execute_result"
    }
   ],
   "source": [
    "function LocalField_Hamiltonian(j::Int64,A::Int64,L::Int64)\n",
    "    h = convert(Array{Int64},zeros(L))\n",
    "    h[j] = A\n",
    "    return h\n",
    "end"
   ]
  },
  {
   "cell_type": "code",
   "execution_count": null,
   "metadata": {},
   "outputs": [],
   "source": []
  },
  {
   "cell_type": "code",
   "execution_count": 18,
   "metadata": {},
   "outputs": [
    {
     "data": {
      "text/plain": [
       "IntHam (generic function with 1 method)"
      ]
     },
     "execution_count": 18,
     "metadata": {},
     "output_type": "execute_result"
    }
   ],
   "source": [
    "IntHam(j::Int64,A::Int64,B::Int64,L::Int64) = Interaction_Hamiltonian(j,A,B,L)"
   ]
  },
  {
   "cell_type": "code",
   "execution_count": null,
   "metadata": {},
   "outputs": [],
   "source": []
  },
  {
   "cell_type": "code",
   "execution_count": 19,
   "metadata": {},
   "outputs": [],
   "source": [
    "#I will define as code the map from paulis to a number by means of the power of 4 sum. \n",
    "#I will define as index the corresponding Julia entry for the array In this very trivial case that means\n",
    "# Index = code + 1"
   ]
  },
  {
   "cell_type": "code",
   "execution_count": 20,
   "metadata": {},
   "outputs": [
    {
     "data": {
      "text/plain": [
       "Index_to_Pauli (generic function with 1 method)"
      ]
     },
     "execution_count": 20,
     "metadata": {},
     "output_type": "execute_result"
    }
   ],
   "source": [
    "function Index_to_Pauli(a::Int64,L::Int64) #Thisfunctionsendscoeffentrytotheassocpaulistring a>=1\n",
    "    if a >= 1\n",
    "        z = a-1\n",
    "        p = codetobasis(z,L)\n",
    "    else\n",
    "        println(\"Error!, index starts at 1 \")\n",
    "    end\n",
    "    \n",
    "    return p\n",
    "end"
   ]
  },
  {
   "cell_type": "code",
   "execution_count": null,
   "metadata": {},
   "outputs": [],
   "source": []
  },
  {
   "cell_type": "code",
   "execution_count": 21,
   "metadata": {},
   "outputs": [
    {
     "data": {
      "text/plain": [
       "Index2Pauli (generic function with 1 method)"
      ]
     },
     "execution_count": 21,
     "metadata": {},
     "output_type": "execute_result"
    }
   ],
   "source": [
    "Index2Pauli(a::Int64,L::Int64) = Index_to_Pauli(a,L)"
   ]
  },
  {
   "cell_type": "code",
   "execution_count": 22,
   "metadata": {},
   "outputs": [
    {
     "data": {
      "text/plain": [
       "Pauli_to_Index (generic function with 1 method)"
      ]
     },
     "execution_count": 22,
     "metadata": {},
     "output_type": "execute_result"
    }
   ],
   "source": [
    "function Pauli_to_Index(A::Array{Int64})\n",
    "    z = BigInt(basis2num(A)) + 1\n",
    "    return z\n",
    "end"
   ]
  },
  {
   "cell_type": "code",
   "execution_count": 23,
   "metadata": {},
   "outputs": [
    {
     "data": {
      "text/plain": [
       "Pauli2Index (generic function with 1 method)"
      ]
     },
     "execution_count": 23,
     "metadata": {},
     "output_type": "execute_result"
    }
   ],
   "source": [
    "Pauli2Index(A::Array{Int64}) = Pauli_to_Index(A)"
   ]
  },
  {
   "cell_type": "code",
   "execution_count": 24,
   "metadata": {},
   "outputs": [],
   "source": [
    "#Now I want to make a function that I give it a coefficient and a Pauli and in returns\n",
    "#a coefficient and a index"
   ]
  },
  {
   "cell_type": "code",
   "execution_count": 25,
   "metadata": {},
   "outputs": [
    {
     "data": {
      "text/plain": [
       "Coef_and_Pauli_to_Index (generic function with 1 method)"
      ]
     },
     "execution_count": 25,
     "metadata": {},
     "output_type": "execute_result"
    }
   ],
   "source": [
    "function Coef_and_Pauli_to_Index(V::Tuple{Complex{Float64},Array{Int64,1}},L::Int64)\n",
    "    cf = V[1]\n",
    "    index = Pauli2Index(V[2])\n",
    "    return (cf,index)\n",
    "end "
   ]
  },
  {
   "cell_type": "code",
   "execution_count": null,
   "metadata": {},
   "outputs": [],
   "source": []
  },
  {
   "cell_type": "code",
   "execution_count": 26,
   "metadata": {},
   "outputs": [
    {
     "data": {
      "text/plain": [
       "CnP2I (generic function with 1 method)"
      ]
     },
     "execution_count": 26,
     "metadata": {},
     "output_type": "execute_result"
    }
   ],
   "source": [
    "CnP2I(V::Tuple{Complex{Float64},Array{Int64,1}},L::Int64) = Coef_and_Pauli_to_Index(V,L)"
   ]
  },
  {
   "cell_type": "code",
   "execution_count": 27,
   "metadata": {},
   "outputs": [],
   "source": [
    "#Reminder: Index to pauli needs L.  Pauli to Index doesnt"
   ]
  },
  {
   "cell_type": "code",
   "execution_count": null,
   "metadata": {},
   "outputs": [],
   "source": []
  },
  {
   "cell_type": "code",
   "execution_count": 28,
   "metadata": {},
   "outputs": [
    {
     "data": {
      "text/plain": [
       "Coef_and_Index_to_Pauli (generic function with 1 method)"
      ]
     },
     "execution_count": 28,
     "metadata": {},
     "output_type": "execute_result"
    }
   ],
   "source": [
    "function Coef_and_Index_to_Pauli(a::Complex{Float64},b::Int64,L::Int64)\n",
    "    c = a\n",
    "    z = Index2Pauli(b,L)\n",
    "    \n",
    "    return (c,z)\n",
    "end"
   ]
  },
  {
   "cell_type": "code",
   "execution_count": null,
   "metadata": {},
   "outputs": [],
   "source": []
  },
  {
   "cell_type": "code",
   "execution_count": 29,
   "metadata": {},
   "outputs": [
    {
     "data": {
      "text/plain": [
       "CnI2P (generic function with 1 method)"
      ]
     },
     "execution_count": 29,
     "metadata": {},
     "output_type": "execute_result"
    }
   ],
   "source": [
    "CnI2P(a::Complex{Int64},b::Int64,L::Int64) = Coef_and_Index_to_Pauli(a,b,L)"
   ]
  },
  {
   "cell_type": "code",
   "execution_count": 30,
   "metadata": {},
   "outputs": [
    {
     "data": {
      "text/plain": [
       "Hamiltonian (generic function with 1 method)"
      ]
     },
     "execution_count": 30,
     "metadata": {},
     "output_type": "execute_result"
    }
   ],
   "source": [
    "function Hamiltonian(i::Int64,c,A::Int64,B::Int64,L::Int64)\n",
    "    coef = c\n",
    "    h = convert(Array{Int64},zeros(L))\n",
    "    h[i] = A\n",
    "    h[i+1] = B\n",
    "    \n",
    "    return (coef, h)\n",
    "end  "
   ]
  },
  {
   "cell_type": "code",
   "execution_count": 31,
   "metadata": {},
   "outputs": [
    {
     "data": {
      "text/plain": [
       "HamP (generic function with 1 method)"
      ]
     },
     "execution_count": 31,
     "metadata": {},
     "output_type": "execute_result"
    }
   ],
   "source": [
    "function HamP(c::Int64,A::Int64,B::Int64)\n",
    "    \n",
    "    return (c,A,B)\n",
    "end"
   ]
  },
  {
   "cell_type": "code",
   "execution_count": 32,
   "metadata": {},
   "outputs": [
    {
     "data": {
      "text/plain": [
       "Liouvillian (generic function with 1 method)"
      ]
     },
     "execution_count": 32,
     "metadata": {},
     "output_type": "execute_result"
    }
   ],
   "source": [
    "function Liouvillian(H::Tuple{Int64,Int64,Int64},Op::Tuple{Complex{Float64},Array{Int64,1}},L::Int64)\n",
    "    coefvec = convert(Array{Complex{Float64}},ones(L-1))\n",
    "    v = [Vector{Int64}() for i in 1:L-1]\n",
    "    for i=1:L-1\n",
    "        v[i] = Comm(Hamiltonian(i,H[1],H[2],H[3],L)[2],Op[2],L)[2]\n",
    "    end\n",
    "    for i=1:L-1\n",
    "        coefvec[i] = Hamiltonian(i,H[1],H[2],H[3],L)[1] * Op[1] * Comm(Hamiltonian(i,H[1],H[2],H[3],L)[2],Op[2],L)[1]\n",
    "    end\n",
    "    \n",
    "    return (coefvec, v)\n",
    "end"
   ]
  },
  {
   "cell_type": "code",
   "execution_count": null,
   "metadata": {},
   "outputs": [],
   "source": []
  },
  {
   "cell_type": "code",
   "execution_count": 33,
   "metadata": {},
   "outputs": [],
   "source": [
    "#Important:Some Pauli strings will show up that are associated to a 0 coefficient."
   ]
  },
  {
   "cell_type": "code",
   "execution_count": null,
   "metadata": {},
   "outputs": [],
   "source": [
    "\n"
   ]
  },
  {
   "cell_type": "code",
   "execution_count": 34,
   "metadata": {},
   "outputs": [
    {
     "data": {
      "text/plain": [
       "LiouvillianIndexForm (generic function with 1 method)"
      ]
     },
     "execution_count": 34,
     "metadata": {},
     "output_type": "execute_result"
    }
   ],
   "source": [
    "function LiouvillianIndexForm(H::Tuple{Int64,Int64,Int64},Op::Tuple{Complex{Float64},Array{Int64,1}},L::Int64)\n",
    "    coefvec = convert(Array{Complex{Float64}},ones(L-1))\n",
    "    v = [Vector{Int64}() for i in 1:L-1]\n",
    "    VI = convert(Array{Int64},zeros(L-1))\n",
    "    for i=1:L-1\n",
    "        v[i] = Comm(Hamiltonian(i,H[1],H[2],H[3],L)[2],Op[2],L)[2]\n",
    "    end\n",
    "    for i=1:L-1\n",
    "        coefvec[i] = Hamiltonian(i,H[1],H[2],H[3],L)[1] * Op[1] * Comm(Hamiltonian(i,H[1],H[2],H[3],L)[2],Op[2],L)[1]\n",
    "    end\n",
    "    for i=1:L-1\n",
    "        VI[i] = Pauli2Index(v[i])\n",
    "    end\n",
    "        \n",
    "    return (coefvec,VI)\n",
    "end"
   ]
  },
  {
   "cell_type": "code",
   "execution_count": null,
   "metadata": {},
   "outputs": [],
   "source": []
  },
  {
   "cell_type": "code",
   "execution_count": 35,
   "metadata": {},
   "outputs": [
    {
     "data": {
      "text/plain": [
       "LiouvillianIndexForm4Lvector (generic function with 1 method)"
      ]
     },
     "execution_count": 35,
     "metadata": {},
     "output_type": "execute_result"
    }
   ],
   "source": [
    "function LiouvillianIndexForm4Lvector(H::Tuple{Int64,Int64,Int64},Op::Tuple{Complex{Float64},Array{Int64,1}},L::Int64)\n",
    "    coefvec = convert(Array{Complex{Float64}},ones(L-1))\n",
    "    v = [Vector{Int64}() for i in 1:L-1]\n",
    "    VI = convert(Array{Int64},zeros(L-1))\n",
    "    FV = convert(Array{Complex{Float64}},zeros(4^L))\n",
    "    for i=1:L-1\n",
    "        v[i] = Comm(Hamiltonian(i,H[1],H[2],H[3],L)[2],Op[2],L)[2]\n",
    "    end\n",
    "    for i=1:L-1\n",
    "        coefvec[i] = Hamiltonian(i,H[1],H[2],H[3],L)[1] * Op[1] * Comm(Hamiltonian(i,H[1],H[2],H[3],L)[2],Op[2],L)[1]\n",
    "    end\n",
    "    for i=1:L-1\n",
    "        VI[i] = Pauli2Index(v[i])\n",
    "    end\n",
    "    for i=1:L-1\n",
    "        FV[VI[i]] = coefvec[i]\n",
    "    end\n",
    " \n",
    "    \n",
    "    return sparse(FV)\n",
    "            \n",
    "end"
   ]
  },
  {
   "cell_type": "code",
   "execution_count": 36,
   "metadata": {},
   "outputs": [
    {
     "data": {
      "text/plain": [
       "CoefandPauli_to_IndexVector (generic function with 1 method)"
      ]
     },
     "execution_count": 36,
     "metadata": {},
     "output_type": "execute_result"
    }
   ],
   "source": [
    "function CoefandPauli_to_IndexVector(A::Tuple{Array{Complex{Float64},1},Array{Array{Int64,1},1}},L::Int64)\n",
    "    k = convert(Array{BigInt,1},zeros(length(A[1]))) \n",
    "    for i = 1:length(A[1])\n",
    "        k[i] = Pauli2Index(A[2][i])\n",
    "    end\n",
    "    return sparsevec(k,A[1],4^L,+)\n",
    "end"
   ]
  },
  {
   "cell_type": "code",
   "execution_count": 37,
   "metadata": {},
   "outputs": [
    {
     "data": {
      "text/plain": [
       "IndexVector_to_CoefandPauli (generic function with 1 method)"
      ]
     },
     "execution_count": 37,
     "metadata": {},
     "output_type": "execute_result"
    }
   ],
   "source": [
    "#Here we aim to write a function that takes a 4^L sized vector which is actually our index vector\n",
    "#And spits out coeficients and associated Pauli string IndexVector_to_CoefandPauli\n",
    "function IndexVector_to_CoefandPauli(V::SparseVector{Complex{Float64},Int64},L::Int64)\n",
    "    k = findnz(V)[2]\n",
    "    w = [Vector{Int64}() for i in 1:nnz(V)]\n",
    "\n",
    "    for i =1:nnz(V)\n",
    "        w[i] = Index2Pauli(findnz(V)[1][i],L)\n",
    "    end\n",
    "    return (k,w)\n",
    "end"
   ]
  },
  {
   "cell_type": "code",
   "execution_count": 38,
   "metadata": {},
   "outputs": [
    {
     "data": {
      "text/plain": [
       "LiouvillianE (generic function with 1 method)"
      ]
     },
     "execution_count": 38,
     "metadata": {},
     "output_type": "execute_result"
    }
   ],
   "source": [
    "function LiouvillianE(H::Tuple{Int64,Int64,Int64},Op::Tuple{Complex{Float64},Array{Int64,1}},L::Int64)\n",
    "    coefvec = convert(Array{Complex{Float64}},ones(L-1))\n",
    "    v = [Vector{Int64}() for i in 1:L-1]\n",
    "    VI = convert(Array{Int64},zeros(L-1))\n",
    "    FV = convert(Array{Complex{Float64}},zeros(4^L))\n",
    "    for i=1:L-1\n",
    "        v[i] = Comm(Hamiltonian(i,H[1],H[2],H[3],L)[2],Op[2],L)[2]\n",
    "    end\n",
    "    for i=1:L-1\n",
    "        coefvec[i] = Hamiltonian(i,H[1],H[2],H[3],L)[1] * Op[1] * Comm(Hamiltonian(i,H[1],H[2],H[3],L)[2],Op[2],L)[1]\n",
    "    end\n",
    "    for i=1:L-1\n",
    "        VI[i] = Pauli2Index(v[i])\n",
    "    end\n",
    "    for i=1:L-1\n",
    "        FV[VI[i]] = coefvec[i]\n",
    "    end\n",
    " \n",
    "    return IndexVector_to_CoefandPauli(sparse(FV),L)\n",
    "            \n",
    "end\n",
    "#This function is the same as Liouvillian but doesn't give ugly 0 coefficient terms!"
   ]
  },
  {
   "cell_type": "code",
   "execution_count": null,
   "metadata": {},
   "outputs": [],
   "source": []
  },
  {
   "cell_type": "code",
   "execution_count": 39,
   "metadata": {},
   "outputs": [
    {
     "data": {
      "text/plain": [
       "TupleCommu (generic function with 1 method)"
      ]
     },
     "execution_count": 39,
     "metadata": {},
     "output_type": "execute_result"
    }
   ],
   "source": [
    "function TupleCommu(A::Tuple{Array{Complex{Float64},1},Array{Array{Int64,1},1}},B::Tuple{Array{Complex{Float64},1},Array{Array{Int64,1},1}},L::Int64)\n",
    "    k = Complex{Float64}[]\n",
    "    w = [Vector{Int64}() for i in 1:length(A[1])*length(B[1])]\n",
    "    x = 0\n",
    "    for i =1:length(A[1])\n",
    "        for j =1:length(B[1])\n",
    "            if A[1][i] * B[1][j] * Comm(A[2][i],B[2][j],L)[1] != 0\n",
    "                x+=1\n",
    "                append!( k, A[1][i] * B[1][j] * Comm(A[2][i],B[2][j],L)[1] )\n",
    "                w[x] = Comm(A[2][i],B[2][j],L)[2]\n",
    "            end\n",
    "        end\n",
    "    end\n",
    "    return CoefandPauli_to_IndexVector((k,w[1:length(k)]),TT[2])\n",
    "end"
   ]
  },
  {
   "cell_type": "code",
   "execution_count": 40,
   "metadata": {},
   "outputs": [],
   "source": [
    "#function TupleCommu(A::Tuple{Array{Complex{Float64},1},Array{Array{Int64,1},1}},B::Tuple{Array{Complex{Float64},1},Array{Array{Int64,1},1}},L::Int64)\n",
    " #   k = convert(Array{Complex{Float64}},ones(length(A[1])*length(B[1])))\n",
    "  #  w = [Vector{Int64}() for i in 1:length(A[1])*length(B[1])]\n",
    "   # x = 0\n",
    "    #for i =1:length(A[1])\n",
    "     #   for j =1:length(B[1])\n",
    "      #      x+=1\n",
    "       #     k[x] = A[1][i] * B[1][j] * Comm(A[2][i],B[2][j],L)[1]\n",
    "        #    w[x] = Comm(A[2][i],B[2][j],L)[2]\n",
    "        #end\n",
    "    #end\n",
    "    #return (k,w)\n",
    "    #thisone original return: return CoefandPauli_to_IndexVector((k,w),L)\n",
    "#end"
   ]
  },
  {
   "cell_type": "code",
   "execution_count": null,
   "metadata": {},
   "outputs": [],
   "source": []
  },
  {
   "cell_type": "code",
   "execution_count": null,
   "metadata": {},
   "outputs": [],
   "source": []
  },
  {
   "cell_type": "code",
   "execution_count": null,
   "metadata": {},
   "outputs": [],
   "source": []
  },
  {
   "cell_type": "code",
   "execution_count": 41,
   "metadata": {},
   "outputs": [],
   "source": [
    "#Now before writing the Lanczos we need the Liouvillian for the XXX Hamiltonian\n",
    "#Notice this Liouvillian is different from previous since it must me able \n",
    "#to receive a N-TuplePauli \n",
    "#Once we have this we can easily write the Lanczos algorithm for n-iterations"
   ]
  },
  {
   "cell_type": "code",
   "execution_count": null,
   "metadata": {},
   "outputs": [],
   "source": []
  },
  {
   "cell_type": "code",
   "execution_count": 42,
   "metadata": {},
   "outputs": [],
   "source": [
    "using Distributions"
   ]
  },
  {
   "cell_type": "code",
   "execution_count": null,
   "metadata": {},
   "outputs": [],
   "source": []
  },
  {
   "cell_type": "code",
   "execution_count": null,
   "metadata": {},
   "outputs": [],
   "source": []
  },
  {
   "cell_type": "code",
   "execution_count": null,
   "metadata": {},
   "outputs": [],
   "source": []
  },
  {
   "cell_type": "code",
   "execution_count": 43,
   "metadata": {},
   "outputs": [],
   "source": [
    "#Function to create a disorder vector of length L with random variables in the [-h,h] box"
   ]
  },
  {
   "cell_type": "code",
   "execution_count": 44,
   "metadata": {},
   "outputs": [
    {
     "data": {
      "text/plain": [
       "disorderField (generic function with 1 method)"
      ]
     },
     "execution_count": 44,
     "metadata": {},
     "output_type": "execute_result"
    }
   ],
   "source": [
    "function disorderField(h,L::Int64)\n",
    "    V = zeros(L)\n",
    "    for i=1:L\n",
    "        V[i] = rand(Uniform(-h, h))\n",
    "    end\n",
    "    return convert(Array{Complex{Float64}},V)\n",
    "end"
   ]
  },
  {
   "cell_type": "raw",
   "metadata": {},
   "source": []
  },
  {
   "cell_type": "code",
   "execution_count": 45,
   "metadata": {},
   "outputs": [
    {
     "data": {
      "text/plain": [
       "HamiltonInt (generic function with 1 method)"
      ]
     },
     "execution_count": 45,
     "metadata": {},
     "output_type": "execute_result"
    }
   ],
   "source": [
    "function HamiltonInt(C::Array{Complex{Float64}},P::Int64,L::Int64)\n",
    "    w = [Vector{Int64}() for i in 1:L-1]\n",
    "    for i=1:L-1\n",
    "        w[i] = Interaction_Hamiltonian(i,P,P,L)\n",
    "    end\n",
    "    return (C,w)\n",
    "end"
   ]
  },
  {
   "cell_type": "code",
   "execution_count": null,
   "metadata": {},
   "outputs": [],
   "source": []
  },
  {
   "cell_type": "code",
   "execution_count": null,
   "metadata": {},
   "outputs": [],
   "source": []
  },
  {
   "cell_type": "code",
   "execution_count": 184,
   "metadata": {},
   "outputs": [
    {
     "data": {
      "text/plain": [
       "HamiltonFloat (generic function with 2 methods)"
      ]
     },
     "execution_count": 184,
     "metadata": {},
     "output_type": "execute_result"
    }
   ],
   "source": [
    "function HamiltonFloat(C::Array{Complex{Float64},1},P::Int64,L::Int64)\n",
    "    w = [Vector{Int64}() for i in 1:L]\n",
    "    for i=1:L\n",
    "        w[i] = LocalField_Hamiltonian(i,P,L)\n",
    "    end\n",
    "    return (C,w)\n",
    "end"
   ]
  },
  {
   "cell_type": "code",
   "execution_count": null,
   "metadata": {},
   "outputs": [],
   "source": []
  },
  {
   "cell_type": "code",
   "execution_count": null,
   "metadata": {},
   "outputs": [],
   "source": []
  },
  {
   "cell_type": "code",
   "execution_count": 47,
   "metadata": {},
   "outputs": [
    {
     "data": {
      "text/plain": [
       "Liouville2 (generic function with 1 method)"
      ]
     },
     "execution_count": 47,
     "metadata": {},
     "output_type": "execute_result"
    }
   ],
   "source": [
    "function Liouville2(H::Tuple{Tuple{Array{Complex{Float64},1},Array{Array{Int64,1},1}},Tuple{Array{Complex{Float64},1},Array{Array{Int64,1},1}},Tuple{Array{Complex{Float64},1},Array{Array{Int64,1},1}}},O::Tuple{Array{Complex{Float64},1},Array{Array{Int64,1},1}},L::Int64)\n",
    "    W = TupleCommu(H[1],O,L) + TupleCommu(H[2],O,L) + TupleCommu(H[3],O,L) \n",
    "\n",
    "    return W\n",
    "end"
   ]
  },
  {
   "cell_type": "code",
   "execution_count": 48,
   "metadata": {},
   "outputs": [
    {
     "data": {
      "text/plain": [
       "Liouville (generic function with 1 method)"
      ]
     },
     "execution_count": 48,
     "metadata": {},
     "output_type": "execute_result"
    }
   ],
   "source": [
    "function Liouville(H::NTuple{4,Tuple{Array{Complex{Float64},1},Array{Array{Int64,1},1}}},O::Tuple{Array{Complex{Float64},1},Array{Array{Int64,1},1}},L::Int64)\n",
    "    W = TupleCommu(H[1],O,L) + TupleCommu(H[2],O,L) + TupleCommu(H[3],O,L) - TupleCommu(H[4],O,L)\n",
    "\n",
    "    return W\n",
    "end"
   ]
  },
  {
   "cell_type": "code",
   "execution_count": 49,
   "metadata": {},
   "outputs": [],
   "source": [
    "using LinearAlgebra"
   ]
  },
  {
   "cell_type": "code",
   "execution_count": null,
   "metadata": {},
   "outputs": [],
   "source": []
  },
  {
   "cell_type": "code",
   "execution_count": 201,
   "metadata": {},
   "outputs": [
    {
     "data": {
      "text/plain": [
       "DisorderMatrix (generic function with 2 methods)"
      ]
     },
     "execution_count": 201,
     "metadata": {},
     "output_type": "execute_result"
    }
   ],
   "source": [
    "function DisorderMatrix(h_dis,L,m)\n",
    "    A = Complex.(zeros(L,m))\n",
    "    for i = 1:m\n",
    "        A[:,i] = disorderField(h_dis,L)\n",
    "    end\n",
    "    return A\n",
    "end"
   ]
  },
  {
   "cell_type": "code",
   "execution_count": 202,
   "metadata": {},
   "outputs": [
    {
     "data": {
      "text/plain": [
       "10×5 Array{Complex{Float64},2}:\n",
       " -6.16381+0.0im  -2.34731+0.0im  …    2.6376+0.0im  -4.88753+0.0im\n",
       " -5.38882+0.0im   1.74386+0.0im      4.99162+0.0im  -2.14892+0.0im\n",
       "  7.69218+0.0im    2.8811+0.0im     -7.35007+0.0im  -7.38761+0.0im\n",
       " -9.58959+0.0im  -5.24401+0.0im     -8.37444+0.0im   6.36394+0.0im\n",
       "  11.8692+0.0im   4.94122+0.0im     -1.20038+0.0im   -4.0335+0.0im\n",
       " -5.02774+0.0im  -4.73679+0.0im  …  0.960661+0.0im  -3.26596+0.0im\n",
       " -5.85263+0.0im   4.91254+0.0im      1.65719+0.0im  -4.00009+0.0im\n",
       " -5.18658+0.0im    11.273+0.0im     -5.34343+0.0im  -1.72527+0.0im\n",
       "  11.8706+0.0im  -5.09477+0.0im     -7.51711+0.0im  -1.47073+0.0im\n",
       "  -9.4534+0.0im  -11.8412+0.0im     -1.41343+0.0im   -11.915+0.0im"
      ]
     },
     "execution_count": 202,
     "metadata": {},
     "output_type": "execute_result"
    }
   ],
   "source": [
    "DisorderMatrix(12,10,5)"
   ]
  },
  {
   "cell_type": "code",
   "execution_count": null,
   "metadata": {},
   "outputs": [],
   "source": []
  },
  {
   "cell_type": "code",
   "execution_count": null,
   "metadata": {},
   "outputs": [],
   "source": []
  },
  {
   "cell_type": "code",
   "execution_count": null,
   "metadata": {},
   "outputs": [],
   "source": []
  },
  {
   "cell_type": "code",
   "execution_count": null,
   "metadata": {},
   "outputs": [],
   "source": []
  },
  {
   "cell_type": "code",
   "execution_count": null,
   "metadata": {},
   "outputs": [],
   "source": []
  },
  {
   "cell_type": "code",
   "execution_count": null,
   "metadata": {},
   "outputs": [],
   "source": []
  },
  {
   "cell_type": "code",
   "execution_count": 87,
   "metadata": {},
   "outputs": [
    {
     "data": {
      "text/plain": [
       "12"
      ]
     },
     "execution_count": 87,
     "metadata": {},
     "output_type": "execute_result"
    }
   ],
   "source": [
    "h = 12"
   ]
  },
  {
   "cell_type": "code",
   "execution_count": 99,
   "metadata": {},
   "outputs": [
    {
     "data": {
      "text/plain": [
       "19"
      ]
     },
     "execution_count": 99,
     "metadata": {},
     "output_type": "execute_result"
    }
   ],
   "source": [
    "LT = 19"
   ]
  },
  {
   "cell_type": "code",
   "execution_count": 100,
   "metadata": {},
   "outputs": [
    {
     "data": {
      "text/plain": [
       "10"
      ]
     },
     "execution_count": 100,
     "metadata": {},
     "output_type": "execute_result"
    }
   ],
   "source": [
    "N_iter = convert(Int64,(LT - 1)/2) + 1"
   ]
  },
  {
   "cell_type": "code",
   "execution_count": 101,
   "metadata": {},
   "outputs": [],
   "source": [
    "Oj = (Complex{Float64}[1 + 0im], [IoP(1,LT)]);"
   ]
  },
  {
   "cell_type": "code",
   "execution_count": 102,
   "metadata": {},
   "outputs": [],
   "source": [
    "H_X = HamiltonInt(convert(Array{Complex{Float64}},ones(LT-1)),1,LT);"
   ]
  },
  {
   "cell_type": "code",
   "execution_count": 103,
   "metadata": {},
   "outputs": [],
   "source": [
    "H_Y = HamiltonInt(convert(Array{Complex{Float64}},ones(LT-1)),2,LT);"
   ]
  },
  {
   "cell_type": "code",
   "execution_count": 104,
   "metadata": {},
   "outputs": [],
   "source": [
    "H_Z = HamiltonInt(convert(Array{Complex{Float64}},ones(LT-1)),3,LT);"
   ]
  },
  {
   "cell_type": "code",
   "execution_count": 105,
   "metadata": {},
   "outputs": [],
   "source": [
    "TT = (N_iter,LT);"
   ]
  },
  {
   "cell_type": "code",
   "execution_count": 106,
   "metadata": {},
   "outputs": [],
   "source": [
    "AH = (H_X,H_Y,H_Z);"
   ]
  },
  {
   "cell_type": "code",
   "execution_count": 107,
   "metadata": {},
   "outputs": [],
   "source": [
    "H_F = HamiltonFloat(disorderField(h,LT),3,LT);"
   ]
  },
  {
   "cell_type": "code",
   "execution_count": 108,
   "metadata": {},
   "outputs": [],
   "source": [
    "FH = (H_X,H_Y,H_Z,H_F);"
   ]
  },
  {
   "cell_type": "code",
   "execution_count": 109,
   "metadata": {},
   "outputs": [],
   "source": [
    "HE=HamiltonInt(convert(Array{Complex{Float64}},zeros(LT-1)),3,LT);"
   ]
  },
  {
   "cell_type": "code",
   "execution_count": null,
   "metadata": {},
   "outputs": [],
   "source": []
  },
  {
   "cell_type": "code",
   "execution_count": null,
   "metadata": {},
   "outputs": [],
   "source": []
  },
  {
   "cell_type": "code",
   "execution_count": 110,
   "metadata": {},
   "outputs": [
    {
     "data": {
      "text/plain": [
       "Lanczos3 (generic function with 1 method)"
      ]
     },
     "execution_count": 110,
     "metadata": {},
     "output_type": "execute_result"
    }
   ],
   "source": [
    "function Lanczos3(H::Tuple{Tuple{Array{Complex{Float64},1},Array{Array{Int64,1},1}},Tuple{Array{Complex{Float64},1},Array{Array{Int64,1},1}},Tuple{Array{Complex{Float64},1},Array{Array{Int64,1},1}}},O::Tuple{Array{Complex{Float64},1},Array{Array{Int64,1},1}},V::Tuple{Int64,Int64})\n",
    "    bn  = convert(Array{Float64},zeros(V[1]))\n",
    "    On = [(Complex{Float64}[], Array{Int64,1}[]) for i in 1:V[1]]\n",
    "    An = [sparse(convert(Array{Complex{Float64}},zeros(4^5))) for i in 1:V[1]]\n",
    "    \n",
    "    \n",
    "    On[1] = O\n",
    "    \n",
    "    An[1] = Liouville2(H,On[1],V[2])\n",
    "    bn[2] = sqrt(dot(An[1],An[1]))\n",
    "    On[2] = IndexVector_to_CoefandPauli((1/(bn[2])) * An[1],V[2])\n",
    "    \n",
    "    for i=2:V[1]-1\n",
    "        An[i] = Liouville2(H,On[i],V[2]) - bn[i] * CoefandPauli_to_IndexVector(On[i-1],V[2])\n",
    "        bn[i+1] = sqrt(dot(An[i],An[i]))\n",
    "        \n",
    "        On[i+1] = IndexVector_to_CoefandPauli(1/bn[i+1] * An[i],V[2]) \n",
    "    \n",
    "    end\n",
    "    \n",
    "    return bn\n",
    "end"
   ]
  },
  {
   "cell_type": "code",
   "execution_count": null,
   "metadata": {},
   "outputs": [],
   "source": []
  },
  {
   "cell_type": "code",
   "execution_count": null,
   "metadata": {},
   "outputs": [],
   "source": []
  },
  {
   "cell_type": "code",
   "execution_count": 111,
   "metadata": {},
   "outputs": [
    {
     "data": {
      "text/plain": [
       "Lanczos (generic function with 1 method)"
      ]
     },
     "execution_count": 111,
     "metadata": {},
     "output_type": "execute_result"
    }
   ],
   "source": [
    "function Lanczos(H::NTuple{4,Tuple{Array{Complex{Float64},1},Array{Array{Int64,1},1}}},O::Tuple{Array{Complex{Float64},1},Array{Array{Int64,1},1}},V::Tuple{Int64,Int64})\n",
    "    bn  = convert(Array{Float64},zeros(V[1]))\n",
    "    On = [(Complex{Float64}[], Array{Int64,1}[]) for i in 1:V[1]]\n",
    "    An = [sparse(convert(Array{Complex{Float64}},zeros(4^5))) for i in 1:V[1]]\n",
    "    \n",
    "    \n",
    "    On[1] = O\n",
    "    \n",
    "    An[1] = Liouville(H,On[1],V[2])\n",
    "    bn[2] = sqrt(dot(An[1],An[1]))\n",
    "    On[2] = IndexVector_to_CoefandPauli((1/(bn[2])) * An[1],V[2])\n",
    "    \n",
    "    for i=2:V[1]-1\n",
    "        An[i] = Liouville(H,On[i],V[2]) - bn[i] * CoefandPauli_to_IndexVector(On[i-1],V[2])\n",
    "        bn[i+1] = sqrt(dot(An[i],An[i]))\n",
    "        \n",
    "        On[i+1] = IndexVector_to_CoefandPauli(1/bn[i+1] * An[i],V[2]) \n",
    "        \n",
    "    end\n",
    "    \n",
    "    return bn\n",
    "end"
   ]
  },
  {
   "cell_type": "code",
   "execution_count": null,
   "metadata": {},
   "outputs": [],
   "source": []
  },
  {
   "cell_type": "code",
   "execution_count": 112,
   "metadata": {},
   "outputs": [
    {
     "name": "stdout",
     "output_type": "stream",
     "text": [
      " 33.382921 seconds (76.56 M allocations: 38.053 GiB, 20.68% gc time)\n"
     ]
    },
    {
     "data": {
      "text/plain": [
       "10-element Array{Float64,1}:\n",
       " 0.0\n",
       " 4.0\n",
       " 5.291502622129181\n",
       " 4.898979485566356\n",
       " 6.187545093630777\n",
       " 6.677567491596992\n",
       " 7.797744991997943\n",
       " 8.096633251217776\n",
       " 9.232217972128058\n",
       " 9.84220586403025"
      ]
     },
     "execution_count": 112,
     "metadata": {},
     "output_type": "execute_result"
    }
   ],
   "source": [
    "@time Lanczos3(AH,Oj,TT)"
   ]
  },
  {
   "cell_type": "code",
   "execution_count": 113,
   "metadata": {},
   "outputs": [
    {
     "data": {
      "text/plain": [
       "11-element Array{Float64,1}:\n",
       "  4.0\n",
       "  5.291502622129181\n",
       "  4.898979485566356\n",
       "  6.187545093630777\n",
       "  6.677567491596992\n",
       "  7.797744991997943\n",
       "  8.096633251217776\n",
       "  9.232217972128058\n",
       "  9.84220586403025\n",
       " 10.555151445890598\n",
       " 10.89773312688247"
      ]
     },
     "execution_count": 113,
     "metadata": {},
     "output_type": "execute_result"
    }
   ],
   "source": [
    "VXXX = [4.0,5.291502622129181,4.898979485566356,6.187545093630777,6.677567491596992,7.797744991997943,8.096633251217776,9.232217972128058,9.84220586403025,10.555151445890598,10.89773312688247]"
   ]
  },
  {
   "cell_type": "code",
   "execution_count": 180,
   "metadata": {},
   "outputs": [
    {
     "name": "stdout",
     "output_type": "stream",
     "text": [
      "147.972073 seconds (176.67 M allocations: 143.419 GiB, 21.61% gc time)\n"
     ]
    },
    {
     "data": {
      "text/plain": [
       "10-element Array{Float64,1}:\n",
       "  0.0\n",
       "  7.348380770554922\n",
       "  7.4660349914248565\n",
       " 11.149133054770367\n",
       " 12.723254991651443\n",
       " 20.3428421504593\n",
       " 19.491952500329774\n",
       " 16.580809422101\n",
       " 20.95005420479415\n",
       " 26.092591634643387"
      ]
     },
     "execution_count": 180,
     "metadata": {},
     "output_type": "execute_result"
    }
   ],
   "source": [
    "@time Lanczos(FH,Oj,TT)"
   ]
  },
  {
   "cell_type": "code",
   "execution_count": 116,
   "metadata": {},
   "outputs": [],
   "source": [
    "using CSV, DataFrames"
   ]
  },
  {
   "cell_type": "code",
   "execution_count": 203,
   "metadata": {},
   "outputs": [
    {
     "data": {
      "text/plain": [
       "\"DisorderMatrix.csv\""
      ]
     },
     "execution_count": 203,
     "metadata": {},
     "output_type": "execute_result"
    }
   ],
   "source": [
    "m = 10 #number of reps\n",
    "H_Matrix = DisorderMatrix(h,LT,m);\n",
    "CSV.write(\"DisorderMatrix.csv\", DataFrame(H_Matrix),  \n",
    "                         header = false)   "
   ]
  },
  {
   "cell_type": "code",
   "execution_count": 204,
   "metadata": {},
   "outputs": [
    {
     "data": {
      "text/plain": [
       "\"LanczosMatrix.csv\""
      ]
     },
     "execution_count": 204,
     "metadata": {},
     "output_type": "execute_result"
    }
   ],
   "source": [
    "A = zeros(10,10)\n",
    "for i=1:10\n",
    "    A[:,i] = Lanczos((H_X,H_Y,H_Z,HamiltonFloat(H_Matrix[:,i],3,LT)),Oj,TT)\n",
    "end\n",
    "CSV.write(\"LanczosMatrix.csv\", DataFrame(A),  \n",
    "                         header = false)   "
   ]
  },
  {
   "cell_type": "code",
   "execution_count": 207,
   "metadata": {},
   "outputs": [],
   "source": [
    "meanA = zeros(10)\n",
    "for i = 1:10\n",
    "    meanA[i] = sum(A[i,:])/10\n",
    "end"
   ]
  },
  {
   "cell_type": "code",
   "execution_count": 208,
   "metadata": {},
   "outputs": [
    {
     "data": {
      "text/plain": [
       "10-element Array{Float64,1}:\n",
       "  0.0\n",
       " 16.38711035991349\n",
       "  7.2115094667915915\n",
       " 18.834703960175084\n",
       " 13.79248623456991\n",
       " 34.06682780708835\n",
       " 29.326891141650616\n",
       " 26.42130422323878\n",
       " 27.38979573582435\n",
       " 38.272969375689044"
      ]
     },
     "execution_count": 208,
     "metadata": {},
     "output_type": "execute_result"
    }
   ],
   "source": [
    "meanA"
   ]
  },
  {
   "cell_type": "markdown",
   "metadata": {},
   "source": []
  },
  {
   "cell_type": "code",
   "execution_count": null,
   "metadata": {},
   "outputs": [],
   "source": []
  },
  {
   "cell_type": "code",
   "execution_count": null,
   "metadata": {},
   "outputs": [],
   "source": []
  },
  {
   "cell_type": "code",
   "execution_count": null,
   "metadata": {},
   "outputs": [],
   "source": []
  },
  {
   "cell_type": "code",
   "execution_count": null,
   "metadata": {},
   "outputs": [],
   "source": []
  },
  {
   "cell_type": "code",
   "execution_count": null,
   "metadata": {},
   "outputs": [],
   "source": []
  },
  {
   "cell_type": "code",
   "execution_count": null,
   "metadata": {},
   "outputs": [],
   "source": []
  },
  {
   "cell_type": "code",
   "execution_count": null,
   "metadata": {},
   "outputs": [],
   "source": []
  },
  {
   "cell_type": "code",
   "execution_count": null,
   "metadata": {},
   "outputs": [],
   "source": []
  },
  {
   "cell_type": "code",
   "execution_count": 67,
   "metadata": {},
   "outputs": [
    {
     "data": {
      "text/plain": [
       "LCLHAM (generic function with 1 method)"
      ]
     },
     "execution_count": 67,
     "metadata": {},
     "output_type": "execute_result"
    }
   ],
   "source": [
    "function LCLHAM(H::Tuple{Tuple{Array{Complex{Float64},1},Array{Array{Int64,1},1}},Tuple{Array{Complex{Float64},1},Array{Array{Int64,1},1}},Tuple{Array{Complex{Float64},1},Array{Array{Int64,1},1}}},i::Int64)\n",
    "    \n",
    "    return ((H[1][1][convert(Int64,floor(LT/2))-(i-1):convert(Int64,ceil(LT/2))+(i-1)],H[1][2][convert(Int64,floor(LT/2))-(i-1):convert(Int64,ceil(LT/2))+(i-1)]),(H[2][1][convert(Int64,floor(LT/2))-(i-1):convert(Int64,ceil(LT/2))+(i-1)],H[2][2][convert(Int64,floor(LT/2))-(i-1):convert(Int64,ceil(LT/2))+(i-1)]),(H[3][1][convert(Int64,floor(LT/2))-(i-1):convert(Int64,ceil(LT/2))+(i-1)],H[3][2][convert(Int64,floor(LT/2))-(i-1):convert(Int64,ceil(LT/2))+(i-1)]))\n",
    "end"
   ]
  },
  {
   "cell_type": "code",
   "execution_count": null,
   "metadata": {},
   "outputs": [],
   "source": []
  },
  {
   "cell_type": "code",
   "execution_count": 68,
   "metadata": {},
   "outputs": [
    {
     "data": {
      "text/plain": [
       "Lanczos3LOCAL (generic function with 1 method)"
      ]
     },
     "execution_count": 68,
     "metadata": {},
     "output_type": "execute_result"
    }
   ],
   "source": [
    "function Lanczos3LOCAL(H::Tuple{Tuple{Array{Complex{Float64},1},Array{Array{Int64,1},1}},Tuple{Array{Complex{Float64},1},Array{Array{Int64,1},1}},Tuple{Array{Complex{Float64},1},Array{Array{Int64,1},1}}},O::Tuple{Array{Complex{Float64},1},Array{Array{Int64,1},1}},V::Tuple{Int64,Int64})\n",
    "    bn  = convert(Array{Float64},zeros(V[1]))\n",
    "    On = [(Complex{Float64}[], Array{Int64,1}[]) for i in 1:V[1]]\n",
    "    An = [sparse(convert(Array{Complex{Float64}},zeros(4^5))) for i in 1:V[1]]\n",
    "    \n",
    "    \n",
    "    On[1] = O\n",
    "    \n",
    "    An[1] = Liouville2(LCLHAM(AH,1),On[1],V[2])\n",
    "    bn[2] = sqrt(dot(An[1],An[1]))\n",
    "    On[2] = IndexVector_to_CoefandPauli((1/(bn[2])) * An[1],V[2])\n",
    "    \n",
    "    for i=2:V[1]-1\n",
    "        An[i] = Liouville2(LCLHAM(AH,i),On[i],V[2]) - bn[i] * CoefandPauli_to_IndexVector(On[i-1],V[2])\n",
    "        bn[i+1] = sqrt(dot(An[i],An[i]))\n",
    "        \n",
    "        On[i+1] = IndexVector_to_CoefandPauli(1/bn[i+1] * An[i],V[2]) \n",
    "    \n",
    "    end\n",
    "    \n",
    "    return bn\n",
    "end"
   ]
  },
  {
   "cell_type": "code",
   "execution_count": 71,
   "metadata": {},
   "outputs": [
    {
     "name": "stdout",
     "output_type": "stream",
     "text": [
      "  6.263867 seconds (22.02 M allocations: 5.238 GiB, 21.60% gc time)\n"
     ]
    },
    {
     "data": {
      "text/plain": [
       "9-element Array{Float64,1}:\n",
       " 0.0\n",
       " 4.0\n",
       " 5.291502622129181\n",
       " 4.898979485566356\n",
       " 6.187545093630777\n",
       " 6.677567491596992\n",
       " 7.797744991997943\n",
       " 8.096633251217776\n",
       " 9.232217972128058"
      ]
     },
     "execution_count": 71,
     "metadata": {},
     "output_type": "execute_result"
    }
   ],
   "source": [
    "@time Lanczos3LOCAL(AH,Oj,TT)"
   ]
  },
  {
   "cell_type": "code",
   "execution_count": 72,
   "metadata": {},
   "outputs": [],
   "source": [
    "#The speed up due to locality is very small. "
   ]
  },
  {
   "cell_type": "code",
   "execution_count": null,
   "metadata": {},
   "outputs": [],
   "source": []
  },
  {
   "cell_type": "code",
   "execution_count": null,
   "metadata": {},
   "outputs": [],
   "source": []
  },
  {
   "cell_type": "code",
   "execution_count": 73,
   "metadata": {},
   "outputs": [],
   "source": [
    "using Plots"
   ]
  },
  {
   "cell_type": "code",
   "execution_count": 74,
   "metadata": {},
   "outputs": [
    {
     "data": {
      "image/svg+xml": [
       "<?xml version=\"1.0\" encoding=\"utf-8\"?>\n",
       "<svg xmlns=\"http://www.w3.org/2000/svg\" xmlns:xlink=\"http://www.w3.org/1999/xlink\" width=\"600\" height=\"400\" viewBox=\"0 0 2400 1600\">\n",
       "<defs>\n",
       "  <clipPath id=\"clip170\">\n",
       "    <rect x=\"0\" y=\"0\" width=\"2400\" height=\"1600\"/>\n",
       "  </clipPath>\n",
       "</defs>\n",
       "<path clip-path=\"url(#clip170)\" d=\"\n",
       "M0 1600 L2400 1600 L2400 0 L0 0  Z\n",
       "  \" fill=\"#ffffff\" fill-rule=\"evenodd\" fill-opacity=\"1\"/>\n",
       "<defs>\n",
       "  <clipPath id=\"clip171\">\n",
       "    <rect x=\"480\" y=\"0\" width=\"1681\" height=\"1600\"/>\n",
       "  </clipPath>\n",
       "</defs>\n",
       "<path clip-path=\"url(#clip170)\" d=\"\n",
       "M197.852 1423.18 L2352.76 1423.18 L2352.76 123.472 L197.852 123.472  Z\n",
       "  \" fill=\"#ffffff\" fill-rule=\"evenodd\" fill-opacity=\"1\"/>\n",
       "<defs>\n",
       "  <clipPath id=\"clip172\">\n",
       "    <rect x=\"197\" y=\"123\" width=\"2156\" height=\"1301\"/>\n",
       "  </clipPath>\n",
       "</defs>\n",
       "<polyline clip-path=\"url(#clip172)\" style=\"stroke:#000000; stroke-width:2; stroke-opacity:0.1; fill:none\" points=\"\n",
       "  258.84,1423.18 258.84,123.472 \n",
       "  \"/>\n",
       "<polyline clip-path=\"url(#clip172)\" style=\"stroke:#000000; stroke-width:2; stroke-opacity:0.1; fill:none\" points=\"\n",
       "  728.93,1423.18 728.93,123.472 \n",
       "  \"/>\n",
       "<polyline clip-path=\"url(#clip172)\" style=\"stroke:#000000; stroke-width:2; stroke-opacity:0.1; fill:none\" points=\"\n",
       "  1199.02,1423.18 1199.02,123.472 \n",
       "  \"/>\n",
       "<polyline clip-path=\"url(#clip172)\" style=\"stroke:#000000; stroke-width:2; stroke-opacity:0.1; fill:none\" points=\"\n",
       "  1669.11,1423.18 1669.11,123.472 \n",
       "  \"/>\n",
       "<polyline clip-path=\"url(#clip172)\" style=\"stroke:#000000; stroke-width:2; stroke-opacity:0.1; fill:none\" points=\"\n",
       "  2139.2,1423.18 2139.2,123.472 \n",
       "  \"/>\n",
       "<polyline clip-path=\"url(#clip170)\" style=\"stroke:#000000; stroke-width:4; stroke-opacity:1; fill:none\" points=\"\n",
       "  197.852,1423.18 2352.76,1423.18 \n",
       "  \"/>\n",
       "<polyline clip-path=\"url(#clip170)\" style=\"stroke:#000000; stroke-width:4; stroke-opacity:1; fill:none\" points=\"\n",
       "  258.84,1423.18 258.84,1407.58 \n",
       "  \"/>\n",
       "<polyline clip-path=\"url(#clip170)\" style=\"stroke:#000000; stroke-width:4; stroke-opacity:1; fill:none\" points=\"\n",
       "  728.93,1423.18 728.93,1407.58 \n",
       "  \"/>\n",
       "<polyline clip-path=\"url(#clip170)\" style=\"stroke:#000000; stroke-width:4; stroke-opacity:1; fill:none\" points=\"\n",
       "  1199.02,1423.18 1199.02,1407.58 \n",
       "  \"/>\n",
       "<polyline clip-path=\"url(#clip170)\" style=\"stroke:#000000; stroke-width:4; stroke-opacity:1; fill:none\" points=\"\n",
       "  1669.11,1423.18 1669.11,1407.58 \n",
       "  \"/>\n",
       "<polyline clip-path=\"url(#clip170)\" style=\"stroke:#000000; stroke-width:4; stroke-opacity:1; fill:none\" points=\"\n",
       "  2139.2,1423.18 2139.2,1407.58 \n",
       "  \"/>\n",
       "<path clip-path=\"url(#clip170)\" d=\"M 0 0 M230.739 1479.92 L238.377 1479.92 L238.377 1453.55 L230.067 1455.22 L230.067 1450.96 L238.331 1449.29 L243.007 1449.29 L243.007 1479.92 L250.646 1479.92 L250.646 1483.85 L230.739 1483.85 L230.739 1479.92 Z\" fill=\"#000000\" fill-rule=\"evenodd\" fill-opacity=\"1\" /><path clip-path=\"url(#clip170)\" d=\"M 0 0 M255.715 1477.97 L260.6 1477.97 L260.6 1483.85 L255.715 1483.85 L255.715 1477.97 Z\" fill=\"#000000\" fill-rule=\"evenodd\" fill-opacity=\"1\" /><path clip-path=\"url(#clip170)\" d=\"M 0 0 M275.669 1452.37 Q272.058 1452.37 270.229 1455.94 Q268.424 1459.48 268.424 1466.61 Q268.424 1473.71 270.229 1477.28 Q272.058 1480.82 275.669 1480.82 Q279.303 1480.82 281.109 1477.28 Q282.937 1473.71 282.937 1466.61 Q282.937 1459.48 281.109 1455.94 Q279.303 1452.37 275.669 1452.37 M275.669 1448.67 Q281.479 1448.67 284.535 1453.27 Q287.613 1457.86 287.613 1466.61 Q287.613 1475.33 284.535 1479.94 Q281.479 1484.52 275.669 1484.52 Q269.859 1484.52 266.78 1479.94 Q263.725 1475.33 263.725 1466.61 Q263.725 1457.86 266.78 1453.27 Q269.859 1448.67 275.669 1448.67 Z\" fill=\"#000000\" fill-rule=\"evenodd\" fill-opacity=\"1\" /><path clip-path=\"url(#clip170)\" d=\"M 0 0 M701.326 1479.92 L708.965 1479.92 L708.965 1453.55 L700.654 1455.22 L700.654 1450.96 L708.918 1449.29 L713.594 1449.29 L713.594 1479.92 L721.233 1479.92 L721.233 1483.85 L701.326 1483.85 L701.326 1479.92 Z\" fill=\"#000000\" fill-rule=\"evenodd\" fill-opacity=\"1\" /><path clip-path=\"url(#clip170)\" d=\"M 0 0 M726.302 1477.97 L731.187 1477.97 L731.187 1483.85 L726.302 1483.85 L726.302 1477.97 Z\" fill=\"#000000\" fill-rule=\"evenodd\" fill-opacity=\"1\" /><path clip-path=\"url(#clip170)\" d=\"M 0 0 M736.302 1449.29 L754.659 1449.29 L754.659 1453.23 L740.585 1453.23 L740.585 1461.7 Q741.603 1461.35 742.622 1461.19 Q743.64 1461 744.659 1461 Q750.446 1461 753.825 1464.18 Q757.205 1467.35 757.205 1472.76 Q757.205 1478.34 753.733 1481.44 Q750.261 1484.52 743.941 1484.52 Q741.765 1484.52 739.497 1484.15 Q737.251 1483.78 734.844 1483.04 L734.844 1478.34 Q736.927 1479.48 739.15 1480.03 Q741.372 1480.59 743.849 1480.59 Q747.853 1480.59 750.191 1478.48 Q752.529 1476.38 752.529 1472.76 Q752.529 1469.15 750.191 1467.05 Q747.853 1464.94 743.849 1464.94 Q741.974 1464.94 740.099 1465.36 Q738.247 1465.77 736.302 1466.65 L736.302 1449.29 Z\" fill=\"#000000\" fill-rule=\"evenodd\" fill-opacity=\"1\" /><path clip-path=\"url(#clip170)\" d=\"M 0 0 M1175.19 1479.92 L1191.51 1479.92 L1191.51 1483.85 L1169.56 1483.85 L1169.56 1479.92 Q1172.23 1477.16 1176.81 1472.53 Q1181.42 1467.88 1182.6 1466.54 Q1184.84 1464.01 1185.72 1462.28 Q1186.62 1460.52 1186.62 1458.83 Q1186.62 1456.07 1184.68 1454.34 Q1182.76 1452.6 1179.66 1452.6 Q1177.46 1452.6 1175 1453.37 Q1172.57 1454.13 1169.79 1455.68 L1169.79 1450.96 Q1172.62 1449.82 1175.07 1449.25 Q1177.53 1448.67 1179.56 1448.67 Q1184.93 1448.67 1188.13 1451.35 Q1191.32 1454.04 1191.32 1458.53 Q1191.32 1460.66 1190.51 1462.58 Q1189.73 1464.48 1187.62 1467.07 Q1187.04 1467.74 1183.94 1470.96 Q1180.84 1474.15 1175.19 1479.92 Z\" fill=\"#000000\" fill-rule=\"evenodd\" fill-opacity=\"1\" /><path clip-path=\"url(#clip170)\" d=\"M 0 0 M1196.58 1477.97 L1201.46 1477.97 L1201.46 1483.85 L1196.58 1483.85 L1196.58 1477.97 Z\" fill=\"#000000\" fill-rule=\"evenodd\" fill-opacity=\"1\" /><path clip-path=\"url(#clip170)\" d=\"M 0 0 M1216.53 1452.37 Q1212.92 1452.37 1211.09 1455.94 Q1209.29 1459.48 1209.29 1466.61 Q1209.29 1473.71 1211.09 1477.28 Q1212.92 1480.82 1216.53 1480.82 Q1220.16 1480.82 1221.97 1477.28 Q1223.8 1473.71 1223.8 1466.61 Q1223.8 1459.48 1221.97 1455.94 Q1220.16 1452.37 1216.53 1452.37 M1216.53 1448.67 Q1222.34 1448.67 1225.4 1453.27 Q1228.48 1457.86 1228.48 1466.61 Q1228.48 1475.33 1225.4 1479.94 Q1222.34 1484.52 1216.53 1484.52 Q1210.72 1484.52 1207.64 1479.94 Q1204.59 1475.33 1204.59 1466.61 Q1204.59 1457.86 1207.64 1453.27 Q1210.72 1448.67 1216.53 1448.67 Z\" fill=\"#000000\" fill-rule=\"evenodd\" fill-opacity=\"1\" /><path clip-path=\"url(#clip170)\" d=\"M 0 0 M1645.78 1479.92 L1662.09 1479.92 L1662.09 1483.85 L1640.15 1483.85 L1640.15 1479.92 Q1642.81 1477.16 1647.4 1472.53 Q1652 1467.88 1653.18 1466.54 Q1655.43 1464.01 1656.31 1462.28 Q1657.21 1460.52 1657.21 1458.83 Q1657.21 1456.07 1655.27 1454.34 Q1653.34 1452.6 1650.24 1452.6 Q1648.04 1452.6 1645.59 1453.37 Q1643.16 1454.13 1640.38 1455.68 L1640.38 1450.96 Q1643.21 1449.82 1645.66 1449.25 Q1648.11 1448.67 1650.15 1448.67 Q1655.52 1448.67 1658.72 1451.35 Q1661.91 1454.04 1661.91 1458.53 Q1661.91 1460.66 1661.1 1462.58 Q1660.31 1464.48 1658.21 1467.07 Q1657.63 1467.74 1654.53 1470.96 Q1651.42 1474.15 1645.78 1479.92 Z\" fill=\"#000000\" fill-rule=\"evenodd\" fill-opacity=\"1\" /><path clip-path=\"url(#clip170)\" d=\"M 0 0 M1667.16 1477.97 L1672.05 1477.97 L1672.05 1483.85 L1667.16 1483.85 L1667.16 1477.97 Z\" fill=\"#000000\" fill-rule=\"evenodd\" fill-opacity=\"1\" /><path clip-path=\"url(#clip170)\" d=\"M 0 0 M1677.16 1449.29 L1695.52 1449.29 L1695.52 1453.23 L1681.45 1453.23 L1681.45 1461.7 Q1682.47 1461.35 1683.48 1461.19 Q1684.5 1461 1685.52 1461 Q1691.31 1461 1694.69 1464.18 Q1698.07 1467.35 1698.07 1472.76 Q1698.07 1478.34 1694.59 1481.44 Q1691.12 1484.52 1684.8 1484.52 Q1682.63 1484.52 1680.36 1484.15 Q1678.11 1483.78 1675.71 1483.04 L1675.71 1478.34 Q1677.79 1479.48 1680.01 1480.03 Q1682.23 1480.59 1684.71 1480.59 Q1688.71 1480.59 1691.05 1478.48 Q1693.39 1476.38 1693.39 1472.76 Q1693.39 1469.15 1691.05 1467.05 Q1688.71 1464.94 1684.71 1464.94 Q1682.84 1464.94 1680.96 1465.36 Q1679.11 1465.77 1677.16 1466.65 L1677.16 1449.29 Z\" fill=\"#000000\" fill-rule=\"evenodd\" fill-opacity=\"1\" /><path clip-path=\"url(#clip170)\" d=\"M 0 0 M2124.96 1465.22 Q2128.32 1465.94 2130.19 1468.2 Q2132.09 1470.47 2132.09 1473.81 Q2132.09 1478.92 2128.57 1481.72 Q2125.05 1484.52 2118.57 1484.52 Q2116.4 1484.52 2114.08 1484.08 Q2111.79 1483.67 2109.34 1482.81 L2109.34 1478.3 Q2111.28 1479.43 2113.6 1480.01 Q2115.91 1480.59 2118.43 1480.59 Q2122.83 1480.59 2125.12 1478.85 Q2127.44 1477.12 2127.44 1473.81 Q2127.44 1470.75 2125.29 1469.04 Q2123.16 1467.3 2119.34 1467.3 L2115.31 1467.3 L2115.31 1463.46 L2119.52 1463.46 Q2122.97 1463.46 2124.8 1462.09 Q2126.63 1460.7 2126.63 1458.11 Q2126.63 1455.45 2124.73 1454.04 Q2122.86 1452.6 2119.34 1452.6 Q2117.42 1452.6 2115.22 1453.02 Q2113.02 1453.44 2110.38 1454.31 L2110.38 1450.15 Q2113.04 1449.41 2115.36 1449.04 Q2117.69 1448.67 2119.75 1448.67 Q2125.08 1448.67 2128.18 1451.1 Q2131.28 1453.5 2131.28 1457.63 Q2131.28 1460.5 2129.64 1462.49 Q2127.99 1464.45 2124.96 1465.22 Z\" fill=\"#000000\" fill-rule=\"evenodd\" fill-opacity=\"1\" /><path clip-path=\"url(#clip170)\" d=\"M 0 0 M2137.16 1477.97 L2142.05 1477.97 L2142.05 1483.85 L2137.16 1483.85 L2137.16 1477.97 Z\" fill=\"#000000\" fill-rule=\"evenodd\" fill-opacity=\"1\" /><path clip-path=\"url(#clip170)\" d=\"M 0 0 M2157.11 1452.37 Q2153.5 1452.37 2151.67 1455.94 Q2149.87 1459.48 2149.87 1466.61 Q2149.87 1473.71 2151.67 1477.28 Q2153.5 1480.82 2157.11 1480.82 Q2160.75 1480.82 2162.55 1477.28 Q2164.38 1473.71 2164.38 1466.61 Q2164.38 1459.48 2162.55 1455.94 Q2160.75 1452.37 2157.11 1452.37 M2157.11 1448.67 Q2162.92 1448.67 2165.98 1453.27 Q2169.06 1457.86 2169.06 1466.61 Q2169.06 1475.33 2165.98 1479.94 Q2162.92 1484.52 2157.11 1484.52 Q2151.3 1484.52 2148.23 1479.94 Q2145.17 1475.33 2145.17 1466.61 Q2145.17 1457.86 2148.23 1453.27 Q2151.3 1448.67 2157.11 1448.67 Z\" fill=\"#000000\" fill-rule=\"evenodd\" fill-opacity=\"1\" /><path clip-path=\"url(#clip170)\" d=\"M 0 0 M1205.98 1521.45 L1205.98 1526.98 Q1203.5 1525.71 1200.83 1525.07 Q1198.15 1524.44 1195.29 1524.44 Q1190.93 1524.44 1188.73 1525.77 Q1186.57 1527.11 1186.57 1529.79 Q1186.57 1531.82 1188.13 1533 Q1189.69 1534.15 1194.4 1535.2 L1196.4 1535.64 Q1202.64 1536.98 1205.25 1539.43 Q1207.89 1541.85 1207.89 1546.21 Q1207.89 1551.17 1203.94 1554.07 Q1200.03 1556.97 1193.15 1556.97 Q1190.29 1556.97 1187.17 1556.39 Q1184.08 1555.85 1180.65 1554.74 L1180.65 1548.69 Q1183.89 1550.38 1187.04 1551.24 Q1190.19 1552.07 1193.28 1552.07 Q1197.42 1552.07 1199.65 1550.66 Q1201.88 1549.23 1201.88 1546.65 Q1201.88 1544.27 1200.25 1542.99 Q1198.66 1541.72 1193.22 1540.54 L1191.18 1540.07 Q1185.74 1538.92 1183.32 1536.56 Q1180.9 1534.18 1180.9 1530.04 Q1180.9 1525.01 1184.47 1522.27 Q1188.03 1519.54 1194.59 1519.54 Q1197.83 1519.54 1200.7 1520.01 Q1203.56 1520.49 1205.98 1521.45 Z\" fill=\"#000000\" fill-rule=\"evenodd\" fill-opacity=\"1\" /><path clip-path=\"url(#clip170)\" d=\"M 0 0 M1217.54 1538.25 Q1217.54 1544.71 1220.18 1548.4 Q1222.85 1552.07 1227.5 1552.07 Q1232.14 1552.07 1234.82 1548.4 Q1237.49 1544.71 1237.49 1538.25 Q1237.49 1531.79 1234.82 1528.13 Q1232.14 1524.44 1227.5 1524.44 Q1222.85 1524.44 1220.18 1528.13 Q1217.54 1531.79 1217.54 1538.25 M1237.49 1550.7 Q1235.65 1553.88 1232.81 1555.44 Q1230.01 1556.97 1226.07 1556.97 Q1219.6 1556.97 1215.53 1551.81 Q1211.49 1546.65 1211.49 1538.25 Q1211.49 1529.85 1215.53 1524.69 Q1219.6 1519.54 1226.07 1519.54 Q1230.01 1519.54 1232.81 1521.1 Q1235.65 1522.62 1237.49 1525.81 L1237.49 1520.4 L1243.35 1520.4 L1243.35 1569.6 L1237.49 1569.6 L1237.49 1550.7 Z\" fill=\"#000000\" fill-rule=\"evenodd\" fill-opacity=\"1\" /><path clip-path=\"url(#clip170)\" d=\"M 0 0 M1270.15 1525.87 Q1269.16 1525.3 1267.98 1525.04 Q1266.84 1524.76 1265.44 1524.76 Q1260.47 1524.76 1257.8 1528 Q1255.16 1531.22 1255.16 1537.27 L1255.16 1556.04 L1249.27 1556.04 L1249.27 1520.4 L1255.16 1520.4 L1255.16 1525.93 Q1257 1522.69 1259.96 1521.13 Q1262.92 1519.54 1267.16 1519.54 Q1267.76 1519.54 1268.49 1519.63 Q1269.22 1519.7 1270.12 1519.85 L1270.15 1525.87 Z\" fill=\"#000000\" fill-rule=\"evenodd\" fill-opacity=\"1\" /><path clip-path=\"url(#clip170)\" d=\"M 0 0 M1282.08 1510.27 L1282.08 1520.4 L1294.15 1520.4 L1294.15 1524.95 L1282.08 1524.95 L1282.08 1544.3 Q1282.08 1548.66 1283.26 1549.9 Q1284.47 1551.14 1288.13 1551.14 L1294.15 1551.14 L1294.15 1556.04 L1288.13 1556.04 Q1281.35 1556.04 1278.77 1553.53 Q1276.2 1550.98 1276.2 1544.3 L1276.2 1524.95 L1271.9 1524.95 L1271.9 1520.4 L1276.2 1520.4 L1276.2 1510.27 L1282.08 1510.27 Z\" fill=\"#000000\" fill-rule=\"evenodd\" fill-opacity=\"1\" /><path clip-path=\"url(#clip170)\" d=\"M 0 0 M1314.36 1506.58 Q1310.09 1513.9 1308.02 1521.06 Q1305.96 1528.23 1305.96 1535.58 Q1305.96 1542.93 1308.02 1550.16 Q1310.12 1557.35 1314.36 1564.64 L1309.27 1564.64 Q1304.49 1557.16 1302.1 1549.93 Q1299.75 1542.71 1299.75 1535.58 Q1299.75 1528.48 1302.1 1521.29 Q1304.46 1514.09 1309.27 1506.58 L1314.36 1506.58 Z\" fill=\"#000000\" fill-rule=\"evenodd\" fill-opacity=\"1\" /><path clip-path=\"url(#clip170)\" d=\"M 0 0 M1350.13 1534.53 L1350.13 1556.04 L1344.28 1556.04 L1344.28 1534.72 Q1344.28 1529.66 1342.3 1527.14 Q1340.33 1524.63 1336.38 1524.63 Q1331.64 1524.63 1328.9 1527.65 Q1326.17 1530.68 1326.17 1535.9 L1326.17 1556.04 L1320.28 1556.04 L1320.28 1520.4 L1326.17 1520.4 L1326.17 1525.93 Q1328.27 1522.72 1331.1 1521.13 Q1333.96 1519.54 1337.69 1519.54 Q1343.83 1519.54 1346.98 1523.36 Q1350.13 1527.14 1350.13 1534.53 Z\" fill=\"#000000\" fill-rule=\"evenodd\" fill-opacity=\"1\" /><path clip-path=\"url(#clip170)\" d=\"M 0 0 M1355.35 1506.58 L1360.45 1506.58 Q1365.22 1514.09 1367.58 1521.29 Q1369.96 1528.48 1369.96 1535.58 Q1369.96 1542.71 1367.58 1549.93 Q1365.22 1557.16 1360.45 1564.64 L1355.35 1564.64 Q1359.59 1557.35 1361.66 1550.16 Q1363.76 1542.93 1363.76 1535.58 Q1363.76 1528.23 1361.66 1521.06 Q1359.59 1513.9 1355.35 1506.58 Z\" fill=\"#000000\" fill-rule=\"evenodd\" fill-opacity=\"1\" /><polyline clip-path=\"url(#clip172)\" style=\"stroke:#000000; stroke-width:2; stroke-opacity:0.1; fill:none\" points=\"\n",
       "  197.852,1365.75 2352.76,1365.75 \n",
       "  \"/>\n",
       "<polyline clip-path=\"url(#clip172)\" style=\"stroke:#000000; stroke-width:2; stroke-opacity:0.1; fill:none\" points=\"\n",
       "  197.852,1161.35 2352.76,1161.35 \n",
       "  \"/>\n",
       "<polyline clip-path=\"url(#clip172)\" style=\"stroke:#000000; stroke-width:2; stroke-opacity:0.1; fill:none\" points=\"\n",
       "  197.852,956.949 2352.76,956.949 \n",
       "  \"/>\n",
       "<polyline clip-path=\"url(#clip172)\" style=\"stroke:#000000; stroke-width:2; stroke-opacity:0.1; fill:none\" points=\"\n",
       "  197.852,752.55 2352.76,752.55 \n",
       "  \"/>\n",
       "<polyline clip-path=\"url(#clip172)\" style=\"stroke:#000000; stroke-width:2; stroke-opacity:0.1; fill:none\" points=\"\n",
       "  197.852,548.151 2352.76,548.151 \n",
       "  \"/>\n",
       "<polyline clip-path=\"url(#clip172)\" style=\"stroke:#000000; stroke-width:2; stroke-opacity:0.1; fill:none\" points=\"\n",
       "  197.852,343.752 2352.76,343.752 \n",
       "  \"/>\n",
       "<polyline clip-path=\"url(#clip172)\" style=\"stroke:#000000; stroke-width:2; stroke-opacity:0.1; fill:none\" points=\"\n",
       "  197.852,139.353 2352.76,139.353 \n",
       "  \"/>\n",
       "<polyline clip-path=\"url(#clip170)\" style=\"stroke:#000000; stroke-width:4; stroke-opacity:1; fill:none\" points=\"\n",
       "  197.852,1423.18 197.852,123.472 \n",
       "  \"/>\n",
       "<polyline clip-path=\"url(#clip170)\" style=\"stroke:#000000; stroke-width:4; stroke-opacity:1; fill:none\" points=\"\n",
       "  197.852,1365.75 223.711,1365.75 \n",
       "  \"/>\n",
       "<polyline clip-path=\"url(#clip170)\" style=\"stroke:#000000; stroke-width:4; stroke-opacity:1; fill:none\" points=\"\n",
       "  197.852,1161.35 223.711,1161.35 \n",
       "  \"/>\n",
       "<polyline clip-path=\"url(#clip170)\" style=\"stroke:#000000; stroke-width:4; stroke-opacity:1; fill:none\" points=\"\n",
       "  197.852,956.949 223.711,956.949 \n",
       "  \"/>\n",
       "<polyline clip-path=\"url(#clip170)\" style=\"stroke:#000000; stroke-width:4; stroke-opacity:1; fill:none\" points=\"\n",
       "  197.852,752.55 223.711,752.55 \n",
       "  \"/>\n",
       "<polyline clip-path=\"url(#clip170)\" style=\"stroke:#000000; stroke-width:4; stroke-opacity:1; fill:none\" points=\"\n",
       "  197.852,548.151 223.711,548.151 \n",
       "  \"/>\n",
       "<polyline clip-path=\"url(#clip170)\" style=\"stroke:#000000; stroke-width:4; stroke-opacity:1; fill:none\" points=\"\n",
       "  197.852,343.752 223.711,343.752 \n",
       "  \"/>\n",
       "<polyline clip-path=\"url(#clip170)\" style=\"stroke:#000000; stroke-width:4; stroke-opacity:1; fill:none\" points=\"\n",
       "  197.852,139.353 223.711,139.353 \n",
       "  \"/>\n",
       "<path clip-path=\"url(#clip170)\" d=\"M 0 0 M140.95 1348.47 L159.306 1348.47 L159.306 1352.4 L145.232 1352.4 L145.232 1360.87 Q146.251 1360.53 147.269 1360.37 Q148.288 1360.18 149.306 1360.18 Q155.093 1360.18 158.473 1363.35 Q161.852 1366.52 161.852 1371.94 Q161.852 1377.52 158.38 1380.62 Q154.908 1383.7 148.589 1383.7 Q146.413 1383.7 144.144 1383.33 Q141.899 1382.96 139.492 1382.22 L139.492 1377.52 Q141.575 1378.65 143.797 1379.21 Q146.019 1379.76 148.496 1379.76 Q152.501 1379.76 154.839 1377.66 Q157.177 1375.55 157.177 1371.94 Q157.177 1368.33 154.839 1366.22 Q152.501 1364.12 148.496 1364.12 Q146.621 1364.12 144.746 1364.53 Q142.894 1364.95 140.95 1365.83 L140.95 1348.47 Z\" fill=\"#000000\" fill-rule=\"evenodd\" fill-opacity=\"1\" /><path clip-path=\"url(#clip170)\" d=\"M 0 0 M150.325 1159.48 Q147.177 1159.48 145.325 1161.64 Q143.496 1163.79 143.496 1167.54 Q143.496 1171.27 145.325 1173.44 Q147.177 1175.6 150.325 1175.6 Q153.473 1175.6 155.302 1173.44 Q157.153 1171.27 157.153 1167.54 Q157.153 1163.79 155.302 1161.64 Q153.473 1159.48 150.325 1159.48 M159.607 1144.83 L159.607 1149.09 Q157.848 1148.26 156.042 1147.82 Q154.26 1147.38 152.501 1147.38 Q147.871 1147.38 145.417 1150.5 Q142.987 1153.63 142.64 1159.95 Q144.005 1157.93 146.066 1156.87 Q148.126 1155.78 150.603 1155.78 Q155.811 1155.78 158.82 1158.95 Q161.852 1162.1 161.852 1167.54 Q161.852 1172.86 158.704 1176.08 Q155.556 1179.3 150.325 1179.3 Q144.329 1179.3 141.158 1174.72 Q137.987 1170.11 137.987 1161.38 Q137.987 1153.19 141.876 1148.33 Q145.765 1143.44 152.316 1143.44 Q154.075 1143.44 155.857 1143.79 Q157.663 1144.14 159.607 1144.83 Z\" fill=\"#000000\" fill-rule=\"evenodd\" fill-opacity=\"1\" /><path clip-path=\"url(#clip170)\" d=\"M 0 0 M139.63 939.669 L161.852 939.669 L161.852 941.66 L149.306 974.229 L144.422 974.229 L156.228 943.604 L139.63 943.604 L139.63 939.669 Z\" fill=\"#000000\" fill-rule=\"evenodd\" fill-opacity=\"1\" /><path clip-path=\"url(#clip170)\" d=\"M 0 0 M150.001 753.418 Q146.667 753.418 144.746 755.201 Q142.848 756.983 142.848 760.108 Q142.848 763.233 144.746 765.015 Q146.667 766.798 150.001 766.798 Q153.334 766.798 155.255 765.015 Q157.177 763.21 157.177 760.108 Q157.177 756.983 155.255 755.201 Q153.357 753.418 150.001 753.418 M145.325 751.427 Q142.316 750.687 140.626 748.627 Q138.959 746.566 138.959 743.603 Q138.959 739.46 141.899 737.053 Q144.862 734.645 150.001 734.645 Q155.163 734.645 158.103 737.053 Q161.042 739.46 161.042 743.603 Q161.042 746.566 159.353 748.627 Q157.686 750.687 154.7 751.427 Q158.079 752.214 159.954 754.506 Q161.852 756.798 161.852 760.108 Q161.852 765.131 158.774 767.816 Q155.718 770.501 150.001 770.501 Q144.283 770.501 141.204 767.816 Q138.149 765.131 138.149 760.108 Q138.149 756.798 140.047 754.506 Q141.945 752.214 145.325 751.427 M143.612 744.043 Q143.612 746.728 145.279 748.233 Q146.968 749.738 150.001 749.738 Q153.01 749.738 154.7 748.233 Q156.413 746.728 156.413 744.043 Q156.413 741.358 154.7 739.853 Q153.01 738.349 150.001 738.349 Q146.968 738.349 145.279 739.853 Q143.612 741.358 143.612 744.043 Z\" fill=\"#000000\" fill-rule=\"evenodd\" fill-opacity=\"1\" /><path clip-path=\"url(#clip170)\" d=\"M 0 0 M140.232 564.714 L140.232 560.454 Q141.991 561.288 143.797 561.727 Q145.603 562.167 147.339 562.167 Q151.968 562.167 154.399 559.065 Q156.853 555.94 157.2 549.598 Q155.857 551.589 153.797 552.653 Q151.737 553.718 149.237 553.718 Q144.052 553.718 141.019 550.593 Q138.01 547.445 138.01 542.005 Q138.01 536.681 141.158 533.464 Q144.306 530.246 149.538 530.246 Q155.533 530.246 158.681 534.853 Q161.852 539.436 161.852 548.186 Q161.852 556.357 157.964 561.241 Q154.098 566.102 147.547 566.102 Q145.788 566.102 143.982 565.755 Q142.177 565.408 140.232 564.714 M149.538 550.061 Q152.686 550.061 154.515 547.908 Q156.366 545.755 156.366 542.005 Q156.366 538.278 154.515 536.126 Q152.686 533.95 149.538 533.95 Q146.39 533.95 144.538 536.126 Q142.709 538.278 142.709 542.005 Q142.709 545.755 144.538 547.908 Q146.39 550.061 149.538 550.061 Z\" fill=\"#000000\" fill-rule=\"evenodd\" fill-opacity=\"1\" /><path clip-path=\"url(#clip170)\" d=\"M 0 0 M114.931 357.097 L122.57 357.097 L122.57 330.731 L114.26 332.398 L114.26 328.139 L122.524 326.472 L127.2 326.472 L127.2 357.097 L134.839 357.097 L134.839 361.032 L114.931 361.032 L114.931 357.097 Z\" fill=\"#000000\" fill-rule=\"evenodd\" fill-opacity=\"1\" /><path clip-path=\"url(#clip170)\" d=\"M 0 0 M149.908 329.551 Q146.297 329.551 144.468 333.116 Q142.663 336.657 142.663 343.787 Q142.663 350.893 144.468 354.458 Q146.297 358 149.908 358 Q153.542 358 155.348 354.458 Q157.177 350.893 157.177 343.787 Q157.177 336.657 155.348 333.116 Q153.542 329.551 149.908 329.551 M149.908 325.847 Q155.718 325.847 158.774 330.454 Q161.852 335.037 161.852 343.787 Q161.852 352.514 158.774 357.12 Q155.718 361.703 149.908 361.703 Q144.098 361.703 141.019 357.12 Q137.964 352.514 137.964 343.787 Q137.964 335.037 141.019 330.454 Q144.098 325.847 149.908 325.847 Z\" fill=\"#000000\" fill-rule=\"evenodd\" fill-opacity=\"1\" /><path clip-path=\"url(#clip170)\" d=\"M 0 0 M116.158 152.698 L123.797 152.698 L123.797 126.332 L115.487 127.999 L115.487 123.74 L123.751 122.073 L128.427 122.073 L128.427 152.698 L136.066 152.698 L136.066 156.633 L116.158 156.633 L116.158 152.698 Z\" fill=\"#000000\" fill-rule=\"evenodd\" fill-opacity=\"1\" /><path clip-path=\"url(#clip170)\" d=\"M 0 0 M141.945 152.698 L149.584 152.698 L149.584 126.332 L141.274 127.999 L141.274 123.74 L149.538 122.073 L154.214 122.073 L154.214 152.698 L161.852 152.698 L161.852 156.633 L141.945 156.633 L141.945 152.698 Z\" fill=\"#000000\" fill-rule=\"evenodd\" fill-opacity=\"1\" /><path clip-path=\"url(#clip170)\" d=\"M 0 0 M70.212 781.347 Q63.7508 781.347 60.0905 784.02 Q56.3984 786.662 56.3984 791.309 Q56.3984 795.956 60.0905 798.63 Q63.7508 801.271 70.212 801.271 Q76.6732 801.271 80.3653 798.63 Q84.0256 795.956 84.0256 791.309 Q84.0256 786.662 80.3653 784.02 Q76.6732 781.347 70.212 781.347 M57.7671 801.271 Q54.5842 799.425 53.0564 796.624 Q51.4968 793.792 51.4968 789.877 Q51.4968 783.384 56.6531 779.342 Q61.8093 775.268 70.212 775.268 Q78.6147 775.268 83.771 779.342 Q88.9272 783.384 88.9272 789.877 Q88.9272 793.792 87.3994 796.624 Q85.8398 799.425 82.657 801.271 L88.0042 801.271 L88.0042 807.16 L38.479 807.16 L38.479 801.271 L57.7671 801.271 Z\" fill=\"#000000\" fill-rule=\"evenodd\" fill-opacity=\"1\" /><path clip-path=\"url(#clip170)\" d=\"M 0 0 M66.4881 739.492 L88.0042 739.492 L88.0042 745.349 L66.679 745.349 Q61.6183 745.349 59.1038 747.322 Q56.5894 749.295 56.5894 753.242 Q56.5894 757.985 59.6131 760.722 Q62.6368 763.459 67.8567 763.459 L88.0042 763.459 L88.0042 769.347 L52.3562 769.347 L52.3562 763.459 L57.8944 763.459 Q54.6797 761.358 53.0883 758.526 Q51.4968 755.661 51.4968 751.937 Q51.4968 745.794 55.3163 742.643 Q59.1038 739.492 66.4881 739.492 Z\" fill=\"#000000\" fill-rule=\"evenodd\" fill-opacity=\"1\" /><path clip-path=\"url(#clip170)\" d=\"M 0 0 M680.834 12.096 L689.017 12.096 L689.017 65.6895 L718.467 65.6895 L718.467 72.576 L680.834 72.576 L680.834 12.096 Z\" fill=\"#000000\" fill-rule=\"evenodd\" fill-opacity=\"1\" /><path clip-path=\"url(#clip170)\" d=\"M 0 0 M746.904 49.7694 Q737.871 49.7694 734.387 51.8354 Q730.903 53.9013 730.903 58.8839 Q730.903 62.8538 733.496 65.2034 Q736.129 67.5124 740.625 67.5124 Q746.823 67.5124 750.55 63.1374 Q754.317 58.7219 754.317 51.4303 L754.317 49.7694 L746.904 49.7694 M761.771 46.6907 L761.771 72.576 L754.317 72.576 L754.317 65.6895 Q751.765 69.8214 747.957 71.8063 Q744.15 73.7508 738.64 73.7508 Q731.673 73.7508 727.541 69.8619 Q723.45 65.9325 723.45 59.3701 Q723.45 51.7138 728.554 47.825 Q733.698 43.9361 743.866 43.9361 L754.317 43.9361 L754.317 43.2069 Q754.317 38.0623 750.915 35.2672 Q747.552 32.4315 741.436 32.4315 Q737.547 32.4315 733.86 33.3632 Q730.174 34.295 726.771 36.1584 L726.771 29.2718 Q730.863 27.692 734.711 26.9223 Q738.559 26.1121 742.205 26.1121 Q752.049 26.1121 756.91 31.2163 Q761.771 36.3204 761.771 46.6907 Z\" fill=\"#000000\" fill-rule=\"evenodd\" fill-opacity=\"1\" /><path clip-path=\"url(#clip170)\" d=\"M 0 0 M807.303 45.1919 L807.303 72.576 L799.85 72.576 L799.85 45.4349 Q799.85 38.994 797.338 35.7938 Q794.826 32.5936 789.803 32.5936 Q783.767 32.5936 780.284 36.4419 Q776.8 40.2903 776.8 46.9338 L776.8 72.576 L769.306 72.576 L769.306 27.2059 L776.8 27.2059 L776.8 34.2544 Q779.474 30.163 783.079 28.1376 Q786.725 26.1121 791.464 26.1121 Q799.282 26.1121 803.293 30.9732 Q807.303 35.7938 807.303 45.1919 Z\" fill=\"#000000\" fill-rule=\"evenodd\" fill-opacity=\"1\" /><path clip-path=\"url(#clip170)\" d=\"M 0 0 M847.772 28.9478 L847.772 35.9153 Q844.612 34.1734 841.412 33.3227 Q838.252 32.4315 835.011 32.4315 Q827.76 32.4315 823.75 37.0496 Q819.74 41.6271 819.74 49.9314 Q819.74 58.2358 823.75 62.8538 Q827.76 67.4314 835.011 67.4314 Q838.252 67.4314 841.412 66.5807 Q844.612 65.6895 847.772 63.9476 L847.772 70.8341 Q844.653 72.2924 841.29 73.0216 Q837.969 73.7508 834.201 73.7508 Q823.952 73.7508 817.917 67.3098 Q811.881 60.8689 811.881 49.9314 Q811.881 38.832 817.957 32.472 Q824.074 26.1121 834.687 26.1121 Q838.131 26.1121 841.412 26.8413 Q844.693 27.5299 847.772 28.9478 Z\" fill=\"#000000\" fill-rule=\"evenodd\" fill-opacity=\"1\" /><path clip-path=\"url(#clip170)\" d=\"M 0 0 M852.349 27.2059 L887.754 27.2059 L887.754 34.0114 L859.722 66.6212 L887.754 66.6212 L887.754 72.576 L851.337 72.576 L851.337 65.7705 L879.369 33.1607 L852.349 33.1607 L852.349 27.2059 Z\" fill=\"#000000\" fill-rule=\"evenodd\" fill-opacity=\"1\" /><path clip-path=\"url(#clip170)\" d=\"M 0 0 M913.153 32.4315 Q907.158 32.4315 903.674 37.1306 Q900.19 41.7891 900.19 49.9314 Q900.19 58.0738 903.634 62.7728 Q907.118 67.4314 913.153 67.4314 Q919.108 67.4314 922.592 62.7323 Q926.076 58.0333 926.076 49.9314 Q926.076 41.8701 922.592 37.1711 Q919.108 32.4315 913.153 32.4315 M913.153 26.1121 Q922.876 26.1121 928.425 32.4315 Q933.975 38.7509 933.975 49.9314 Q933.975 61.0714 928.425 67.4314 Q922.876 73.7508 913.153 73.7508 Q903.391 73.7508 897.841 67.4314 Q892.332 61.0714 892.332 49.9314 Q892.332 38.7509 897.841 32.4315 Q903.391 26.1121 913.153 26.1121 Z\" fill=\"#000000\" fill-rule=\"evenodd\" fill-opacity=\"1\" /><path clip-path=\"url(#clip170)\" d=\"M 0 0 M970.717 28.5427 L970.717 35.5912 Q967.557 33.9709 964.154 33.1607 Q960.751 32.3505 957.106 32.3505 Q951.556 32.3505 948.761 34.0519 Q946.006 35.7533 946.006 39.156 Q946.006 41.7486 947.991 43.2475 Q949.976 44.7058 955.971 46.0426 L958.523 46.6097 Q966.463 48.3111 969.785 51.4303 Q973.147 54.509 973.147 60.0587 Q973.147 66.3781 968.124 70.0644 Q963.142 73.7508 954.392 73.7508 Q950.746 73.7508 946.776 73.0216 Q942.846 72.3329 938.472 70.9151 L938.472 63.2184 Q942.603 65.3654 946.614 66.4591 Q950.624 67.5124 954.554 67.5124 Q959.82 67.5124 962.655 65.73 Q965.491 63.9071 965.491 60.6258 Q965.491 57.5877 963.425 55.9673 Q961.4 54.3469 954.473 52.8481 L951.88 52.2405 Q944.953 50.7821 941.874 47.7845 Q938.796 44.7463 938.796 39.4801 Q938.796 33.0797 943.333 29.5959 Q947.87 26.1121 956.214 26.1121 Q960.346 26.1121 963.992 26.7198 Q967.638 27.3274 970.717 28.5427 Z\" fill=\"#000000\" fill-rule=\"evenodd\" fill-opacity=\"1\" /><path clip-path=\"url(#clip170)\" d=\"M 0 0 M1039.99 28.9478 L1039.99 35.9153 Q1036.83 34.1734 1033.63 33.3227 Q1030.47 32.4315 1027.23 32.4315 Q1019.98 32.4315 1015.97 37.0496 Q1011.95 41.6271 1011.95 49.9314 Q1011.95 58.2358 1015.97 62.8538 Q1019.98 67.4314 1027.23 67.4314 Q1030.47 67.4314 1033.63 66.5807 Q1036.83 65.6895 1039.99 63.9476 L1039.99 70.8341 Q1036.87 72.2924 1033.51 73.0216 Q1030.18 73.7508 1026.42 73.7508 Q1016.17 73.7508 1010.13 67.3098 Q1004.1 60.8689 1004.1 49.9314 Q1004.1 38.832 1010.17 32.472 Q1016.29 26.1121 1026.9 26.1121 Q1030.35 26.1121 1033.63 26.8413 Q1036.91 27.5299 1039.99 28.9478 Z\" fill=\"#000000\" fill-rule=\"evenodd\" fill-opacity=\"1\" /><path clip-path=\"url(#clip170)\" d=\"M 0 0 M1065.39 32.4315 Q1059.39 32.4315 1055.91 37.1306 Q1052.42 41.7891 1052.42 49.9314 Q1052.42 58.0738 1055.87 62.7728 Q1059.35 67.4314 1065.39 67.4314 Q1071.34 67.4314 1074.82 62.7323 Q1078.31 58.0333 1078.31 49.9314 Q1078.31 41.8701 1074.82 37.1711 Q1071.34 32.4315 1065.39 32.4315 M1065.39 26.1121 Q1075.11 26.1121 1080.66 32.4315 Q1086.21 38.7509 1086.21 49.9314 Q1086.21 61.0714 1080.66 67.4314 Q1075.11 73.7508 1065.39 73.7508 Q1055.62 73.7508 1050.07 67.4314 Q1044.56 61.0714 1044.56 49.9314 Q1044.56 38.7509 1050.07 32.4315 Q1055.62 26.1121 1065.39 26.1121 Z\" fill=\"#000000\" fill-rule=\"evenodd\" fill-opacity=\"1\" /><path clip-path=\"url(#clip170)\" d=\"M 0 0 M1132.83 48.0275 L1132.83 51.6733 L1098.56 51.6733 Q1099.05 59.3701 1103.18 63.421 Q1107.35 67.4314 1114.77 67.4314 Q1119.06 67.4314 1123.07 66.3781 Q1127.12 65.3249 1131.09 63.2184 L1131.09 70.267 Q1127.08 71.9684 1122.87 72.8596 Q1118.66 73.7508 1114.32 73.7508 Q1103.46 73.7508 1097.1 67.4314 Q1090.79 61.1119 1090.79 50.3365 Q1090.79 39.1965 1096.78 32.6746 Q1102.82 26.1121 1113.02 26.1121 Q1122.18 26.1121 1127.49 32.0264 Q1132.83 37.9003 1132.83 48.0275 M1125.38 45.84 Q1125.3 39.7232 1121.94 36.0774 Q1118.62 32.4315 1113.11 32.4315 Q1106.87 32.4315 1103.1 35.9558 Q1099.37 39.4801 1098.81 45.8805 L1125.38 45.84 Z\" fill=\"#000000\" fill-rule=\"evenodd\" fill-opacity=\"1\" /><path clip-path=\"url(#clip170)\" d=\"M 0 0 M1163.62 9.54393 L1163.62 15.7418 L1156.49 15.7418 Q1152.48 15.7418 1150.9 17.3622 Q1149.36 18.9825 1149.36 23.1955 L1149.36 27.2059 L1161.64 27.2059 L1161.64 32.9987 L1149.36 32.9987 L1149.36 72.576 L1141.87 72.576 L1141.87 32.9987 L1134.74 32.9987 L1134.74 27.2059 L1141.87 27.2059 L1141.87 24.0462 Q1141.87 16.471 1145.39 13.0277 Q1148.92 9.54393 1156.57 9.54393 L1163.62 9.54393 Z\" fill=\"#000000\" fill-rule=\"evenodd\" fill-opacity=\"1\" /><path clip-path=\"url(#clip170)\" d=\"M 0 0 M1194.41 9.54393 L1194.41 15.7418 L1187.28 15.7418 Q1183.27 15.7418 1181.69 17.3622 Q1180.15 18.9825 1180.15 23.1955 L1180.15 27.2059 L1192.42 27.2059 L1192.42 32.9987 L1180.15 32.9987 L1180.15 72.576 L1172.65 72.576 L1172.65 32.9987 L1165.52 32.9987 L1165.52 27.2059 L1172.65 27.2059 L1172.65 24.0462 Q1172.65 16.471 1176.18 13.0277 Q1179.7 9.54393 1187.36 9.54393 L1194.41 9.54393 Z\" fill=\"#000000\" fill-rule=\"evenodd\" fill-opacity=\"1\" /><path clip-path=\"url(#clip170)\" d=\"M 0 0 M1202.23 27.2059 L1209.68 27.2059 L1209.68 72.576 L1202.23 72.576 L1202.23 27.2059 M1202.23 9.54393 L1209.68 9.54393 L1209.68 18.9825 L1202.23 18.9825 L1202.23 9.54393 Z\" fill=\"#000000\" fill-rule=\"evenodd\" fill-opacity=\"1\" /><path clip-path=\"url(#clip170)\" d=\"M 0 0 M1250.15 28.9478 L1250.15 35.9153 Q1246.99 34.1734 1243.79 33.3227 Q1240.63 32.4315 1237.39 32.4315 Q1230.14 32.4315 1226.13 37.0496 Q1222.12 41.6271 1222.12 49.9314 Q1222.12 58.2358 1226.13 62.8538 Q1230.14 67.4314 1237.39 67.4314 Q1240.63 67.4314 1243.79 66.5807 Q1246.99 65.6895 1250.15 63.9476 L1250.15 70.8341 Q1247.03 72.2924 1243.67 73.0216 Q1240.34 73.7508 1236.58 73.7508 Q1226.33 73.7508 1220.29 67.3098 Q1214.26 60.8689 1214.26 49.9314 Q1214.26 38.832 1220.33 32.472 Q1226.45 26.1121 1237.06 26.1121 Q1240.51 26.1121 1243.79 26.8413 Q1247.07 27.5299 1250.15 28.9478 Z\" fill=\"#000000\" fill-rule=\"evenodd\" fill-opacity=\"1\" /><path clip-path=\"url(#clip170)\" d=\"M 0 0 M1257.97 27.2059 L1265.42 27.2059 L1265.42 72.576 L1257.97 72.576 L1257.97 27.2059 M1257.97 9.54393 L1265.42 9.54393 L1265.42 18.9825 L1257.97 18.9825 L1257.97 9.54393 Z\" fill=\"#000000\" fill-rule=\"evenodd\" fill-opacity=\"1\" /><path clip-path=\"url(#clip170)\" d=\"M 0 0 M1312.05 48.0275 L1312.05 51.6733 L1277.78 51.6733 Q1278.26 59.3701 1282.39 63.421 Q1286.57 67.4314 1293.98 67.4314 Q1298.27 67.4314 1302.28 66.3781 Q1306.33 65.3249 1310.3 63.2184 L1310.3 70.267 Q1306.29 71.9684 1302.08 72.8596 Q1297.87 73.7508 1293.53 73.7508 Q1282.68 73.7508 1276.32 67.4314 Q1270 61.1119 1270 50.3365 Q1270 39.1965 1275.99 32.6746 Q1282.03 26.1121 1292.24 26.1121 Q1301.39 26.1121 1306.7 32.0264 Q1312.05 37.9003 1312.05 48.0275 M1304.59 45.84 Q1304.51 39.7232 1301.15 36.0774 Q1297.83 32.4315 1292.32 32.4315 Q1286.08 32.4315 1282.31 35.9558 Q1278.59 39.4801 1278.02 45.8805 L1304.59 45.84 Z\" fill=\"#000000\" fill-rule=\"evenodd\" fill-opacity=\"1\" /><path clip-path=\"url(#clip170)\" d=\"M 0 0 M1357.58 45.1919 L1357.58 72.576 L1350.12 72.576 L1350.12 45.4349 Q1350.12 38.994 1347.61 35.7938 Q1345.1 32.5936 1340.08 32.5936 Q1334.04 32.5936 1330.56 36.4419 Q1327.07 40.2903 1327.07 46.9338 L1327.07 72.576 L1319.58 72.576 L1319.58 27.2059 L1327.07 27.2059 L1327.07 34.2544 Q1329.75 30.163 1333.35 28.1376 Q1337 26.1121 1341.74 26.1121 Q1349.56 26.1121 1353.57 30.9732 Q1357.58 35.7938 1357.58 45.1919 Z\" fill=\"#000000\" fill-rule=\"evenodd\" fill-opacity=\"1\" /><path clip-path=\"url(#clip170)\" d=\"M 0 0 M1372.77 14.324 L1372.77 27.2059 L1388.12 27.2059 L1388.12 32.9987 L1372.77 32.9987 L1372.77 57.6282 Q1372.77 63.1779 1374.27 64.7578 Q1375.81 66.3376 1380.47 66.3376 L1388.12 66.3376 L1388.12 72.576 L1380.47 72.576 Q1371.84 72.576 1368.56 69.3758 Q1365.27 66.1351 1365.27 57.6282 L1365.27 32.9987 L1359.81 32.9987 L1359.81 27.2059 L1365.27 27.2059 L1365.27 14.324 L1372.77 14.324 Z\" fill=\"#000000\" fill-rule=\"evenodd\" fill-opacity=\"1\" /><path clip-path=\"url(#clip170)\" d=\"M 0 0 M1424.86 28.5427 L1424.86 35.5912 Q1421.7 33.9709 1418.3 33.1607 Q1414.9 32.3505 1411.25 32.3505 Q1405.7 32.3505 1402.91 34.0519 Q1400.15 35.7533 1400.15 39.156 Q1400.15 41.7486 1402.14 43.2475 Q1404.12 44.7058 1410.12 46.0426 L1412.67 46.6097 Q1420.61 48.3111 1423.93 51.4303 Q1427.29 54.509 1427.29 60.0587 Q1427.29 66.3781 1422.27 70.0644 Q1417.29 73.7508 1408.54 73.7508 Q1404.89 73.7508 1400.92 73.0216 Q1396.99 72.3329 1392.62 70.9151 L1392.62 63.2184 Q1396.75 65.3654 1400.76 66.4591 Q1404.77 67.5124 1408.7 67.5124 Q1413.97 67.5124 1416.8 65.73 Q1419.64 63.9071 1419.64 60.6258 Q1419.64 57.5877 1417.57 55.9673 Q1415.55 54.3469 1408.62 52.8481 L1406.03 52.2405 Q1399.1 50.7821 1396.02 47.7845 Q1392.94 44.7463 1392.94 39.4801 Q1392.94 33.0797 1397.48 29.5959 Q1402.02 26.1121 1410.36 26.1121 Q1414.49 26.1121 1418.14 26.7198 Q1421.78 27.3274 1424.86 28.5427 Z\" fill=\"#000000\" fill-rule=\"evenodd\" fill-opacity=\"1\" /><path clip-path=\"url(#clip170)\" d=\"M 0 0 M1458.89 12.096 L1467.68 12.096 L1482.71 34.5785 L1497.82 12.096 L1506.61 12.096 L1487.17 41.141 L1507.91 72.576 L1499.12 72.576 L1482.1 46.8528 L1464.97 72.576 L1456.14 72.576 L1477.73 40.2903 L1458.89 12.096 Z\" fill=\"#000000\" fill-rule=\"evenodd\" fill-opacity=\"1\" /><path clip-path=\"url(#clip170)\" d=\"M 0 0 M1513.13 12.096 L1521.92 12.096 L1536.95 34.5785 L1552.06 12.096 L1560.85 12.096 L1541.41 41.141 L1562.15 72.576 L1553.36 72.576 L1536.34 46.8528 L1519.21 72.576 L1510.38 72.576 L1531.97 40.2903 L1513.13 12.096 Z\" fill=\"#000000\" fill-rule=\"evenodd\" fill-opacity=\"1\" /><path clip-path=\"url(#clip170)\" d=\"M 0 0 M1567.37 12.096 L1576.16 12.096 L1591.19 34.5785 L1606.3 12.096 L1615.09 12.096 L1595.65 41.141 L1616.39 72.576 L1607.6 72.576 L1590.59 46.8528 L1573.45 72.576 L1564.62 72.576 L1586.21 40.2903 L1567.37 12.096 Z\" fill=\"#000000\" fill-rule=\"evenodd\" fill-opacity=\"1\" /><path clip-path=\"url(#clip170)\" d=\"M 0 0 M1685.9 35.9153 Q1688.7 30.8922 1692.59 28.5022 Q1696.48 26.1121 1701.74 26.1121 Q1708.83 26.1121 1712.68 31.0947 Q1716.53 36.0368 1716.53 45.1919 L1716.53 72.576 L1709.03 72.576 L1709.03 45.4349 Q1709.03 38.913 1706.73 35.7533 Q1704.42 32.5936 1699.68 32.5936 Q1693.88 32.5936 1690.52 36.4419 Q1687.16 40.2903 1687.16 46.9338 L1687.16 72.576 L1679.67 72.576 L1679.67 45.4349 Q1679.67 38.8725 1677.36 35.7533 Q1675.05 32.5936 1670.23 32.5936 Q1664.52 32.5936 1661.15 36.4824 Q1657.79 40.3308 1657.79 46.9338 L1657.79 72.576 L1650.3 72.576 L1650.3 27.2059 L1657.79 27.2059 L1657.79 34.2544 Q1660.34 30.082 1663.91 28.0971 Q1667.47 26.1121 1672.37 26.1121 Q1677.32 26.1121 1680.76 28.6237 Q1684.24 31.1352 1685.9 35.9153 Z\" fill=\"#000000\" fill-rule=\"evenodd\" fill-opacity=\"1\" /><path clip-path=\"url(#clip170)\" d=\"M 0 0 M1741.93 32.4315 Q1735.93 32.4315 1732.45 37.1306 Q1728.96 41.7891 1728.96 49.9314 Q1728.96 58.0738 1732.41 62.7728 Q1735.89 67.4314 1741.93 67.4314 Q1747.88 67.4314 1751.37 62.7323 Q1754.85 58.0333 1754.85 49.9314 Q1754.85 41.8701 1751.37 37.1711 Q1747.88 32.4315 1741.93 32.4315 M1741.93 26.1121 Q1751.65 26.1121 1757.2 32.4315 Q1762.75 38.7509 1762.75 49.9314 Q1762.75 61.0714 1757.2 67.4314 Q1751.65 73.7508 1741.93 73.7508 Q1732.17 73.7508 1726.62 67.4314 Q1721.11 61.0714 1721.11 49.9314 Q1721.11 38.7509 1726.62 32.4315 Q1732.17 26.1121 1741.93 26.1121 Z\" fill=\"#000000\" fill-rule=\"evenodd\" fill-opacity=\"1\" /><path clip-path=\"url(#clip170)\" d=\"M 0 0 M1800.42 34.0924 L1800.42 9.54393 L1807.88 9.54393 L1807.88 72.576 L1800.42 72.576 L1800.42 65.7705 Q1798.07 69.8214 1794.47 71.8063 Q1790.9 73.7508 1785.88 73.7508 Q1777.66 73.7508 1772.47 67.1883 Q1767.33 60.6258 1767.33 49.9314 Q1767.33 39.2371 1772.47 32.6746 Q1777.66 26.1121 1785.88 26.1121 Q1790.9 26.1121 1794.47 28.0971 Q1798.07 30.0415 1800.42 34.0924 M1775.02 49.9314 Q1775.02 58.1548 1778.39 62.8538 Q1781.79 67.5124 1787.7 67.5124 Q1793.62 67.5124 1797.02 62.8538 Q1800.42 58.1548 1800.42 49.9314 Q1800.42 41.7081 1797.02 37.0496 Q1793.62 32.3505 1787.7 32.3505 Q1781.79 32.3505 1778.39 37.0496 Q1775.02 41.7081 1775.02 49.9314 Z\" fill=\"#000000\" fill-rule=\"evenodd\" fill-opacity=\"1\" /><path clip-path=\"url(#clip170)\" d=\"M 0 0 M1854.5 48.0275 L1854.5 51.6733 L1820.23 51.6733 Q1820.72 59.3701 1824.85 63.421 Q1829.02 67.4314 1836.44 67.4314 Q1840.73 67.4314 1844.74 66.3781 Q1848.79 65.3249 1852.76 63.2184 L1852.76 70.267 Q1848.75 71.9684 1844.54 72.8596 Q1840.32 73.7508 1835.99 73.7508 Q1825.13 73.7508 1818.77 67.4314 Q1812.45 61.1119 1812.45 50.3365 Q1812.45 39.1965 1818.45 32.6746 Q1824.49 26.1121 1834.69 26.1121 Q1843.85 26.1121 1849.16 32.0264 Q1854.5 37.9003 1854.5 48.0275 M1847.05 45.84 Q1846.97 39.7232 1843.61 36.0774 Q1840.28 32.4315 1834.77 32.4315 Q1828.54 32.4315 1824.77 35.9558 Q1821.04 39.4801 1820.47 45.8805 L1847.05 45.84 Z\" fill=\"#000000\" fill-rule=\"evenodd\" fill-opacity=\"1\" /><path clip-path=\"url(#clip170)\" d=\"M 0 0 M1862.32 9.54393 L1869.77 9.54393 L1869.77 72.576 L1862.32 72.576 L1862.32 9.54393 Z\" fill=\"#000000\" fill-rule=\"evenodd\" fill-opacity=\"1\" /><circle clip-path=\"url(#clip172)\" cx=\"258.84\" cy=\"1306.16\" r=\"14\" fill=\"#009af9\" fill-rule=\"evenodd\" fill-opacity=\"1\" stroke=\"#000000\" stroke-opacity=\"1\" stroke-width=\"3.2\"/>\n",
       "<circle clip-path=\"url(#clip172)\" cx=\"648.275\" cy=\"1386.4\" r=\"14\" fill=\"#009af9\" fill-rule=\"evenodd\" fill-opacity=\"1\" stroke=\"#000000\" stroke-opacity=\"1\" stroke-width=\"3.2\"/>\n",
       "<circle clip-path=\"url(#clip172)\" cx=\"947.099\" cy=\"1123.01\" r=\"14\" fill=\"#009af9\" fill-rule=\"evenodd\" fill-opacity=\"1\" stroke=\"#000000\" stroke-opacity=\"1\" stroke-width=\"3.2\"/>\n",
       "<circle clip-path=\"url(#clip172)\" cx=\"1199.02\" cy=\"1022.85\" r=\"14\" fill=\"#009af9\" fill-rule=\"evenodd\" fill-opacity=\"1\" stroke=\"#000000\" stroke-opacity=\"1\" stroke-width=\"3.2\"/>\n",
       "<circle clip-path=\"url(#clip172)\" cx=\"1420.97\" cy=\"793.891\" r=\"14\" fill=\"#009af9\" fill-rule=\"evenodd\" fill-opacity=\"1\" stroke=\"#000000\" stroke-opacity=\"1\" stroke-width=\"3.2\"/>\n",
       "<circle clip-path=\"url(#clip172)\" cx=\"1621.62\" cy=\"732.798\" r=\"14\" fill=\"#009af9\" fill-rule=\"evenodd\" fill-opacity=\"1\" stroke=\"#000000\" stroke-opacity=\"1\" stroke-width=\"3.2\"/>\n",
       "<circle clip-path=\"url(#clip172)\" cx=\"1806.14\" cy=\"500.686\" r=\"14\" fill=\"#009af9\" fill-rule=\"evenodd\" fill-opacity=\"1\" stroke=\"#000000\" stroke-opacity=\"1\" stroke-width=\"3.2\"/>\n",
       "<circle clip-path=\"url(#clip172)\" cx=\"1977.89\" cy=\"376.005\" r=\"14\" fill=\"#009af9\" fill-rule=\"evenodd\" fill-opacity=\"1\" stroke=\"#000000\" stroke-opacity=\"1\" stroke-width=\"3.2\"/>\n",
       "<circle clip-path=\"url(#clip172)\" cx=\"2139.2\" cy=\"230.28\" r=\"14\" fill=\"#009af9\" fill-rule=\"evenodd\" fill-opacity=\"1\" stroke=\"#000000\" stroke-opacity=\"1\" stroke-width=\"3.2\"/>\n",
       "<circle clip-path=\"url(#clip172)\" cx=\"2291.77\" cy=\"160.256\" r=\"14\" fill=\"#009af9\" fill-rule=\"evenodd\" fill-opacity=\"1\" stroke=\"#000000\" stroke-opacity=\"1\" stroke-width=\"3.2\"/>\n",
       "</svg>\n"
      ]
     },
     "execution_count": 74,
     "metadata": {},
     "output_type": "execute_result"
    }
   ],
   "source": [
    "x = 1:length(VXXX)-1; y = VXXX[2:end]; # Lanczos Coefficients XXX model\n",
    "plot(sqrt.(x), y,title = \"Lanczos coefficients XXX model\",seriestype = :scatter,label = false)\n",
    "ylabel!(\"bn\")\n",
    "xlabel!(\"sqrt(n)\")"
   ]
  },
  {
   "cell_type": "code",
   "execution_count": 75,
   "metadata": {},
   "outputs": [
    {
     "data": {
      "image/svg+xml": [
       "<?xml version=\"1.0\" encoding=\"utf-8\"?>\n",
       "<svg xmlns=\"http://www.w3.org/2000/svg\" xmlns:xlink=\"http://www.w3.org/1999/xlink\" width=\"600\" height=\"400\" viewBox=\"0 0 2400 1600\">\n",
       "<defs>\n",
       "  <clipPath id=\"clip210\">\n",
       "    <rect x=\"0\" y=\"0\" width=\"2400\" height=\"1600\"/>\n",
       "  </clipPath>\n",
       "</defs>\n",
       "<path clip-path=\"url(#clip210)\" d=\"\n",
       "M0 1600 L2400 1600 L2400 0 L0 0  Z\n",
       "  \" fill=\"#ffffff\" fill-rule=\"evenodd\" fill-opacity=\"1\"/>\n",
       "<defs>\n",
       "  <clipPath id=\"clip211\">\n",
       "    <rect x=\"480\" y=\"0\" width=\"1681\" height=\"1600\"/>\n",
       "  </clipPath>\n",
       "</defs>\n",
       "<path clip-path=\"url(#clip210)\" d=\"\n",
       "M197.852 1423.18 L2352.76 1423.18 L2352.76 123.472 L197.852 123.472  Z\n",
       "  \" fill=\"#ffffff\" fill-rule=\"evenodd\" fill-opacity=\"1\"/>\n",
       "<defs>\n",
       "  <clipPath id=\"clip212\">\n",
       "    <rect x=\"197\" y=\"123\" width=\"2156\" height=\"1301\"/>\n",
       "  </clipPath>\n",
       "</defs>\n",
       "<polyline clip-path=\"url(#clip212)\" style=\"stroke:#000000; stroke-width:2; stroke-opacity:0.1; fill:none\" points=\"\n",
       "  462.133,1423.18 462.133,123.472 \n",
       "  \"/>\n",
       "<polyline clip-path=\"url(#clip212)\" style=\"stroke:#000000; stroke-width:2; stroke-opacity:0.1; fill:none\" points=\"\n",
       "  868.719,1423.18 868.719,123.472 \n",
       "  \"/>\n",
       "<polyline clip-path=\"url(#clip212)\" style=\"stroke:#000000; stroke-width:2; stroke-opacity:0.1; fill:none\" points=\"\n",
       "  1275.3,1423.18 1275.3,123.472 \n",
       "  \"/>\n",
       "<polyline clip-path=\"url(#clip212)\" style=\"stroke:#000000; stroke-width:2; stroke-opacity:0.1; fill:none\" points=\"\n",
       "  1681.89,1423.18 1681.89,123.472 \n",
       "  \"/>\n",
       "<polyline clip-path=\"url(#clip212)\" style=\"stroke:#000000; stroke-width:2; stroke-opacity:0.1; fill:none\" points=\"\n",
       "  2088.48,1423.18 2088.48,123.472 \n",
       "  \"/>\n",
       "<polyline clip-path=\"url(#clip210)\" style=\"stroke:#000000; stroke-width:4; stroke-opacity:1; fill:none\" points=\"\n",
       "  197.852,1423.18 2352.76,1423.18 \n",
       "  \"/>\n",
       "<polyline clip-path=\"url(#clip210)\" style=\"stroke:#000000; stroke-width:4; stroke-opacity:1; fill:none\" points=\"\n",
       "  462.133,1423.18 462.133,1407.58 \n",
       "  \"/>\n",
       "<polyline clip-path=\"url(#clip210)\" style=\"stroke:#000000; stroke-width:4; stroke-opacity:1; fill:none\" points=\"\n",
       "  868.719,1423.18 868.719,1407.58 \n",
       "  \"/>\n",
       "<polyline clip-path=\"url(#clip210)\" style=\"stroke:#000000; stroke-width:4; stroke-opacity:1; fill:none\" points=\"\n",
       "  1275.3,1423.18 1275.3,1407.58 \n",
       "  \"/>\n",
       "<polyline clip-path=\"url(#clip210)\" style=\"stroke:#000000; stroke-width:4; stroke-opacity:1; fill:none\" points=\"\n",
       "  1681.89,1423.18 1681.89,1407.58 \n",
       "  \"/>\n",
       "<polyline clip-path=\"url(#clip210)\" style=\"stroke:#000000; stroke-width:4; stroke-opacity:1; fill:none\" points=\"\n",
       "  2088.48,1423.18 2088.48,1407.58 \n",
       "  \"/>\n",
       "<path clip-path=\"url(#clip210)\" d=\"M 0 0 M456.786 1479.92 L473.105 1479.92 L473.105 1483.85 L451.161 1483.85 L451.161 1479.92 Q453.823 1477.16 458.406 1472.53 Q463.013 1467.88 464.193 1466.54 Q466.439 1464.01 467.318 1462.28 Q468.221 1460.52 468.221 1458.83 Q468.221 1456.07 466.277 1454.34 Q464.355 1452.6 461.253 1452.6 Q459.054 1452.6 456.601 1453.37 Q454.17 1454.13 451.392 1455.68 L451.392 1450.96 Q454.216 1449.82 456.67 1449.25 Q459.124 1448.67 461.161 1448.67 Q466.531 1448.67 469.726 1451.35 Q472.92 1454.04 472.92 1458.53 Q472.92 1460.66 472.11 1462.58 Q471.323 1464.48 469.216 1467.07 Q468.638 1467.74 465.536 1470.96 Q462.434 1474.15 456.786 1479.92 Z\" fill=\"#000000\" fill-rule=\"evenodd\" fill-opacity=\"1\" /><path clip-path=\"url(#clip210)\" d=\"M 0 0 M871.728 1453.37 L859.922 1471.81 L871.728 1471.81 L871.728 1453.37 M870.501 1449.29 L876.381 1449.29 L876.381 1471.81 L881.311 1471.81 L881.311 1475.7 L876.381 1475.7 L876.381 1483.85 L871.728 1483.85 L871.728 1475.7 L856.126 1475.7 L856.126 1471.19 L870.501 1449.29 Z\" fill=\"#000000\" fill-rule=\"evenodd\" fill-opacity=\"1\" /><path clip-path=\"url(#clip210)\" d=\"M 0 0 M1275.71 1464.71 Q1272.56 1464.71 1270.71 1466.86 Q1268.88 1469.01 1268.88 1472.76 Q1268.88 1476.49 1270.71 1478.67 Q1272.56 1480.82 1275.71 1480.82 Q1278.86 1480.82 1280.69 1478.67 Q1282.54 1476.49 1282.54 1472.76 Q1282.54 1469.01 1280.69 1466.86 Q1278.86 1464.71 1275.71 1464.71 M1284.99 1450.06 L1284.99 1454.31 Q1283.23 1453.48 1281.43 1453.04 Q1279.64 1452.6 1277.89 1452.6 Q1273.26 1452.6 1270.8 1455.73 Q1268.37 1458.85 1268.02 1465.17 Q1269.39 1463.16 1271.45 1462.09 Q1273.51 1461 1275.99 1461 Q1281.2 1461 1284.2 1464.18 Q1287.24 1467.32 1287.24 1472.76 Q1287.24 1478.09 1284.09 1481.31 Q1280.94 1484.52 1275.71 1484.52 Q1269.71 1484.52 1266.54 1479.94 Q1263.37 1475.33 1263.37 1466.61 Q1263.37 1458.41 1267.26 1453.55 Q1271.15 1448.67 1277.7 1448.67 Q1279.46 1448.67 1281.24 1449.01 Q1283.05 1449.36 1284.99 1450.06 Z\" fill=\"#000000\" fill-rule=\"evenodd\" fill-opacity=\"1\" /><path clip-path=\"url(#clip210)\" d=\"M 0 0 M1681.89 1467.44 Q1678.56 1467.44 1676.64 1469.22 Q1674.74 1471 1674.74 1474.13 Q1674.74 1477.25 1676.64 1479.04 Q1678.56 1480.82 1681.89 1480.82 Q1685.22 1480.82 1687.14 1479.04 Q1689.07 1477.23 1689.07 1474.13 Q1689.07 1471 1687.14 1469.22 Q1685.25 1467.44 1681.89 1467.44 M1677.21 1465.45 Q1674.2 1464.71 1672.51 1462.65 Q1670.85 1460.59 1670.85 1457.63 Q1670.85 1453.48 1673.79 1451.07 Q1676.75 1448.67 1681.89 1448.67 Q1687.05 1448.67 1689.99 1451.07 Q1692.93 1453.48 1692.93 1457.63 Q1692.93 1460.59 1691.24 1462.65 Q1689.57 1464.71 1686.59 1465.45 Q1689.97 1466.24 1691.84 1468.53 Q1693.74 1470.82 1693.74 1474.13 Q1693.74 1479.15 1690.66 1481.84 Q1687.61 1484.52 1681.89 1484.52 Q1676.17 1484.52 1673.09 1481.84 Q1670.04 1479.15 1670.04 1474.13 Q1670.04 1470.82 1671.94 1468.53 Q1673.83 1466.24 1677.21 1465.45 M1675.5 1458.06 Q1675.5 1460.75 1677.17 1462.25 Q1678.86 1463.76 1681.89 1463.76 Q1684.9 1463.76 1686.59 1462.25 Q1688.3 1460.75 1688.3 1458.06 Q1688.3 1455.38 1686.59 1453.88 Q1684.9 1452.37 1681.89 1452.37 Q1678.86 1452.37 1677.17 1453.88 Q1675.5 1455.38 1675.5 1458.06 Z\" fill=\"#000000\" fill-rule=\"evenodd\" fill-opacity=\"1\" /><path clip-path=\"url(#clip210)\" d=\"M 0 0 M2065.35 1479.92 L2072.99 1479.92 L2072.99 1453.55 L2064.68 1455.22 L2064.68 1450.96 L2072.94 1449.29 L2077.62 1449.29 L2077.62 1479.92 L2085.26 1479.92 L2085.26 1483.85 L2065.35 1483.85 L2065.35 1479.92 Z\" fill=\"#000000\" fill-rule=\"evenodd\" fill-opacity=\"1\" /><path clip-path=\"url(#clip210)\" d=\"M 0 0 M2100.33 1452.37 Q2096.72 1452.37 2094.89 1455.94 Q2093.08 1459.48 2093.08 1466.61 Q2093.08 1473.71 2094.89 1477.28 Q2096.72 1480.82 2100.33 1480.82 Q2103.96 1480.82 2105.77 1477.28 Q2107.6 1473.71 2107.6 1466.61 Q2107.6 1459.48 2105.77 1455.94 Q2103.96 1452.37 2100.33 1452.37 M2100.33 1448.67 Q2106.14 1448.67 2109.19 1453.27 Q2112.27 1457.86 2112.27 1466.61 Q2112.27 1475.33 2109.19 1479.94 Q2106.14 1484.52 2100.33 1484.52 Q2094.52 1484.52 2091.44 1479.94 Q2088.38 1475.33 2088.38 1466.61 Q2088.38 1457.86 2091.44 1453.27 Q2094.52 1448.67 2100.33 1448.67 Z\" fill=\"#000000\" fill-rule=\"evenodd\" fill-opacity=\"1\" /><path clip-path=\"url(#clip210)\" d=\"M 0 0 M1290.23 1534.53 L1290.23 1556.04 L1284.38 1556.04 L1284.38 1534.72 Q1284.38 1529.66 1282.4 1527.14 Q1280.43 1524.63 1276.48 1524.63 Q1271.74 1524.63 1269 1527.65 Q1266.26 1530.68 1266.26 1535.9 L1266.26 1556.04 L1260.38 1556.04 L1260.38 1520.4 L1266.26 1520.4 L1266.26 1525.93 Q1268.37 1522.72 1271.2 1521.13 Q1274.06 1519.54 1277.79 1519.54 Q1283.93 1519.54 1287.08 1523.36 Q1290.23 1527.14 1290.23 1534.53 Z\" fill=\"#000000\" fill-rule=\"evenodd\" fill-opacity=\"1\" /><polyline clip-path=\"url(#clip212)\" style=\"stroke:#000000; stroke-width:2; stroke-opacity:0.1; fill:none\" points=\"\n",
       "  197.852,1386.4 2352.76,1386.4 \n",
       "  \"/>\n",
       "<polyline clip-path=\"url(#clip212)\" style=\"stroke:#000000; stroke-width:2; stroke-opacity:0.1; fill:none\" points=\"\n",
       "  197.852,1030.88 2352.76,1030.88 \n",
       "  \"/>\n",
       "<polyline clip-path=\"url(#clip212)\" style=\"stroke:#000000; stroke-width:2; stroke-opacity:0.1; fill:none\" points=\"\n",
       "  197.852,675.357 2352.76,675.357 \n",
       "  \"/>\n",
       "<polyline clip-path=\"url(#clip212)\" style=\"stroke:#000000; stroke-width:2; stroke-opacity:0.1; fill:none\" points=\"\n",
       "  197.852,319.837 2352.76,319.837 \n",
       "  \"/>\n",
       "<polyline clip-path=\"url(#clip210)\" style=\"stroke:#000000; stroke-width:4; stroke-opacity:1; fill:none\" points=\"\n",
       "  197.852,1423.18 197.852,123.472 \n",
       "  \"/>\n",
       "<polyline clip-path=\"url(#clip210)\" style=\"stroke:#000000; stroke-width:4; stroke-opacity:1; fill:none\" points=\"\n",
       "  197.852,1386.4 223.711,1386.4 \n",
       "  \"/>\n",
       "<polyline clip-path=\"url(#clip210)\" style=\"stroke:#000000; stroke-width:4; stroke-opacity:1; fill:none\" points=\"\n",
       "  197.852,1030.88 223.711,1030.88 \n",
       "  \"/>\n",
       "<polyline clip-path=\"url(#clip210)\" style=\"stroke:#000000; stroke-width:4; stroke-opacity:1; fill:none\" points=\"\n",
       "  197.852,675.357 223.711,675.357 \n",
       "  \"/>\n",
       "<polyline clip-path=\"url(#clip210)\" style=\"stroke:#000000; stroke-width:4; stroke-opacity:1; fill:none\" points=\"\n",
       "  197.852,319.837 223.711,319.837 \n",
       "  \"/>\n",
       "<path clip-path=\"url(#clip210)\" d=\"M 0 0 M152.269 1373.19 L140.464 1391.64 L152.269 1391.64 L152.269 1373.19 M151.042 1369.12 L156.922 1369.12 L156.922 1391.64 L161.852 1391.64 L161.852 1395.53 L156.922 1395.53 L156.922 1403.68 L152.269 1403.68 L152.269 1395.53 L136.667 1395.53 L136.667 1391.01 L151.042 1369.12 Z\" fill=\"#000000\" fill-rule=\"evenodd\" fill-opacity=\"1\" /><path clip-path=\"url(#clip210)\" d=\"M 0 0 M150.325 1029.01 Q147.177 1029.01 145.325 1031.17 Q143.496 1033.32 143.496 1037.07 Q143.496 1040.8 145.325 1042.97 Q147.177 1045.12 150.325 1045.12 Q153.473 1045.12 155.302 1042.97 Q157.153 1040.8 157.153 1037.07 Q157.153 1033.32 155.302 1031.17 Q153.473 1029.01 150.325 1029.01 M159.607 1014.36 L159.607 1018.62 Q157.848 1017.79 156.042 1017.35 Q154.26 1016.91 152.501 1016.91 Q147.871 1016.91 145.417 1020.03 Q142.987 1023.16 142.64 1029.48 Q144.005 1027.46 146.066 1026.4 Q148.126 1025.31 150.603 1025.31 Q155.811 1025.31 158.82 1028.48 Q161.852 1031.63 161.852 1037.07 Q161.852 1042.39 158.704 1045.61 Q155.556 1048.83 150.325 1048.83 Q144.329 1048.83 141.158 1044.24 Q137.987 1039.64 137.987 1030.91 Q137.987 1022.72 141.876 1017.86 Q145.765 1012.97 152.316 1012.97 Q154.075 1012.97 155.857 1013.32 Q157.663 1013.67 159.607 1014.36 Z\" fill=\"#000000\" fill-rule=\"evenodd\" fill-opacity=\"1\" /><path clip-path=\"url(#clip210)\" d=\"M 0 0 M150.001 676.225 Q146.667 676.225 144.746 678.007 Q142.848 679.789 142.848 682.914 Q142.848 686.039 144.746 687.822 Q146.667 689.604 150.001 689.604 Q153.334 689.604 155.255 687.822 Q157.177 686.016 157.177 682.914 Q157.177 679.789 155.255 678.007 Q153.357 676.225 150.001 676.225 M145.325 674.234 Q142.316 673.493 140.626 671.433 Q138.959 669.373 138.959 666.41 Q138.959 662.266 141.899 659.859 Q144.862 657.452 150.001 657.452 Q155.163 657.452 158.103 659.859 Q161.042 662.266 161.042 666.41 Q161.042 669.373 159.353 671.433 Q157.686 673.493 154.7 674.234 Q158.079 675.021 159.954 677.313 Q161.852 679.604 161.852 682.914 Q161.852 687.938 158.774 690.623 Q155.718 693.308 150.001 693.308 Q144.283 693.308 141.204 690.623 Q138.149 687.938 138.149 682.914 Q138.149 679.604 140.047 677.313 Q141.945 675.021 145.325 674.234 M143.612 666.85 Q143.612 669.535 145.279 671.04 Q146.968 672.544 150.001 672.544 Q153.01 672.544 154.7 671.04 Q156.413 669.535 156.413 666.85 Q156.413 664.165 154.7 662.66 Q153.01 661.155 150.001 661.155 Q146.968 661.155 145.279 662.66 Q143.612 664.165 143.612 666.85 Z\" fill=\"#000000\" fill-rule=\"evenodd\" fill-opacity=\"1\" /><path clip-path=\"url(#clip210)\" d=\"M 0 0 M114.931 333.182 L122.57 333.182 L122.57 306.816 L114.26 308.483 L114.26 304.224 L122.524 302.557 L127.2 302.557 L127.2 333.182 L134.839 333.182 L134.839 337.117 L114.931 337.117 L114.931 333.182 Z\" fill=\"#000000\" fill-rule=\"evenodd\" fill-opacity=\"1\" /><path clip-path=\"url(#clip210)\" d=\"M 0 0 M149.908 305.636 Q146.297 305.636 144.468 309.201 Q142.663 312.742 142.663 319.872 Q142.663 326.978 144.468 330.543 Q146.297 334.085 149.908 334.085 Q153.542 334.085 155.348 330.543 Q157.177 326.978 157.177 319.872 Q157.177 312.742 155.348 309.201 Q153.542 305.636 149.908 305.636 M149.908 301.932 Q155.718 301.932 158.774 306.539 Q161.852 311.122 161.852 319.872 Q161.852 328.599 158.774 333.205 Q155.718 337.788 149.908 337.788 Q144.098 337.788 141.019 333.205 Q137.964 328.599 137.964 319.872 Q137.964 311.122 141.019 306.539 Q144.098 301.932 149.908 301.932 Z\" fill=\"#000000\" fill-rule=\"evenodd\" fill-opacity=\"1\" /><path clip-path=\"url(#clip210)\" d=\"M 0 0 M70.212 781.347 Q63.7508 781.347 60.0905 784.02 Q56.3984 786.662 56.3984 791.309 Q56.3984 795.956 60.0905 798.63 Q63.7508 801.271 70.212 801.271 Q76.6732 801.271 80.3653 798.63 Q84.0256 795.956 84.0256 791.309 Q84.0256 786.662 80.3653 784.02 Q76.6732 781.347 70.212 781.347 M57.7671 801.271 Q54.5842 799.425 53.0564 796.624 Q51.4968 793.792 51.4968 789.877 Q51.4968 783.384 56.6531 779.342 Q61.8093 775.268 70.212 775.268 Q78.6147 775.268 83.771 779.342 Q88.9272 783.384 88.9272 789.877 Q88.9272 793.792 87.3994 796.624 Q85.8398 799.425 82.657 801.271 L88.0042 801.271 L88.0042 807.16 L38.479 807.16 L38.479 801.271 L57.7671 801.271 Z\" fill=\"#000000\" fill-rule=\"evenodd\" fill-opacity=\"1\" /><path clip-path=\"url(#clip210)\" d=\"M 0 0 M66.4881 739.492 L88.0042 739.492 L88.0042 745.349 L66.679 745.349 Q61.6183 745.349 59.1038 747.322 Q56.5894 749.295 56.5894 753.242 Q56.5894 757.985 59.6131 760.722 Q62.6368 763.459 67.8567 763.459 L88.0042 763.459 L88.0042 769.347 L52.3562 769.347 L52.3562 763.459 L57.8944 763.459 Q54.6797 761.358 53.0883 758.526 Q51.4968 755.661 51.4968 751.937 Q51.4968 745.794 55.3163 742.643 Q59.1038 739.492 66.4881 739.492 Z\" fill=\"#000000\" fill-rule=\"evenodd\" fill-opacity=\"1\" /><path clip-path=\"url(#clip210)\" d=\"M 0 0 M680.834 12.096 L689.017 12.096 L689.017 65.6895 L718.467 65.6895 L718.467 72.576 L680.834 72.576 L680.834 12.096 Z\" fill=\"#000000\" fill-rule=\"evenodd\" fill-opacity=\"1\" /><path clip-path=\"url(#clip210)\" d=\"M 0 0 M746.904 49.7694 Q737.871 49.7694 734.387 51.8354 Q730.903 53.9013 730.903 58.8839 Q730.903 62.8538 733.496 65.2034 Q736.129 67.5124 740.625 67.5124 Q746.823 67.5124 750.55 63.1374 Q754.317 58.7219 754.317 51.4303 L754.317 49.7694 L746.904 49.7694 M761.771 46.6907 L761.771 72.576 L754.317 72.576 L754.317 65.6895 Q751.765 69.8214 747.957 71.8063 Q744.15 73.7508 738.64 73.7508 Q731.673 73.7508 727.541 69.8619 Q723.45 65.9325 723.45 59.3701 Q723.45 51.7138 728.554 47.825 Q733.698 43.9361 743.866 43.9361 L754.317 43.9361 L754.317 43.2069 Q754.317 38.0623 750.915 35.2672 Q747.552 32.4315 741.436 32.4315 Q737.547 32.4315 733.86 33.3632 Q730.174 34.295 726.771 36.1584 L726.771 29.2718 Q730.863 27.692 734.711 26.9223 Q738.559 26.1121 742.205 26.1121 Q752.049 26.1121 756.91 31.2163 Q761.771 36.3204 761.771 46.6907 Z\" fill=\"#000000\" fill-rule=\"evenodd\" fill-opacity=\"1\" /><path clip-path=\"url(#clip210)\" d=\"M 0 0 M807.303 45.1919 L807.303 72.576 L799.85 72.576 L799.85 45.4349 Q799.85 38.994 797.338 35.7938 Q794.826 32.5936 789.803 32.5936 Q783.767 32.5936 780.284 36.4419 Q776.8 40.2903 776.8 46.9338 L776.8 72.576 L769.306 72.576 L769.306 27.2059 L776.8 27.2059 L776.8 34.2544 Q779.474 30.163 783.079 28.1376 Q786.725 26.1121 791.464 26.1121 Q799.282 26.1121 803.293 30.9732 Q807.303 35.7938 807.303 45.1919 Z\" fill=\"#000000\" fill-rule=\"evenodd\" fill-opacity=\"1\" /><path clip-path=\"url(#clip210)\" d=\"M 0 0 M847.772 28.9478 L847.772 35.9153 Q844.612 34.1734 841.412 33.3227 Q838.252 32.4315 835.011 32.4315 Q827.76 32.4315 823.75 37.0496 Q819.74 41.6271 819.74 49.9314 Q819.74 58.2358 823.75 62.8538 Q827.76 67.4314 835.011 67.4314 Q838.252 67.4314 841.412 66.5807 Q844.612 65.6895 847.772 63.9476 L847.772 70.8341 Q844.653 72.2924 841.29 73.0216 Q837.969 73.7508 834.201 73.7508 Q823.952 73.7508 817.917 67.3098 Q811.881 60.8689 811.881 49.9314 Q811.881 38.832 817.957 32.472 Q824.074 26.1121 834.687 26.1121 Q838.131 26.1121 841.412 26.8413 Q844.693 27.5299 847.772 28.9478 Z\" fill=\"#000000\" fill-rule=\"evenodd\" fill-opacity=\"1\" /><path clip-path=\"url(#clip210)\" d=\"M 0 0 M852.349 27.2059 L887.754 27.2059 L887.754 34.0114 L859.722 66.6212 L887.754 66.6212 L887.754 72.576 L851.337 72.576 L851.337 65.7705 L879.369 33.1607 L852.349 33.1607 L852.349 27.2059 Z\" fill=\"#000000\" fill-rule=\"evenodd\" fill-opacity=\"1\" /><path clip-path=\"url(#clip210)\" d=\"M 0 0 M913.153 32.4315 Q907.158 32.4315 903.674 37.1306 Q900.19 41.7891 900.19 49.9314 Q900.19 58.0738 903.634 62.7728 Q907.118 67.4314 913.153 67.4314 Q919.108 67.4314 922.592 62.7323 Q926.076 58.0333 926.076 49.9314 Q926.076 41.8701 922.592 37.1711 Q919.108 32.4315 913.153 32.4315 M913.153 26.1121 Q922.876 26.1121 928.425 32.4315 Q933.975 38.7509 933.975 49.9314 Q933.975 61.0714 928.425 67.4314 Q922.876 73.7508 913.153 73.7508 Q903.391 73.7508 897.841 67.4314 Q892.332 61.0714 892.332 49.9314 Q892.332 38.7509 897.841 32.4315 Q903.391 26.1121 913.153 26.1121 Z\" fill=\"#000000\" fill-rule=\"evenodd\" fill-opacity=\"1\" /><path clip-path=\"url(#clip210)\" d=\"M 0 0 M970.717 28.5427 L970.717 35.5912 Q967.557 33.9709 964.154 33.1607 Q960.751 32.3505 957.106 32.3505 Q951.556 32.3505 948.761 34.0519 Q946.006 35.7533 946.006 39.156 Q946.006 41.7486 947.991 43.2475 Q949.976 44.7058 955.971 46.0426 L958.523 46.6097 Q966.463 48.3111 969.785 51.4303 Q973.147 54.509 973.147 60.0587 Q973.147 66.3781 968.124 70.0644 Q963.142 73.7508 954.392 73.7508 Q950.746 73.7508 946.776 73.0216 Q942.846 72.3329 938.472 70.9151 L938.472 63.2184 Q942.603 65.3654 946.614 66.4591 Q950.624 67.5124 954.554 67.5124 Q959.82 67.5124 962.655 65.73 Q965.491 63.9071 965.491 60.6258 Q965.491 57.5877 963.425 55.9673 Q961.4 54.3469 954.473 52.8481 L951.88 52.2405 Q944.953 50.7821 941.874 47.7845 Q938.796 44.7463 938.796 39.4801 Q938.796 33.0797 943.333 29.5959 Q947.87 26.1121 956.214 26.1121 Q960.346 26.1121 963.992 26.7198 Q967.638 27.3274 970.717 28.5427 Z\" fill=\"#000000\" fill-rule=\"evenodd\" fill-opacity=\"1\" /><path clip-path=\"url(#clip210)\" d=\"M 0 0 M1039.99 28.9478 L1039.99 35.9153 Q1036.83 34.1734 1033.63 33.3227 Q1030.47 32.4315 1027.23 32.4315 Q1019.98 32.4315 1015.97 37.0496 Q1011.95 41.6271 1011.95 49.9314 Q1011.95 58.2358 1015.97 62.8538 Q1019.98 67.4314 1027.23 67.4314 Q1030.47 67.4314 1033.63 66.5807 Q1036.83 65.6895 1039.99 63.9476 L1039.99 70.8341 Q1036.87 72.2924 1033.51 73.0216 Q1030.18 73.7508 1026.42 73.7508 Q1016.17 73.7508 1010.13 67.3098 Q1004.1 60.8689 1004.1 49.9314 Q1004.1 38.832 1010.17 32.472 Q1016.29 26.1121 1026.9 26.1121 Q1030.35 26.1121 1033.63 26.8413 Q1036.91 27.5299 1039.99 28.9478 Z\" fill=\"#000000\" fill-rule=\"evenodd\" fill-opacity=\"1\" /><path clip-path=\"url(#clip210)\" d=\"M 0 0 M1065.39 32.4315 Q1059.39 32.4315 1055.91 37.1306 Q1052.42 41.7891 1052.42 49.9314 Q1052.42 58.0738 1055.87 62.7728 Q1059.35 67.4314 1065.39 67.4314 Q1071.34 67.4314 1074.82 62.7323 Q1078.31 58.0333 1078.31 49.9314 Q1078.31 41.8701 1074.82 37.1711 Q1071.34 32.4315 1065.39 32.4315 M1065.39 26.1121 Q1075.11 26.1121 1080.66 32.4315 Q1086.21 38.7509 1086.21 49.9314 Q1086.21 61.0714 1080.66 67.4314 Q1075.11 73.7508 1065.39 73.7508 Q1055.62 73.7508 1050.07 67.4314 Q1044.56 61.0714 1044.56 49.9314 Q1044.56 38.7509 1050.07 32.4315 Q1055.62 26.1121 1065.39 26.1121 Z\" fill=\"#000000\" fill-rule=\"evenodd\" fill-opacity=\"1\" /><path clip-path=\"url(#clip210)\" d=\"M 0 0 M1132.83 48.0275 L1132.83 51.6733 L1098.56 51.6733 Q1099.05 59.3701 1103.18 63.421 Q1107.35 67.4314 1114.77 67.4314 Q1119.06 67.4314 1123.07 66.3781 Q1127.12 65.3249 1131.09 63.2184 L1131.09 70.267 Q1127.08 71.9684 1122.87 72.8596 Q1118.66 73.7508 1114.32 73.7508 Q1103.46 73.7508 1097.1 67.4314 Q1090.79 61.1119 1090.79 50.3365 Q1090.79 39.1965 1096.78 32.6746 Q1102.82 26.1121 1113.02 26.1121 Q1122.18 26.1121 1127.49 32.0264 Q1132.83 37.9003 1132.83 48.0275 M1125.38 45.84 Q1125.3 39.7232 1121.94 36.0774 Q1118.62 32.4315 1113.11 32.4315 Q1106.87 32.4315 1103.1 35.9558 Q1099.37 39.4801 1098.81 45.8805 L1125.38 45.84 Z\" fill=\"#000000\" fill-rule=\"evenodd\" fill-opacity=\"1\" /><path clip-path=\"url(#clip210)\" d=\"M 0 0 M1163.62 9.54393 L1163.62 15.7418 L1156.49 15.7418 Q1152.48 15.7418 1150.9 17.3622 Q1149.36 18.9825 1149.36 23.1955 L1149.36 27.2059 L1161.64 27.2059 L1161.64 32.9987 L1149.36 32.9987 L1149.36 72.576 L1141.87 72.576 L1141.87 32.9987 L1134.74 32.9987 L1134.74 27.2059 L1141.87 27.2059 L1141.87 24.0462 Q1141.87 16.471 1145.39 13.0277 Q1148.92 9.54393 1156.57 9.54393 L1163.62 9.54393 Z\" fill=\"#000000\" fill-rule=\"evenodd\" fill-opacity=\"1\" /><path clip-path=\"url(#clip210)\" d=\"M 0 0 M1194.41 9.54393 L1194.41 15.7418 L1187.28 15.7418 Q1183.27 15.7418 1181.69 17.3622 Q1180.15 18.9825 1180.15 23.1955 L1180.15 27.2059 L1192.42 27.2059 L1192.42 32.9987 L1180.15 32.9987 L1180.15 72.576 L1172.65 72.576 L1172.65 32.9987 L1165.52 32.9987 L1165.52 27.2059 L1172.65 27.2059 L1172.65 24.0462 Q1172.65 16.471 1176.18 13.0277 Q1179.7 9.54393 1187.36 9.54393 L1194.41 9.54393 Z\" fill=\"#000000\" fill-rule=\"evenodd\" fill-opacity=\"1\" /><path clip-path=\"url(#clip210)\" d=\"M 0 0 M1202.23 27.2059 L1209.68 27.2059 L1209.68 72.576 L1202.23 72.576 L1202.23 27.2059 M1202.23 9.54393 L1209.68 9.54393 L1209.68 18.9825 L1202.23 18.9825 L1202.23 9.54393 Z\" fill=\"#000000\" fill-rule=\"evenodd\" fill-opacity=\"1\" /><path clip-path=\"url(#clip210)\" d=\"M 0 0 M1250.15 28.9478 L1250.15 35.9153 Q1246.99 34.1734 1243.79 33.3227 Q1240.63 32.4315 1237.39 32.4315 Q1230.14 32.4315 1226.13 37.0496 Q1222.12 41.6271 1222.12 49.9314 Q1222.12 58.2358 1226.13 62.8538 Q1230.14 67.4314 1237.39 67.4314 Q1240.63 67.4314 1243.79 66.5807 Q1246.99 65.6895 1250.15 63.9476 L1250.15 70.8341 Q1247.03 72.2924 1243.67 73.0216 Q1240.34 73.7508 1236.58 73.7508 Q1226.33 73.7508 1220.29 67.3098 Q1214.26 60.8689 1214.26 49.9314 Q1214.26 38.832 1220.33 32.472 Q1226.45 26.1121 1237.06 26.1121 Q1240.51 26.1121 1243.79 26.8413 Q1247.07 27.5299 1250.15 28.9478 Z\" fill=\"#000000\" fill-rule=\"evenodd\" fill-opacity=\"1\" /><path clip-path=\"url(#clip210)\" d=\"M 0 0 M1257.97 27.2059 L1265.42 27.2059 L1265.42 72.576 L1257.97 72.576 L1257.97 27.2059 M1257.97 9.54393 L1265.42 9.54393 L1265.42 18.9825 L1257.97 18.9825 L1257.97 9.54393 Z\" fill=\"#000000\" fill-rule=\"evenodd\" fill-opacity=\"1\" /><path clip-path=\"url(#clip210)\" d=\"M 0 0 M1312.05 48.0275 L1312.05 51.6733 L1277.78 51.6733 Q1278.26 59.3701 1282.39 63.421 Q1286.57 67.4314 1293.98 67.4314 Q1298.27 67.4314 1302.28 66.3781 Q1306.33 65.3249 1310.3 63.2184 L1310.3 70.267 Q1306.29 71.9684 1302.08 72.8596 Q1297.87 73.7508 1293.53 73.7508 Q1282.68 73.7508 1276.32 67.4314 Q1270 61.1119 1270 50.3365 Q1270 39.1965 1275.99 32.6746 Q1282.03 26.1121 1292.24 26.1121 Q1301.39 26.1121 1306.7 32.0264 Q1312.05 37.9003 1312.05 48.0275 M1304.59 45.84 Q1304.51 39.7232 1301.15 36.0774 Q1297.83 32.4315 1292.32 32.4315 Q1286.08 32.4315 1282.31 35.9558 Q1278.59 39.4801 1278.02 45.8805 L1304.59 45.84 Z\" fill=\"#000000\" fill-rule=\"evenodd\" fill-opacity=\"1\" /><path clip-path=\"url(#clip210)\" d=\"M 0 0 M1357.58 45.1919 L1357.58 72.576 L1350.12 72.576 L1350.12 45.4349 Q1350.12 38.994 1347.61 35.7938 Q1345.1 32.5936 1340.08 32.5936 Q1334.04 32.5936 1330.56 36.4419 Q1327.07 40.2903 1327.07 46.9338 L1327.07 72.576 L1319.58 72.576 L1319.58 27.2059 L1327.07 27.2059 L1327.07 34.2544 Q1329.75 30.163 1333.35 28.1376 Q1337 26.1121 1341.74 26.1121 Q1349.56 26.1121 1353.57 30.9732 Q1357.58 35.7938 1357.58 45.1919 Z\" fill=\"#000000\" fill-rule=\"evenodd\" fill-opacity=\"1\" /><path clip-path=\"url(#clip210)\" d=\"M 0 0 M1372.77 14.324 L1372.77 27.2059 L1388.12 27.2059 L1388.12 32.9987 L1372.77 32.9987 L1372.77 57.6282 Q1372.77 63.1779 1374.27 64.7578 Q1375.81 66.3376 1380.47 66.3376 L1388.12 66.3376 L1388.12 72.576 L1380.47 72.576 Q1371.84 72.576 1368.56 69.3758 Q1365.27 66.1351 1365.27 57.6282 L1365.27 32.9987 L1359.81 32.9987 L1359.81 27.2059 L1365.27 27.2059 L1365.27 14.324 L1372.77 14.324 Z\" fill=\"#000000\" fill-rule=\"evenodd\" fill-opacity=\"1\" /><path clip-path=\"url(#clip210)\" d=\"M 0 0 M1424.86 28.5427 L1424.86 35.5912 Q1421.7 33.9709 1418.3 33.1607 Q1414.9 32.3505 1411.25 32.3505 Q1405.7 32.3505 1402.91 34.0519 Q1400.15 35.7533 1400.15 39.156 Q1400.15 41.7486 1402.14 43.2475 Q1404.12 44.7058 1410.12 46.0426 L1412.67 46.6097 Q1420.61 48.3111 1423.93 51.4303 Q1427.29 54.509 1427.29 60.0587 Q1427.29 66.3781 1422.27 70.0644 Q1417.29 73.7508 1408.54 73.7508 Q1404.89 73.7508 1400.92 73.0216 Q1396.99 72.3329 1392.62 70.9151 L1392.62 63.2184 Q1396.75 65.3654 1400.76 66.4591 Q1404.77 67.5124 1408.7 67.5124 Q1413.97 67.5124 1416.8 65.73 Q1419.64 63.9071 1419.64 60.6258 Q1419.64 57.5877 1417.57 55.9673 Q1415.55 54.3469 1408.62 52.8481 L1406.03 52.2405 Q1399.1 50.7821 1396.02 47.7845 Q1392.94 44.7463 1392.94 39.4801 Q1392.94 33.0797 1397.48 29.5959 Q1402.02 26.1121 1410.36 26.1121 Q1414.49 26.1121 1418.14 26.7198 Q1421.78 27.3274 1424.86 28.5427 Z\" fill=\"#000000\" fill-rule=\"evenodd\" fill-opacity=\"1\" /><path clip-path=\"url(#clip210)\" d=\"M 0 0 M1458.89 12.096 L1467.68 12.096 L1482.71 34.5785 L1497.82 12.096 L1506.61 12.096 L1487.17 41.141 L1507.91 72.576 L1499.12 72.576 L1482.1 46.8528 L1464.97 72.576 L1456.14 72.576 L1477.73 40.2903 L1458.89 12.096 Z\" fill=\"#000000\" fill-rule=\"evenodd\" fill-opacity=\"1\" /><path clip-path=\"url(#clip210)\" d=\"M 0 0 M1513.13 12.096 L1521.92 12.096 L1536.95 34.5785 L1552.06 12.096 L1560.85 12.096 L1541.41 41.141 L1562.15 72.576 L1553.36 72.576 L1536.34 46.8528 L1519.21 72.576 L1510.38 72.576 L1531.97 40.2903 L1513.13 12.096 Z\" fill=\"#000000\" fill-rule=\"evenodd\" fill-opacity=\"1\" /><path clip-path=\"url(#clip210)\" d=\"M 0 0 M1567.37 12.096 L1576.16 12.096 L1591.19 34.5785 L1606.3 12.096 L1615.09 12.096 L1595.65 41.141 L1616.39 72.576 L1607.6 72.576 L1590.59 46.8528 L1573.45 72.576 L1564.62 72.576 L1586.21 40.2903 L1567.37 12.096 Z\" fill=\"#000000\" fill-rule=\"evenodd\" fill-opacity=\"1\" /><path clip-path=\"url(#clip210)\" d=\"M 0 0 M1685.9 35.9153 Q1688.7 30.8922 1692.59 28.5022 Q1696.48 26.1121 1701.74 26.1121 Q1708.83 26.1121 1712.68 31.0947 Q1716.53 36.0368 1716.53 45.1919 L1716.53 72.576 L1709.03 72.576 L1709.03 45.4349 Q1709.03 38.913 1706.73 35.7533 Q1704.42 32.5936 1699.68 32.5936 Q1693.88 32.5936 1690.52 36.4419 Q1687.16 40.2903 1687.16 46.9338 L1687.16 72.576 L1679.67 72.576 L1679.67 45.4349 Q1679.67 38.8725 1677.36 35.7533 Q1675.05 32.5936 1670.23 32.5936 Q1664.52 32.5936 1661.15 36.4824 Q1657.79 40.3308 1657.79 46.9338 L1657.79 72.576 L1650.3 72.576 L1650.3 27.2059 L1657.79 27.2059 L1657.79 34.2544 Q1660.34 30.082 1663.91 28.0971 Q1667.47 26.1121 1672.37 26.1121 Q1677.32 26.1121 1680.76 28.6237 Q1684.24 31.1352 1685.9 35.9153 Z\" fill=\"#000000\" fill-rule=\"evenodd\" fill-opacity=\"1\" /><path clip-path=\"url(#clip210)\" d=\"M 0 0 M1741.93 32.4315 Q1735.93 32.4315 1732.45 37.1306 Q1728.96 41.7891 1728.96 49.9314 Q1728.96 58.0738 1732.41 62.7728 Q1735.89 67.4314 1741.93 67.4314 Q1747.88 67.4314 1751.37 62.7323 Q1754.85 58.0333 1754.85 49.9314 Q1754.85 41.8701 1751.37 37.1711 Q1747.88 32.4315 1741.93 32.4315 M1741.93 26.1121 Q1751.65 26.1121 1757.2 32.4315 Q1762.75 38.7509 1762.75 49.9314 Q1762.75 61.0714 1757.2 67.4314 Q1751.65 73.7508 1741.93 73.7508 Q1732.17 73.7508 1726.62 67.4314 Q1721.11 61.0714 1721.11 49.9314 Q1721.11 38.7509 1726.62 32.4315 Q1732.17 26.1121 1741.93 26.1121 Z\" fill=\"#000000\" fill-rule=\"evenodd\" fill-opacity=\"1\" /><path clip-path=\"url(#clip210)\" d=\"M 0 0 M1800.42 34.0924 L1800.42 9.54393 L1807.88 9.54393 L1807.88 72.576 L1800.42 72.576 L1800.42 65.7705 Q1798.07 69.8214 1794.47 71.8063 Q1790.9 73.7508 1785.88 73.7508 Q1777.66 73.7508 1772.47 67.1883 Q1767.33 60.6258 1767.33 49.9314 Q1767.33 39.2371 1772.47 32.6746 Q1777.66 26.1121 1785.88 26.1121 Q1790.9 26.1121 1794.47 28.0971 Q1798.07 30.0415 1800.42 34.0924 M1775.02 49.9314 Q1775.02 58.1548 1778.39 62.8538 Q1781.79 67.5124 1787.7 67.5124 Q1793.62 67.5124 1797.02 62.8538 Q1800.42 58.1548 1800.42 49.9314 Q1800.42 41.7081 1797.02 37.0496 Q1793.62 32.3505 1787.7 32.3505 Q1781.79 32.3505 1778.39 37.0496 Q1775.02 41.7081 1775.02 49.9314 Z\" fill=\"#000000\" fill-rule=\"evenodd\" fill-opacity=\"1\" /><path clip-path=\"url(#clip210)\" d=\"M 0 0 M1854.5 48.0275 L1854.5 51.6733 L1820.23 51.6733 Q1820.72 59.3701 1824.85 63.421 Q1829.02 67.4314 1836.44 67.4314 Q1840.73 67.4314 1844.74 66.3781 Q1848.79 65.3249 1852.76 63.2184 L1852.76 70.267 Q1848.75 71.9684 1844.54 72.8596 Q1840.32 73.7508 1835.99 73.7508 Q1825.13 73.7508 1818.77 67.4314 Q1812.45 61.1119 1812.45 50.3365 Q1812.45 39.1965 1818.45 32.6746 Q1824.49 26.1121 1834.69 26.1121 Q1843.85 26.1121 1849.16 32.0264 Q1854.5 37.9003 1854.5 48.0275 M1847.05 45.84 Q1846.97 39.7232 1843.61 36.0774 Q1840.28 32.4315 1834.77 32.4315 Q1828.54 32.4315 1824.77 35.9558 Q1821.04 39.4801 1820.47 45.8805 L1847.05 45.84 Z\" fill=\"#000000\" fill-rule=\"evenodd\" fill-opacity=\"1\" /><path clip-path=\"url(#clip210)\" d=\"M 0 0 M1862.32 9.54393 L1869.77 9.54393 L1869.77 72.576 L1862.32 72.576 L1862.32 9.54393 Z\" fill=\"#000000\" fill-rule=\"evenodd\" fill-opacity=\"1\" /><circle clip-path=\"url(#clip212)\" cx=\"258.84\" cy=\"1386.4\" r=\"14\" fill=\"#009af9\" fill-rule=\"evenodd\" fill-opacity=\"1\" stroke=\"#000000\" stroke-opacity=\"1\" stroke-width=\"3.2\"/>\n",
       "<circle clip-path=\"url(#clip212)\" cx=\"462.133\" cy=\"1156.82\" r=\"14\" fill=\"#009af9\" fill-rule=\"evenodd\" fill-opacity=\"1\" stroke=\"#000000\" stroke-opacity=\"1\" stroke-width=\"3.2\"/>\n",
       "<circle clip-path=\"url(#clip212)\" cx=\"665.426\" cy=\"1226.59\" r=\"14\" fill=\"#009af9\" fill-rule=\"evenodd\" fill-opacity=\"1\" stroke=\"#000000\" stroke-opacity=\"1\" stroke-width=\"3.2\"/>\n",
       "<circle clip-path=\"url(#clip212)\" cx=\"868.719\" cy=\"997.538\" r=\"14\" fill=\"#009af9\" fill-rule=\"evenodd\" fill-opacity=\"1\" stroke=\"#000000\" stroke-opacity=\"1\" stroke-width=\"3.2\"/>\n",
       "<circle clip-path=\"url(#clip212)\" cx=\"1072.01\" cy=\"910.432\" r=\"14\" fill=\"#009af9\" fill-rule=\"evenodd\" fill-opacity=\"1\" stroke=\"#000000\" stroke-opacity=\"1\" stroke-width=\"3.2\"/>\n",
       "<circle clip-path=\"url(#clip212)\" cx=\"1275.3\" cy=\"711.309\" r=\"14\" fill=\"#009af9\" fill-rule=\"evenodd\" fill-opacity=\"1\" stroke=\"#000000\" stroke-opacity=\"1\" stroke-width=\"3.2\"/>\n",
       "<circle clip-path=\"url(#clip212)\" cx=\"1478.6\" cy=\"658.179\" r=\"14\" fill=\"#009af9\" fill-rule=\"evenodd\" fill-opacity=\"1\" stroke=\"#000000\" stroke-opacity=\"1\" stroke-width=\"3.2\"/>\n",
       "<circle clip-path=\"url(#clip212)\" cx=\"1681.89\" cy=\"456.318\" r=\"14\" fill=\"#009af9\" fill-rule=\"evenodd\" fill-opacity=\"1\" stroke=\"#000000\" stroke-opacity=\"1\" stroke-width=\"3.2\"/>\n",
       "<circle clip-path=\"url(#clip212)\" cx=\"1885.18\" cy=\"347.887\" r=\"14\" fill=\"#009af9\" fill-rule=\"evenodd\" fill-opacity=\"1\" stroke=\"#000000\" stroke-opacity=\"1\" stroke-width=\"3.2\"/>\n",
       "<circle clip-path=\"url(#clip212)\" cx=\"2088.48\" cy=\"221.154\" r=\"14\" fill=\"#009af9\" fill-rule=\"evenodd\" fill-opacity=\"1\" stroke=\"#000000\" stroke-opacity=\"1\" stroke-width=\"3.2\"/>\n",
       "<circle clip-path=\"url(#clip212)\" cx=\"2291.77\" cy=\"160.256\" r=\"14\" fill=\"#009af9\" fill-rule=\"evenodd\" fill-opacity=\"1\" stroke=\"#000000\" stroke-opacity=\"1\" stroke-width=\"3.2\"/>\n",
       "</svg>\n"
      ]
     },
     "execution_count": 75,
     "metadata": {},
     "output_type": "execute_result"
    }
   ],
   "source": [
    "x = 1:length(VXXX); y = VXXX; # Lanczos Coefficients XXX model\n",
    "plot(x, y,title = \"Lanczos coefficients XXX model\",seriestype = :scatter,label = false)\n",
    "ylabel!(\"bn\")\n",
    "xlabel!(\"n\")"
   ]
  },
  {
   "cell_type": "code",
   "execution_count": 82,
   "metadata": {},
   "outputs": [
    {
     "data": {
      "image/svg+xml": [
       "<?xml version=\"1.0\" encoding=\"utf-8\"?>\n",
       "<svg xmlns=\"http://www.w3.org/2000/svg\" xmlns:xlink=\"http://www.w3.org/1999/xlink\" width=\"600\" height=\"400\" viewBox=\"0 0 2400 1600\">\n",
       "<defs>\n",
       "  <clipPath id=\"clip290\">\n",
       "    <rect x=\"0\" y=\"0\" width=\"2400\" height=\"1600\"/>\n",
       "  </clipPath>\n",
       "</defs>\n",
       "<path clip-path=\"url(#clip290)\" d=\"\n",
       "M0 1600 L2400 1600 L2400 0 L0 0  Z\n",
       "  \" fill=\"#ffffff\" fill-rule=\"evenodd\" fill-opacity=\"1\"/>\n",
       "<defs>\n",
       "  <clipPath id=\"clip291\">\n",
       "    <rect x=\"480\" y=\"0\" width=\"1681\" height=\"1600\"/>\n",
       "  </clipPath>\n",
       "</defs>\n",
       "<path clip-path=\"url(#clip290)\" d=\"\n",
       "M236.186 1423.18 L2352.76 1423.18 L2352.76 123.472 L236.186 123.472  Z\n",
       "  \" fill=\"#ffffff\" fill-rule=\"evenodd\" fill-opacity=\"1\"/>\n",
       "<defs>\n",
       "  <clipPath id=\"clip292\">\n",
       "    <rect x=\"236\" y=\"123\" width=\"2118\" height=\"1301\"/>\n",
       "  </clipPath>\n",
       "</defs>\n",
       "<polyline clip-path=\"url(#clip292)\" style=\"stroke:#000000; stroke-width:2; stroke-opacity:0.1; fill:none\" points=\"\n",
       "  296.089,1423.18 296.089,123.472 \n",
       "  \"/>\n",
       "<polyline clip-path=\"url(#clip292)\" style=\"stroke:#000000; stroke-width:2; stroke-opacity:0.1; fill:none\" points=\"\n",
       "  712.446,1423.18 712.446,123.472 \n",
       "  \"/>\n",
       "<polyline clip-path=\"url(#clip292)\" style=\"stroke:#000000; stroke-width:2; stroke-opacity:0.1; fill:none\" points=\"\n",
       "  1128.8,1423.18 1128.8,123.472 \n",
       "  \"/>\n",
       "<polyline clip-path=\"url(#clip292)\" style=\"stroke:#000000; stroke-width:2; stroke-opacity:0.1; fill:none\" points=\"\n",
       "  1545.16,1423.18 1545.16,123.472 \n",
       "  \"/>\n",
       "<polyline clip-path=\"url(#clip292)\" style=\"stroke:#000000; stroke-width:2; stroke-opacity:0.1; fill:none\" points=\"\n",
       "  1961.52,1423.18 1961.52,123.472 \n",
       "  \"/>\n",
       "<polyline clip-path=\"url(#clip290)\" style=\"stroke:#000000; stroke-width:4; stroke-opacity:1; fill:none\" points=\"\n",
       "  236.186,1423.18 2352.76,1423.18 \n",
       "  \"/>\n",
       "<polyline clip-path=\"url(#clip290)\" style=\"stroke:#000000; stroke-width:4; stroke-opacity:1; fill:none\" points=\"\n",
       "  296.089,1423.18 296.089,1407.58 \n",
       "  \"/>\n",
       "<polyline clip-path=\"url(#clip290)\" style=\"stroke:#000000; stroke-width:4; stroke-opacity:1; fill:none\" points=\"\n",
       "  712.446,1423.18 712.446,1407.58 \n",
       "  \"/>\n",
       "<polyline clip-path=\"url(#clip290)\" style=\"stroke:#000000; stroke-width:4; stroke-opacity:1; fill:none\" points=\"\n",
       "  1128.8,1423.18 1128.8,1407.58 \n",
       "  \"/>\n",
       "<polyline clip-path=\"url(#clip290)\" style=\"stroke:#000000; stroke-width:4; stroke-opacity:1; fill:none\" points=\"\n",
       "  1545.16,1423.18 1545.16,1407.58 \n",
       "  \"/>\n",
       "<polyline clip-path=\"url(#clip290)\" style=\"stroke:#000000; stroke-width:4; stroke-opacity:1; fill:none\" points=\"\n",
       "  1961.52,1423.18 1961.52,1407.58 \n",
       "  \"/>\n",
       "<path clip-path=\"url(#clip290)\" d=\"M 0 0 M277.605 1452.37 Q273.994 1452.37 272.165 1455.94 Q270.36 1459.48 270.36 1466.61 Q270.36 1473.71 272.165 1477.28 Q273.994 1480.82 277.605 1480.82 Q281.239 1480.82 283.045 1477.28 Q284.873 1473.71 284.873 1466.61 Q284.873 1459.48 283.045 1455.94 Q281.239 1452.37 277.605 1452.37 M277.605 1448.67 Q283.415 1448.67 286.471 1453.27 Q289.549 1457.86 289.549 1466.61 Q289.549 1475.33 286.471 1479.94 Q283.415 1484.52 277.605 1484.52 Q271.795 1484.52 268.716 1479.94 Q265.66 1475.33 265.66 1466.61 Q265.66 1457.86 268.716 1453.27 Q271.795 1448.67 277.605 1448.67 Z\" fill=\"#000000\" fill-rule=\"evenodd\" fill-opacity=\"1\" /><path clip-path=\"url(#clip290)\" d=\"M 0 0 M294.619 1477.97 L299.503 1477.97 L299.503 1483.85 L294.619 1483.85 L294.619 1477.97 Z\" fill=\"#000000\" fill-rule=\"evenodd\" fill-opacity=\"1\" /><path clip-path=\"url(#clip290)\" d=\"M 0 0 M314.572 1452.37 Q310.961 1452.37 309.132 1455.94 Q307.327 1459.48 307.327 1466.61 Q307.327 1473.71 309.132 1477.28 Q310.961 1480.82 314.572 1480.82 Q318.206 1480.82 320.012 1477.28 Q321.841 1473.71 321.841 1466.61 Q321.841 1459.48 320.012 1455.94 Q318.206 1452.37 314.572 1452.37 M314.572 1448.67 Q320.382 1448.67 323.438 1453.27 Q326.517 1457.86 326.517 1466.61 Q326.517 1475.33 323.438 1479.94 Q320.382 1484.52 314.572 1484.52 Q308.762 1484.52 305.683 1479.94 Q302.628 1475.33 302.628 1466.61 Q302.628 1457.86 305.683 1453.27 Q308.762 1448.67 314.572 1448.67 Z\" fill=\"#000000\" fill-rule=\"evenodd\" fill-opacity=\"1\" /><path clip-path=\"url(#clip290)\" d=\"M 0 0 M694.46 1452.37 Q690.849 1452.37 689.02 1455.94 Q687.215 1459.48 687.215 1466.61 Q687.215 1473.71 689.02 1477.28 Q690.849 1480.82 694.46 1480.82 Q698.095 1480.82 699.9 1477.28 Q701.729 1473.71 701.729 1466.61 Q701.729 1459.48 699.9 1455.94 Q698.095 1452.37 694.46 1452.37 M694.46 1448.67 Q700.27 1448.67 703.326 1453.27 Q706.405 1457.86 706.405 1466.61 Q706.405 1475.33 703.326 1479.94 Q700.27 1484.52 694.46 1484.52 Q688.65 1484.52 685.571 1479.94 Q682.516 1475.33 682.516 1466.61 Q682.516 1457.86 685.571 1453.27 Q688.65 1448.67 694.46 1448.67 Z\" fill=\"#000000\" fill-rule=\"evenodd\" fill-opacity=\"1\" /><path clip-path=\"url(#clip290)\" d=\"M 0 0 M711.474 1477.97 L716.358 1477.97 L716.358 1483.85 L711.474 1483.85 L711.474 1477.97 Z\" fill=\"#000000\" fill-rule=\"evenodd\" fill-opacity=\"1\" /><path clip-path=\"url(#clip290)\" d=\"M 0 0 M721.474 1449.29 L739.83 1449.29 L739.83 1453.23 L725.756 1453.23 L725.756 1461.7 Q726.775 1461.35 727.793 1461.19 Q728.812 1461 729.83 1461 Q735.617 1461 738.997 1464.18 Q742.377 1467.35 742.377 1472.76 Q742.377 1478.34 738.904 1481.44 Q735.432 1484.52 729.113 1484.52 Q726.937 1484.52 724.668 1484.15 Q722.423 1483.78 720.016 1483.04 L720.016 1478.34 Q722.099 1479.48 724.321 1480.03 Q726.543 1480.59 729.02 1480.59 Q733.025 1480.59 735.363 1478.48 Q737.701 1476.38 737.701 1472.76 Q737.701 1469.15 735.363 1467.05 Q733.025 1464.94 729.02 1464.94 Q727.145 1464.94 725.27 1465.36 Q723.418 1465.77 721.474 1466.65 L721.474 1449.29 Z\" fill=\"#000000\" fill-rule=\"evenodd\" fill-opacity=\"1\" /><path clip-path=\"url(#clip290)\" d=\"M 0 0 M1100.7 1479.92 L1108.34 1479.92 L1108.34 1453.55 L1100.03 1455.22 L1100.03 1450.96 L1108.29 1449.29 L1112.97 1449.29 L1112.97 1479.92 L1120.61 1479.92 L1120.61 1483.85 L1100.7 1483.85 L1100.7 1479.92 Z\" fill=\"#000000\" fill-rule=\"evenodd\" fill-opacity=\"1\" /><path clip-path=\"url(#clip290)\" d=\"M 0 0 M1125.68 1477.97 L1130.56 1477.97 L1130.56 1483.85 L1125.68 1483.85 L1125.68 1477.97 Z\" fill=\"#000000\" fill-rule=\"evenodd\" fill-opacity=\"1\" /><path clip-path=\"url(#clip290)\" d=\"M 0 0 M1145.63 1452.37 Q1142.02 1452.37 1140.19 1455.94 Q1138.39 1459.48 1138.39 1466.61 Q1138.39 1473.71 1140.19 1477.28 Q1142.02 1480.82 1145.63 1480.82 Q1149.27 1480.82 1151.07 1477.28 Q1152.9 1473.71 1152.9 1466.61 Q1152.9 1459.48 1151.07 1455.94 Q1149.27 1452.37 1145.63 1452.37 M1145.63 1448.67 Q1151.44 1448.67 1154.5 1453.27 Q1157.58 1457.86 1157.58 1466.61 Q1157.58 1475.33 1154.5 1479.94 Q1151.44 1484.52 1145.63 1484.52 Q1139.82 1484.52 1136.74 1479.94 Q1133.69 1475.33 1133.69 1466.61 Q1133.69 1457.86 1136.74 1453.27 Q1139.82 1448.67 1145.63 1448.67 Z\" fill=\"#000000\" fill-rule=\"evenodd\" fill-opacity=\"1\" /><path clip-path=\"url(#clip290)\" d=\"M 0 0 M1517.56 1479.92 L1525.2 1479.92 L1525.2 1453.55 L1516.89 1455.22 L1516.89 1450.96 L1525.15 1449.29 L1529.83 1449.29 L1529.83 1479.92 L1537.46 1479.92 L1537.46 1483.85 L1517.56 1483.85 L1517.56 1479.92 Z\" fill=\"#000000\" fill-rule=\"evenodd\" fill-opacity=\"1\" /><path clip-path=\"url(#clip290)\" d=\"M 0 0 M1542.53 1477.97 L1547.42 1477.97 L1547.42 1483.85 L1542.53 1483.85 L1542.53 1477.97 Z\" fill=\"#000000\" fill-rule=\"evenodd\" fill-opacity=\"1\" /><path clip-path=\"url(#clip290)\" d=\"M 0 0 M1552.53 1449.29 L1570.89 1449.29 L1570.89 1453.23 L1556.82 1453.23 L1556.82 1461.7 Q1557.84 1461.35 1558.85 1461.19 Q1559.87 1461 1560.89 1461 Q1566.68 1461 1570.06 1464.18 Q1573.44 1467.35 1573.44 1472.76 Q1573.44 1478.34 1569.96 1481.44 Q1566.49 1484.52 1560.17 1484.52 Q1558 1484.52 1555.73 1484.15 Q1553.48 1483.78 1551.08 1483.04 L1551.08 1478.34 Q1553.16 1479.48 1555.38 1480.03 Q1557.6 1480.59 1560.08 1480.59 Q1564.09 1480.59 1566.42 1478.48 Q1568.76 1476.38 1568.76 1472.76 Q1568.76 1469.15 1566.42 1467.05 Q1564.09 1464.94 1560.08 1464.94 Q1558.21 1464.94 1556.33 1465.36 Q1554.48 1465.77 1552.53 1466.65 L1552.53 1449.29 Z\" fill=\"#000000\" fill-rule=\"evenodd\" fill-opacity=\"1\" /><path clip-path=\"url(#clip290)\" d=\"M 0 0 M1937.69 1479.92 L1954.01 1479.92 L1954.01 1483.85 L1932.06 1483.85 L1932.06 1479.92 Q1934.73 1477.16 1939.31 1472.53 Q1943.92 1467.88 1945.1 1466.54 Q1947.34 1464.01 1948.22 1462.28 Q1949.12 1460.52 1949.12 1458.83 Q1949.12 1456.07 1947.18 1454.34 Q1945.26 1452.6 1942.16 1452.6 Q1939.96 1452.6 1937.5 1453.37 Q1935.07 1454.13 1932.3 1455.68 L1932.3 1450.96 Q1935.12 1449.82 1937.57 1449.25 Q1940.03 1448.67 1942.06 1448.67 Q1947.43 1448.67 1950.63 1451.35 Q1953.82 1454.04 1953.82 1458.53 Q1953.82 1460.66 1953.01 1462.58 Q1952.23 1464.48 1950.12 1467.07 Q1949.54 1467.74 1946.44 1470.96 Q1943.34 1474.15 1937.69 1479.92 Z\" fill=\"#000000\" fill-rule=\"evenodd\" fill-opacity=\"1\" /><path clip-path=\"url(#clip290)\" d=\"M 0 0 M1959.08 1477.97 L1963.96 1477.97 L1963.96 1483.85 L1959.08 1483.85 L1959.08 1477.97 Z\" fill=\"#000000\" fill-rule=\"evenodd\" fill-opacity=\"1\" /><path clip-path=\"url(#clip290)\" d=\"M 0 0 M1979.03 1452.37 Q1975.42 1452.37 1973.59 1455.94 Q1971.79 1459.48 1971.79 1466.61 Q1971.79 1473.71 1973.59 1477.28 Q1975.42 1480.82 1979.03 1480.82 Q1982.67 1480.82 1984.47 1477.28 Q1986.3 1473.71 1986.3 1466.61 Q1986.3 1459.48 1984.47 1455.94 Q1982.67 1452.37 1979.03 1452.37 M1979.03 1448.67 Q1984.84 1448.67 1987.9 1453.27 Q1990.98 1457.86 1990.98 1466.61 Q1990.98 1475.33 1987.9 1479.94 Q1984.84 1484.52 1979.03 1484.52 Q1973.22 1484.52 1970.14 1479.94 Q1967.09 1475.33 1967.09 1466.61 Q1967.09 1457.86 1970.14 1453.27 Q1973.22 1448.67 1979.03 1448.67 Z\" fill=\"#000000\" fill-rule=\"evenodd\" fill-opacity=\"1\" /><path clip-path=\"url(#clip290)\" d=\"M 0 0 M1217.75 1506.52 L1223.6 1506.52 L1223.6 1556.04 L1217.75 1556.04 L1217.75 1506.52 Z\" fill=\"#000000\" fill-rule=\"evenodd\" fill-opacity=\"1\" /><path clip-path=\"url(#clip290)\" d=\"M 0 0 M1243.56 1524.5 Q1238.85 1524.5 1236.11 1528.19 Q1233.38 1531.85 1233.38 1538.25 Q1233.38 1544.65 1236.08 1548.34 Q1238.82 1552 1243.56 1552 Q1248.24 1552 1250.98 1548.31 Q1253.71 1544.62 1253.71 1538.25 Q1253.71 1531.92 1250.98 1528.23 Q1248.24 1524.5 1243.56 1524.5 M1243.56 1519.54 Q1251.2 1519.54 1255.56 1524.5 Q1259.92 1529.47 1259.92 1538.25 Q1259.92 1547 1255.56 1552 Q1251.2 1556.97 1243.56 1556.97 Q1235.89 1556.97 1231.53 1552 Q1227.2 1547 1227.2 1538.25 Q1227.2 1529.47 1231.53 1524.5 Q1235.89 1519.54 1243.56 1519.54 Z\" fill=\"#000000\" fill-rule=\"evenodd\" fill-opacity=\"1\" /><path clip-path=\"url(#clip290)\" d=\"M 0 0 M1289.52 1537.81 Q1289.52 1531.44 1286.88 1527.94 Q1284.27 1524.44 1279.53 1524.44 Q1274.82 1524.44 1272.17 1527.94 Q1269.56 1531.44 1269.56 1537.81 Q1269.56 1544.14 1272.17 1547.64 Q1274.82 1551.14 1279.53 1551.14 Q1284.27 1551.14 1286.88 1547.64 Q1289.52 1544.14 1289.52 1537.81 M1295.38 1551.62 Q1295.38 1560.72 1291.34 1565.15 Q1287.29 1569.6 1278.95 1569.6 Q1275.87 1569.6 1273.13 1569.13 Q1270.39 1568.68 1267.81 1567.72 L1267.81 1562.03 Q1270.39 1563.43 1272.91 1564.1 Q1275.42 1564.76 1278.03 1564.76 Q1283.79 1564.76 1286.66 1561.74 Q1289.52 1558.75 1289.52 1552.67 L1289.52 1549.77 Q1287.71 1552.92 1284.87 1554.48 Q1282.04 1556.04 1278.09 1556.04 Q1271.54 1556.04 1267.53 1551.05 Q1263.52 1546.05 1263.52 1537.81 Q1263.52 1529.53 1267.53 1524.53 Q1271.54 1519.54 1278.09 1519.54 Q1282.04 1519.54 1284.87 1521.1 Q1287.71 1522.66 1289.52 1525.81 L1289.52 1520.4 L1295.38 1520.4 L1295.38 1551.62 Z\" fill=\"#000000\" fill-rule=\"evenodd\" fill-opacity=\"1\" /><path clip-path=\"url(#clip290)\" d=\"M 0 0 M1315.59 1506.58 Q1311.32 1513.9 1309.26 1521.06 Q1307.19 1528.23 1307.19 1535.58 Q1307.19 1542.93 1309.26 1550.16 Q1311.36 1557.35 1315.59 1564.64 L1310.5 1564.64 Q1305.72 1557.16 1303.34 1549.93 Q1300.98 1542.71 1300.98 1535.58 Q1300.98 1528.48 1303.34 1521.29 Q1305.69 1514.09 1310.5 1506.58 L1315.59 1506.58 Z\" fill=\"#000000\" fill-rule=\"evenodd\" fill-opacity=\"1\" /><path clip-path=\"url(#clip290)\" d=\"M 0 0 M1351.36 1534.53 L1351.36 1556.04 L1345.51 1556.04 L1345.51 1534.72 Q1345.51 1529.66 1343.53 1527.14 Q1341.56 1524.63 1337.61 1524.63 Q1332.87 1524.63 1330.13 1527.65 Q1327.4 1530.68 1327.4 1535.9 L1327.4 1556.04 L1321.51 1556.04 L1321.51 1520.4 L1327.4 1520.4 L1327.4 1525.93 Q1329.5 1522.72 1332.33 1521.13 Q1335.2 1519.54 1338.92 1519.54 Q1345.06 1519.54 1348.21 1523.36 Q1351.36 1527.14 1351.36 1534.53 Z\" fill=\"#000000\" fill-rule=\"evenodd\" fill-opacity=\"1\" /><path clip-path=\"url(#clip290)\" d=\"M 0 0 M1356.58 1506.58 L1361.68 1506.58 Q1366.45 1514.09 1368.81 1521.29 Q1371.19 1528.48 1371.19 1535.58 Q1371.19 1542.71 1368.81 1549.93 Q1366.45 1557.16 1361.68 1564.64 L1356.58 1564.64 Q1360.82 1557.35 1362.89 1550.16 Q1364.99 1542.93 1364.99 1535.58 Q1364.99 1528.23 1362.89 1521.06 Q1360.82 1513.9 1356.58 1506.58 Z\" fill=\"#000000\" fill-rule=\"evenodd\" fill-opacity=\"1\" /><polyline clip-path=\"url(#clip292)\" style=\"stroke:#000000; stroke-width:2; stroke-opacity:0.1; fill:none\" points=\"\n",
       "  236.186,1247.29 2352.76,1247.29 \n",
       "  \"/>\n",
       "<polyline clip-path=\"url(#clip292)\" style=\"stroke:#000000; stroke-width:2; stroke-opacity:0.1; fill:none\" points=\"\n",
       "  236.186,941.448 2352.76,941.448 \n",
       "  \"/>\n",
       "<polyline clip-path=\"url(#clip292)\" style=\"stroke:#000000; stroke-width:2; stroke-opacity:0.1; fill:none\" points=\"\n",
       "  236.186,635.604 2352.76,635.604 \n",
       "  \"/>\n",
       "<polyline clip-path=\"url(#clip292)\" style=\"stroke:#000000; stroke-width:2; stroke-opacity:0.1; fill:none\" points=\"\n",
       "  236.186,329.761 2352.76,329.761 \n",
       "  \"/>\n",
       "<polyline clip-path=\"url(#clip290)\" style=\"stroke:#000000; stroke-width:4; stroke-opacity:1; fill:none\" points=\"\n",
       "  236.186,1423.18 236.186,123.472 \n",
       "  \"/>\n",
       "<polyline clip-path=\"url(#clip290)\" style=\"stroke:#000000; stroke-width:4; stroke-opacity:1; fill:none\" points=\"\n",
       "  236.186,1247.29 261.584,1247.29 \n",
       "  \"/>\n",
       "<polyline clip-path=\"url(#clip290)\" style=\"stroke:#000000; stroke-width:4; stroke-opacity:1; fill:none\" points=\"\n",
       "  236.186,941.448 261.584,941.448 \n",
       "  \"/>\n",
       "<polyline clip-path=\"url(#clip290)\" style=\"stroke:#000000; stroke-width:4; stroke-opacity:1; fill:none\" points=\"\n",
       "  236.186,635.604 261.584,635.604 \n",
       "  \"/>\n",
       "<polyline clip-path=\"url(#clip290)\" style=\"stroke:#000000; stroke-width:4; stroke-opacity:1; fill:none\" points=\"\n",
       "  236.186,329.761 261.584,329.761 \n",
       "  \"/>\n",
       "<path clip-path=\"url(#clip290)\" d=\"M 0 0 M117.293 1260.64 L124.931 1260.64 L124.931 1234.27 L116.621 1235.94 L116.621 1231.68 L124.885 1230.01 L129.561 1230.01 L129.561 1260.64 L137.2 1260.64 L137.2 1264.57 L117.293 1264.57 L117.293 1260.64 Z\" fill=\"#000000\" fill-rule=\"evenodd\" fill-opacity=\"1\" /><path clip-path=\"url(#clip290)\" d=\"M 0 0 M142.269 1258.69 L147.153 1258.69 L147.153 1264.57 L142.269 1264.57 L142.269 1258.69 Z\" fill=\"#000000\" fill-rule=\"evenodd\" fill-opacity=\"1\" /><path clip-path=\"url(#clip290)\" d=\"M 0 0 M152.269 1230.01 L170.626 1230.01 L170.626 1233.95 L156.552 1233.95 L156.552 1242.42 Q157.57 1242.07 158.589 1241.91 Q159.607 1241.72 160.626 1241.72 Q166.413 1241.72 169.792 1244.9 Q173.172 1248.07 173.172 1253.48 Q173.172 1259.06 169.7 1262.16 Q166.227 1265.24 159.908 1265.24 Q157.732 1265.24 155.464 1264.87 Q153.218 1264.5 150.811 1263.76 L150.811 1259.06 Q152.894 1260.2 155.116 1260.75 Q157.339 1261.31 159.815 1261.31 Q163.82 1261.31 166.158 1259.2 Q168.496 1257.09 168.496 1253.48 Q168.496 1249.87 166.158 1247.77 Q163.82 1245.66 159.815 1245.66 Q157.94 1245.66 156.065 1246.08 Q154.214 1246.49 152.269 1247.37 L152.269 1230.01 Z\" fill=\"#000000\" fill-rule=\"evenodd\" fill-opacity=\"1\" /><path clip-path=\"url(#clip290)\" d=\"M 0 0 M188.241 1233.09 Q184.63 1233.09 182.801 1236.65 Q180.996 1240.2 180.996 1247.33 Q180.996 1254.43 182.801 1258 Q184.63 1261.54 188.241 1261.54 Q191.875 1261.54 193.681 1258 Q195.51 1254.43 195.51 1247.33 Q195.51 1240.2 193.681 1236.65 Q191.875 1233.09 188.241 1233.09 M188.241 1229.39 Q194.051 1229.39 197.107 1233.99 Q200.186 1238.58 200.186 1247.33 Q200.186 1256.05 197.107 1260.66 Q194.051 1265.24 188.241 1265.24 Q182.431 1265.24 179.352 1260.66 Q176.297 1256.05 176.297 1247.33 Q176.297 1238.58 179.352 1233.99 Q182.431 1229.39 188.241 1229.39 Z\" fill=\"#000000\" fill-rule=\"evenodd\" fill-opacity=\"1\" /><path clip-path=\"url(#clip290)\" d=\"M 0 0 M118.195 954.792 L125.834 954.792 L125.834 928.427 L117.524 930.094 L117.524 925.834 L125.788 924.168 L130.464 924.168 L130.464 954.792 L138.103 954.792 L138.103 958.728 L118.195 958.728 L118.195 954.792 Z\" fill=\"#000000\" fill-rule=\"evenodd\" fill-opacity=\"1\" /><path clip-path=\"url(#clip290)\" d=\"M 0 0 M143.172 952.848 L148.056 952.848 L148.056 958.728 L143.172 958.728 L143.172 952.848 Z\" fill=\"#000000\" fill-rule=\"evenodd\" fill-opacity=\"1\" /><path clip-path=\"url(#clip290)\" d=\"M 0 0 M151.945 924.168 L174.167 924.168 L174.167 926.158 L161.621 958.728 L156.737 958.728 L168.542 928.103 L151.945 928.103 L151.945 924.168 Z\" fill=\"#000000\" fill-rule=\"evenodd\" fill-opacity=\"1\" /><path clip-path=\"url(#clip290)\" d=\"M 0 0 M179.283 924.168 L197.639 924.168 L197.639 928.103 L183.565 928.103 L183.565 936.575 Q184.584 936.228 185.602 936.066 Q186.621 935.881 187.639 935.881 Q193.426 935.881 196.806 939.052 Q200.186 942.223 200.186 947.64 Q200.186 953.218 196.713 956.32 Q193.241 959.399 186.922 959.399 Q184.746 959.399 182.477 959.029 Q180.232 958.658 177.825 957.917 L177.825 953.218 Q179.908 954.353 182.13 954.908 Q184.352 955.464 186.829 955.464 Q190.834 955.464 193.172 953.357 Q195.51 951.251 195.51 947.64 Q195.51 944.029 193.172 941.922 Q190.834 939.816 186.829 939.816 Q184.954 939.816 183.079 940.232 Q181.227 940.649 179.283 941.529 L179.283 924.168 Z\" fill=\"#000000\" fill-rule=\"evenodd\" fill-opacity=\"1\" /><path clip-path=\"url(#clip290)\" d=\"M 0 0 M119.885 648.949 L136.204 648.949 L136.204 652.884 L114.26 652.884 L114.26 648.949 Q116.922 646.194 121.505 641.565 Q126.112 636.912 127.292 635.569 Q129.538 633.046 130.417 631.31 Q131.32 629.551 131.32 627.861 Q131.32 625.107 129.376 623.37 Q127.455 621.634 124.353 621.634 Q122.154 621.634 119.7 622.398 Q117.269 623.162 114.492 624.713 L114.492 619.991 Q117.316 618.857 119.769 618.278 Q122.223 617.699 124.26 617.699 Q129.63 617.699 132.825 620.384 Q136.019 623.069 136.019 627.56 Q136.019 629.69 135.209 631.611 Q134.422 633.509 132.316 636.102 Q131.737 636.773 128.635 639.991 Q125.533 643.185 119.885 648.949 Z\" fill=\"#000000\" fill-rule=\"evenodd\" fill-opacity=\"1\" /><path clip-path=\"url(#clip290)\" d=\"M 0 0 M141.274 647.005 L146.158 647.005 L146.158 652.884 L141.274 652.884 L141.274 647.005 Z\" fill=\"#000000\" fill-rule=\"evenodd\" fill-opacity=\"1\" /><path clip-path=\"url(#clip290)\" d=\"M 0 0 M161.227 621.403 Q157.616 621.403 155.788 624.968 Q153.982 628.509 153.982 635.639 Q153.982 642.745 155.788 646.31 Q157.616 649.852 161.227 649.852 Q164.862 649.852 166.667 646.31 Q168.496 642.745 168.496 635.639 Q168.496 628.509 166.667 624.968 Q164.862 621.403 161.227 621.403 M161.227 617.699 Q167.038 617.699 170.093 622.306 Q173.172 626.889 173.172 635.639 Q173.172 644.366 170.093 648.972 Q167.038 653.555 161.227 653.555 Q155.417 653.555 152.339 648.972 Q149.283 644.366 149.283 635.639 Q149.283 626.889 152.339 622.306 Q155.417 617.699 161.227 617.699 Z\" fill=\"#000000\" fill-rule=\"evenodd\" fill-opacity=\"1\" /><path clip-path=\"url(#clip290)\" d=\"M 0 0 M188.241 621.403 Q184.63 621.403 182.801 624.968 Q180.996 628.509 180.996 635.639 Q180.996 642.745 182.801 646.31 Q184.63 649.852 188.241 649.852 Q191.875 649.852 193.681 646.31 Q195.51 642.745 195.51 635.639 Q195.51 628.509 193.681 624.968 Q191.875 621.403 188.241 621.403 M188.241 617.699 Q194.051 617.699 197.107 622.306 Q200.186 626.889 200.186 635.639 Q200.186 644.366 197.107 648.972 Q194.051 653.555 188.241 653.555 Q182.431 653.555 179.352 648.972 Q176.297 644.366 176.297 635.639 Q176.297 626.889 179.352 622.306 Q182.431 617.699 188.241 617.699 Z\" fill=\"#000000\" fill-rule=\"evenodd\" fill-opacity=\"1\" /><path clip-path=\"url(#clip290)\" d=\"M 0 0 M122.478 343.105 L138.797 343.105 L138.797 347.041 L116.853 347.041 L116.853 343.105 Q119.515 340.351 124.098 335.721 Q128.705 331.069 129.885 329.726 Q132.13 327.203 133.01 325.467 Q133.913 323.707 133.913 322.018 Q133.913 319.263 131.968 317.527 Q130.047 315.791 126.945 315.791 Q124.746 315.791 122.293 316.555 Q119.862 317.319 117.084 318.869 L117.084 314.147 Q119.908 313.013 122.362 312.434 Q124.816 311.856 126.853 311.856 Q132.223 311.856 135.417 314.541 Q138.612 317.226 138.612 321.717 Q138.612 323.846 137.802 325.768 Q137.015 327.666 134.908 330.258 Q134.329 330.93 131.228 334.147 Q128.126 337.342 122.478 343.105 Z\" fill=\"#000000\" fill-rule=\"evenodd\" fill-opacity=\"1\" /><path clip-path=\"url(#clip290)\" d=\"M 0 0 M143.866 341.161 L148.751 341.161 L148.751 347.041 L143.866 347.041 L143.866 341.161 Z\" fill=\"#000000\" fill-rule=\"evenodd\" fill-opacity=\"1\" /><path clip-path=\"url(#clip290)\" d=\"M 0 0 M157.848 343.105 L174.167 343.105 L174.167 347.041 L152.223 347.041 L152.223 343.105 Q154.885 340.351 159.468 335.721 Q164.075 331.069 165.255 329.726 Q167.501 327.203 168.38 325.467 Q169.283 323.707 169.283 322.018 Q169.283 319.263 167.339 317.527 Q165.417 315.791 162.315 315.791 Q160.116 315.791 157.663 316.555 Q155.232 317.319 152.454 318.869 L152.454 314.147 Q155.278 313.013 157.732 312.434 Q160.186 311.856 162.223 311.856 Q167.593 311.856 170.788 314.541 Q173.982 317.226 173.982 321.717 Q173.982 323.846 173.172 325.768 Q172.385 327.666 170.278 330.258 Q169.7 330.93 166.598 334.147 Q163.496 337.342 157.848 343.105 Z\" fill=\"#000000\" fill-rule=\"evenodd\" fill-opacity=\"1\" /><path clip-path=\"url(#clip290)\" d=\"M 0 0 M179.283 312.481 L197.639 312.481 L197.639 316.416 L183.565 316.416 L183.565 324.888 Q184.584 324.541 185.602 324.379 Q186.621 324.194 187.639 324.194 Q193.426 324.194 196.806 327.365 Q200.186 330.536 200.186 335.953 Q200.186 341.531 196.713 344.633 Q193.241 347.712 186.922 347.712 Q184.746 347.712 182.477 347.342 Q180.232 346.971 177.825 346.23 L177.825 341.531 Q179.908 342.666 182.13 343.221 Q184.352 343.777 186.829 343.777 Q190.834 343.777 193.172 341.67 Q195.51 339.564 195.51 335.953 Q195.51 332.342 193.172 330.235 Q190.834 328.129 186.829 328.129 Q184.954 328.129 183.079 328.545 Q181.227 328.962 179.283 329.842 L179.283 312.481 Z\" fill=\"#000000\" fill-rule=\"evenodd\" fill-opacity=\"1\" /><path clip-path=\"url(#clip290)\" d=\"M 0 0 M38.479 868.955 L38.479 863.098 L88.0042 863.098 L88.0042 868.955 L38.479 868.955 Z\" fill=\"#000000\" fill-rule=\"evenodd\" fill-opacity=\"1\" /><path clip-path=\"url(#clip290)\" d=\"M 0 0 M56.4621 843.142 Q56.4621 847.852 60.1542 850.59 Q63.8145 853.327 70.212 853.327 Q76.6095 853.327 80.3017 850.622 Q83.9619 847.884 83.9619 843.142 Q83.9619 838.463 80.2698 835.726 Q76.5777 832.989 70.212 832.989 Q63.8781 832.989 60.186 835.726 Q56.4621 838.463 56.4621 843.142 M51.4968 843.142 Q51.4968 835.503 56.4621 831.143 Q61.4273 826.782 70.212 826.782 Q78.9649 826.782 83.9619 831.143 Q88.9272 835.503 88.9272 843.142 Q88.9272 850.813 83.9619 855.173 Q78.9649 859.502 70.212 859.502 Q61.4273 859.502 56.4621 855.173 Q51.4968 850.813 51.4968 843.142 Z\" fill=\"#000000\" fill-rule=\"evenodd\" fill-opacity=\"1\" /><path clip-path=\"url(#clip290)\" d=\"M 0 0 M69.7664 797.181 Q63.4007 797.181 59.8996 799.823 Q56.3984 802.433 56.3984 807.176 Q56.3984 811.886 59.8996 814.528 Q63.4007 817.138 69.7664 817.138 Q76.1003 817.138 79.6014 814.528 Q83.1026 811.886 83.1026 807.176 Q83.1026 802.433 79.6014 799.823 Q76.1003 797.181 69.7664 797.181 M83.58 791.325 Q92.683 791.325 97.1071 795.367 Q101.563 799.409 101.563 807.749 Q101.563 810.836 101.086 813.573 Q100.64 816.31 99.6852 818.889 L93.9879 818.889 Q95.3884 816.31 96.0568 813.796 Q96.7252 811.282 96.7252 808.672 Q96.7252 802.911 93.7015 800.046 Q90.7096 797.181 84.6303 797.181 L81.7339 797.181 Q84.885 798.996 86.4446 801.828 Q88.0042 804.661 88.0042 808.608 Q88.0042 815.165 83.0071 819.175 Q78.01 823.185 69.7664 823.185 Q61.491 823.185 56.4939 819.175 Q51.4968 815.165 51.4968 808.608 Q51.4968 804.661 53.0564 801.828 Q54.616 798.996 57.7671 797.181 L52.3562 797.181 L52.3562 791.325 L83.58 791.325 Z\" fill=\"#000000\" fill-rule=\"evenodd\" fill-opacity=\"1\" /><path clip-path=\"url(#clip290)\" d=\"M 0 0 M38.5426 771.114 Q45.8632 775.379 53.0246 777.448 Q60.186 779.517 67.5384 779.517 Q74.8908 779.517 82.1159 777.448 Q89.3091 775.347 96.5979 771.114 L96.5979 776.206 Q89.1182 780.981 81.8931 783.368 Q74.668 785.723 67.5384 785.723 Q60.4406 785.723 53.2474 783.368 Q46.0542 781.013 38.5426 776.206 L38.5426 771.114 Z\" fill=\"#000000\" fill-rule=\"evenodd\" fill-opacity=\"1\" /><path clip-path=\"url(#clip290)\" d=\"M 0 0 M70.212 739.381 Q63.7508 739.381 60.0905 742.054 Q56.3984 744.696 56.3984 749.343 Q56.3984 753.99 60.0905 756.664 Q63.7508 759.306 70.212 759.306 Q76.6732 759.306 80.3653 756.664 Q84.0256 753.99 84.0256 749.343 Q84.0256 744.696 80.3653 742.054 Q76.6732 739.381 70.212 739.381 M57.7671 759.306 Q54.5842 757.459 53.0564 754.659 Q51.4968 751.826 51.4968 747.911 Q51.4968 741.418 56.6531 737.376 Q61.8093 733.302 70.212 733.302 Q78.6147 733.302 83.771 737.376 Q88.9272 741.418 88.9272 747.911 Q88.9272 751.826 87.3994 754.659 Q85.8398 757.459 82.657 759.306 L88.0042 759.306 L88.0042 765.194 L38.479 765.194 L38.479 759.306 L57.7671 759.306 Z\" fill=\"#000000\" fill-rule=\"evenodd\" fill-opacity=\"1\" /><path clip-path=\"url(#clip290)\" d=\"M 0 0 M66.4881 697.526 L88.0042 697.526 L88.0042 703.383 L66.679 703.383 Q61.6183 703.383 59.1038 705.356 Q56.5894 707.33 56.5894 711.276 Q56.5894 716.019 59.6131 718.756 Q62.6368 721.493 67.8567 721.493 L88.0042 721.493 L88.0042 727.381 L52.3562 727.381 L52.3562 721.493 L57.8944 721.493 Q54.6797 719.393 53.0883 716.56 Q51.4968 713.695 51.4968 709.971 Q51.4968 703.828 55.3163 700.677 Q59.1038 697.526 66.4881 697.526 Z\" fill=\"#000000\" fill-rule=\"evenodd\" fill-opacity=\"1\" /><path clip-path=\"url(#clip290)\" d=\"M 0 0 M38.5426 692.306 L38.5426 687.214 Q46.0542 682.44 53.2474 680.084 Q60.4406 677.697 67.5384 677.697 Q74.668 677.697 81.8931 680.084 Q89.1182 682.44 96.5979 687.214 L96.5979 692.306 Q89.3091 688.073 82.1159 686.004 Q74.8908 683.904 67.5384 683.904 Q60.186 683.904 53.0246 686.004 Q45.8632 688.073 38.5426 692.306 Z\" fill=\"#000000\" fill-rule=\"evenodd\" fill-opacity=\"1\" /><path clip-path=\"url(#clip290)\" d=\"M 0 0 M700.001 12.096 L708.183 12.096 L708.183 65.6895 L737.633 65.6895 L737.633 72.576 L700.001 72.576 L700.001 12.096 Z\" fill=\"#000000\" fill-rule=\"evenodd\" fill-opacity=\"1\" /><path clip-path=\"url(#clip290)\" d=\"M 0 0 M766.071 49.7694 Q757.037 49.7694 753.554 51.8354 Q750.07 53.9013 750.07 58.8839 Q750.07 62.8538 752.662 65.2034 Q755.295 67.5124 759.792 67.5124 Q765.99 67.5124 769.717 63.1374 Q773.484 58.7219 773.484 51.4303 L773.484 49.7694 L766.071 49.7694 M780.938 46.6907 L780.938 72.576 L773.484 72.576 L773.484 65.6895 Q770.932 69.8214 767.124 71.8063 Q763.316 73.7508 757.807 73.7508 Q750.839 73.7508 746.707 69.8619 Q742.616 65.9325 742.616 59.3701 Q742.616 51.7138 747.72 47.825 Q752.865 43.9361 763.033 43.9361 L773.484 43.9361 L773.484 43.2069 Q773.484 38.0623 770.081 35.2672 Q766.719 32.4315 760.602 32.4315 Q756.713 32.4315 753.027 33.3632 Q749.341 34.295 745.938 36.1584 L745.938 29.2718 Q750.029 27.692 753.878 26.9223 Q757.726 26.1121 761.372 26.1121 Q771.215 26.1121 776.077 31.2163 Q780.938 36.3204 780.938 46.6907 Z\" fill=\"#000000\" fill-rule=\"evenodd\" fill-opacity=\"1\" /><path clip-path=\"url(#clip290)\" d=\"M 0 0 M826.47 45.1919 L826.47 72.576 L819.016 72.576 L819.016 45.4349 Q819.016 38.994 816.505 35.7938 Q813.993 32.5936 808.97 32.5936 Q802.934 32.5936 799.45 36.4419 Q795.966 40.2903 795.966 46.9338 L795.966 72.576 L788.472 72.576 L788.472 27.2059 L795.966 27.2059 L795.966 34.2544 Q798.64 30.163 802.245 28.1376 Q805.891 26.1121 810.631 26.1121 Q818.449 26.1121 822.459 30.9732 Q826.47 35.7938 826.47 45.1919 Z\" fill=\"#000000\" fill-rule=\"evenodd\" fill-opacity=\"1\" /><path clip-path=\"url(#clip290)\" d=\"M 0 0 M866.938 28.9478 L866.938 35.9153 Q863.779 34.1734 860.578 33.3227 Q857.419 32.4315 854.178 32.4315 Q846.927 32.4315 842.916 37.0496 Q838.906 41.6271 838.906 49.9314 Q838.906 58.2358 842.916 62.8538 Q846.927 67.4314 854.178 67.4314 Q857.419 67.4314 860.578 66.5807 Q863.779 65.6895 866.938 63.9476 L866.938 70.8341 Q863.819 72.2924 860.457 73.0216 Q857.135 73.7508 853.368 73.7508 Q843.119 73.7508 837.083 67.3098 Q831.047 60.8689 831.047 49.9314 Q831.047 38.832 837.124 32.472 Q843.241 26.1121 853.854 26.1121 Q857.297 26.1121 860.578 26.8413 Q863.86 27.5299 866.938 28.9478 Z\" fill=\"#000000\" fill-rule=\"evenodd\" fill-opacity=\"1\" /><path clip-path=\"url(#clip290)\" d=\"M 0 0 M871.516 27.2059 L906.921 27.2059 L906.921 34.0114 L878.889 66.6212 L906.921 66.6212 L906.921 72.576 L870.503 72.576 L870.503 65.7705 L898.535 33.1607 L871.516 33.1607 L871.516 27.2059 Z\" fill=\"#000000\" fill-rule=\"evenodd\" fill-opacity=\"1\" /><path clip-path=\"url(#clip290)\" d=\"M 0 0 M932.32 32.4315 Q926.325 32.4315 922.841 37.1306 Q919.357 41.7891 919.357 49.9314 Q919.357 58.0738 922.8 62.7728 Q926.284 67.4314 932.32 67.4314 Q938.275 67.4314 941.759 62.7323 Q945.242 58.0333 945.242 49.9314 Q945.242 41.8701 941.759 37.1711 Q938.275 32.4315 932.32 32.4315 M932.32 26.1121 Q942.042 26.1121 947.592 32.4315 Q953.142 38.7509 953.142 49.9314 Q953.142 61.0714 947.592 67.4314 Q942.042 73.7508 932.32 73.7508 Q922.557 73.7508 917.008 67.4314 Q911.498 61.0714 911.498 49.9314 Q911.498 38.7509 917.008 32.4315 Q922.557 26.1121 932.32 26.1121 Z\" fill=\"#000000\" fill-rule=\"evenodd\" fill-opacity=\"1\" /><path clip-path=\"url(#clip290)\" d=\"M 0 0 M989.883 28.5427 L989.883 35.5912 Q986.724 33.9709 983.321 33.1607 Q979.918 32.3505 976.272 32.3505 Q970.722 32.3505 967.927 34.0519 Q965.173 35.7533 965.173 39.156 Q965.173 41.7486 967.158 43.2475 Q969.143 44.7058 975.138 46.0426 L977.69 46.6097 Q985.63 48.3111 988.952 51.4303 Q992.314 54.509 992.314 60.0587 Q992.314 66.3781 987.291 70.0644 Q982.308 73.7508 973.558 73.7508 Q969.912 73.7508 965.942 73.0216 Q962.013 72.3329 957.638 70.9151 L957.638 63.2184 Q961.77 65.3654 965.78 66.4591 Q969.791 67.5124 973.72 67.5124 Q978.986 67.5124 981.822 65.73 Q984.658 63.9071 984.658 60.6258 Q984.658 57.5877 982.592 55.9673 Q980.566 54.3469 973.639 52.8481 L971.047 52.2405 Q964.12 50.7821 961.041 47.7845 Q957.962 44.7463 957.962 39.4801 Q957.962 33.0797 962.499 29.5959 Q967.036 26.1121 975.381 26.1121 Q979.513 26.1121 983.159 26.7198 Q986.805 27.3274 989.883 28.5427 Z\" fill=\"#000000\" fill-rule=\"evenodd\" fill-opacity=\"1\" /><path clip-path=\"url(#clip290)\" d=\"M 0 0 M1059.15 28.9478 L1059.15 35.9153 Q1055.99 34.1734 1052.79 33.3227 Q1049.63 32.4315 1046.39 32.4315 Q1039.14 32.4315 1035.13 37.0496 Q1031.12 41.6271 1031.12 49.9314 Q1031.12 58.2358 1035.13 62.8538 Q1039.14 67.4314 1046.39 67.4314 Q1049.63 67.4314 1052.79 66.5807 Q1055.99 65.6895 1059.15 63.9476 L1059.15 70.8341 Q1056.03 72.2924 1052.67 73.0216 Q1049.35 73.7508 1045.58 73.7508 Q1035.33 73.7508 1029.3 67.3098 Q1023.26 60.8689 1023.26 49.9314 Q1023.26 38.832 1029.34 32.472 Q1035.46 26.1121 1046.07 26.1121 Q1049.51 26.1121 1052.79 26.8413 Q1056.08 27.5299 1059.15 28.9478 Z\" fill=\"#000000\" fill-rule=\"evenodd\" fill-opacity=\"1\" /><path clip-path=\"url(#clip290)\" d=\"M 0 0 M1084.55 32.4315 Q1078.56 32.4315 1075.07 37.1306 Q1071.59 41.7891 1071.59 49.9314 Q1071.59 58.0738 1075.03 62.7728 Q1078.52 67.4314 1084.55 67.4314 Q1090.51 67.4314 1093.99 62.7323 Q1097.48 58.0333 1097.48 49.9314 Q1097.48 41.8701 1093.99 37.1711 Q1090.51 32.4315 1084.55 32.4315 M1084.55 26.1121 Q1094.28 26.1121 1099.82 32.4315 Q1105.37 38.7509 1105.37 49.9314 Q1105.37 61.0714 1099.82 67.4314 Q1094.28 73.7508 1084.55 73.7508 Q1074.79 73.7508 1069.24 67.4314 Q1063.73 61.0714 1063.73 49.9314 Q1063.73 38.7509 1069.24 32.4315 Q1074.79 26.1121 1084.55 26.1121 Z\" fill=\"#000000\" fill-rule=\"evenodd\" fill-opacity=\"1\" /><path clip-path=\"url(#clip290)\" d=\"M 0 0 M1152 48.0275 L1152 51.6733 L1117.73 51.6733 Q1118.22 59.3701 1122.35 63.421 Q1126.52 67.4314 1133.93 67.4314 Q1138.23 67.4314 1142.24 66.3781 Q1146.29 65.3249 1150.26 63.2184 L1150.26 70.267 Q1146.25 71.9684 1142.04 72.8596 Q1137.82 73.7508 1133.49 73.7508 Q1122.63 73.7508 1116.27 67.4314 Q1109.95 61.1119 1109.95 50.3365 Q1109.95 39.1965 1115.95 32.6746 Q1121.98 26.1121 1132.19 26.1121 Q1141.35 26.1121 1146.65 32.0264 Q1152 37.9003 1152 48.0275 M1144.55 45.84 Q1144.47 39.7232 1141.1 36.0774 Q1137.78 32.4315 1132.27 32.4315 Q1126.03 32.4315 1122.27 35.9558 Q1118.54 39.4801 1117.97 45.8805 L1144.55 45.84 Z\" fill=\"#000000\" fill-rule=\"evenodd\" fill-opacity=\"1\" /><path clip-path=\"url(#clip290)\" d=\"M 0 0 M1182.79 9.54393 L1182.79 15.7418 L1175.66 15.7418 Q1171.65 15.7418 1170.07 17.3622 Q1168.53 18.9825 1168.53 23.1955 L1168.53 27.2059 L1180.8 27.2059 L1180.8 32.9987 L1168.53 32.9987 L1168.53 72.576 L1161.03 72.576 L1161.03 32.9987 L1153.9 32.9987 L1153.9 27.2059 L1161.03 27.2059 L1161.03 24.0462 Q1161.03 16.471 1164.56 13.0277 Q1168.08 9.54393 1175.74 9.54393 L1182.79 9.54393 Z\" fill=\"#000000\" fill-rule=\"evenodd\" fill-opacity=\"1\" /><path clip-path=\"url(#clip290)\" d=\"M 0 0 M1213.57 9.54393 L1213.57 15.7418 L1206.44 15.7418 Q1202.43 15.7418 1200.85 17.3622 Q1199.32 18.9825 1199.32 23.1955 L1199.32 27.2059 L1211.59 27.2059 L1211.59 32.9987 L1199.32 32.9987 L1199.32 72.576 L1191.82 72.576 L1191.82 32.9987 L1184.69 32.9987 L1184.69 27.2059 L1191.82 27.2059 L1191.82 24.0462 Q1191.82 16.471 1195.35 13.0277 Q1198.87 9.54393 1206.53 9.54393 L1213.57 9.54393 Z\" fill=\"#000000\" fill-rule=\"evenodd\" fill-opacity=\"1\" /><path clip-path=\"url(#clip290)\" d=\"M 0 0 M1221.39 27.2059 L1228.85 27.2059 L1228.85 72.576 L1221.39 72.576 L1221.39 27.2059 M1221.39 9.54393 L1228.85 9.54393 L1228.85 18.9825 L1221.39 18.9825 L1221.39 9.54393 Z\" fill=\"#000000\" fill-rule=\"evenodd\" fill-opacity=\"1\" /><path clip-path=\"url(#clip290)\" d=\"M 0 0 M1269.31 28.9478 L1269.31 35.9153 Q1266.15 34.1734 1262.95 33.3227 Q1259.8 32.4315 1256.55 32.4315 Q1249.3 32.4315 1245.29 37.0496 Q1241.28 41.6271 1241.28 49.9314 Q1241.28 58.2358 1245.29 62.8538 Q1249.3 67.4314 1256.55 67.4314 Q1259.8 67.4314 1262.95 66.5807 Q1266.15 65.6895 1269.31 63.9476 L1269.31 70.8341 Q1266.2 72.2924 1262.83 73.0216 Q1259.51 73.7508 1255.74 73.7508 Q1245.5 73.7508 1239.46 67.3098 Q1233.42 60.8689 1233.42 49.9314 Q1233.42 38.832 1239.5 32.472 Q1245.62 26.1121 1256.23 26.1121 Q1259.67 26.1121 1262.95 26.8413 Q1266.24 27.5299 1269.31 28.9478 Z\" fill=\"#000000\" fill-rule=\"evenodd\" fill-opacity=\"1\" /><path clip-path=\"url(#clip290)\" d=\"M 0 0 M1277.13 27.2059 L1284.59 27.2059 L1284.59 72.576 L1277.13 72.576 L1277.13 27.2059 M1277.13 9.54393 L1284.59 9.54393 L1284.59 18.9825 L1277.13 18.9825 L1277.13 9.54393 Z\" fill=\"#000000\" fill-rule=\"evenodd\" fill-opacity=\"1\" /><path clip-path=\"url(#clip290)\" d=\"M 0 0 M1331.21 48.0275 L1331.21 51.6733 L1296.94 51.6733 Q1297.43 59.3701 1301.56 63.421 Q1305.73 67.4314 1313.15 67.4314 Q1317.44 67.4314 1321.45 66.3781 Q1325.5 65.3249 1329.47 63.2184 L1329.47 70.267 Q1325.46 71.9684 1321.25 72.8596 Q1317.03 73.7508 1312.7 73.7508 Q1301.84 73.7508 1295.48 67.4314 Q1289.16 61.1119 1289.16 50.3365 Q1289.16 39.1965 1295.16 32.6746 Q1301.2 26.1121 1311.4 26.1121 Q1320.56 26.1121 1325.87 32.0264 Q1331.21 37.9003 1331.21 48.0275 M1323.76 45.84 Q1323.68 39.7232 1320.32 36.0774 Q1316.99 32.4315 1311.48 32.4315 Q1305.25 32.4315 1301.48 35.9558 Q1297.75 39.4801 1297.18 45.8805 L1323.76 45.84 Z\" fill=\"#000000\" fill-rule=\"evenodd\" fill-opacity=\"1\" /><path clip-path=\"url(#clip290)\" d=\"M 0 0 M1376.74 45.1919 L1376.74 72.576 L1369.29 72.576 L1369.29 45.4349 Q1369.29 38.994 1366.78 35.7938 Q1364.27 32.5936 1359.24 32.5936 Q1353.21 32.5936 1349.73 36.4419 Q1346.24 40.2903 1346.24 46.9338 L1346.24 72.576 L1338.75 72.576 L1338.75 27.2059 L1346.24 27.2059 L1346.24 34.2544 Q1348.91 30.163 1352.52 28.1376 Q1356.17 26.1121 1360.91 26.1121 Q1368.72 26.1121 1372.73 30.9732 Q1376.74 35.7938 1376.74 45.1919 Z\" fill=\"#000000\" fill-rule=\"evenodd\" fill-opacity=\"1\" /><path clip-path=\"url(#clip290)\" d=\"M 0 0 M1391.94 14.324 L1391.94 27.2059 L1407.29 27.2059 L1407.29 32.9987 L1391.94 32.9987 L1391.94 57.6282 Q1391.94 63.1779 1393.43 64.7578 Q1394.97 66.3376 1399.63 66.3376 L1407.29 66.3376 L1407.29 72.576 L1399.63 72.576 Q1391 72.576 1387.72 69.3758 Q1384.44 66.1351 1384.44 57.6282 L1384.44 32.9987 L1378.97 32.9987 L1378.97 27.2059 L1384.44 27.2059 L1384.44 14.324 L1391.94 14.324 Z\" fill=\"#000000\" fill-rule=\"evenodd\" fill-opacity=\"1\" /><path clip-path=\"url(#clip290)\" d=\"M 0 0 M1444.03 28.5427 L1444.03 35.5912 Q1440.87 33.9709 1437.47 33.1607 Q1434.06 32.3505 1430.42 32.3505 Q1424.87 32.3505 1422.07 34.0519 Q1419.32 35.7533 1419.32 39.156 Q1419.32 41.7486 1421.3 43.2475 Q1423.29 44.7058 1429.28 46.0426 L1431.84 46.6097 Q1439.78 48.3111 1443.1 51.4303 Q1446.46 54.509 1446.46 60.0587 Q1446.46 66.3781 1441.44 70.0644 Q1436.45 73.7508 1427.71 73.7508 Q1424.06 73.7508 1420.09 73.0216 Q1416.16 72.3329 1411.78 70.9151 L1411.78 63.2184 Q1415.92 65.3654 1419.93 66.4591 Q1423.94 67.5124 1427.87 67.5124 Q1433.13 67.5124 1435.97 65.73 Q1438.8 63.9071 1438.8 60.6258 Q1438.8 57.5877 1436.74 55.9673 Q1434.71 54.3469 1427.79 52.8481 L1425.19 52.2405 Q1418.27 50.7821 1415.19 47.7845 Q1412.11 44.7463 1412.11 39.4801 Q1412.11 33.0797 1416.65 29.5959 Q1421.18 26.1121 1429.53 26.1121 Q1433.66 26.1121 1437.31 26.7198 Q1440.95 27.3274 1444.03 28.5427 Z\" fill=\"#000000\" fill-rule=\"evenodd\" fill-opacity=\"1\" /><path clip-path=\"url(#clip290)\" d=\"M 0 0 M1478.06 12.096 L1486.85 12.096 L1501.88 34.5785 L1516.99 12.096 L1525.78 12.096 L1506.33 41.141 L1527.07 72.576 L1518.28 72.576 L1501.27 46.8528 L1484.13 72.576 L1475.3 72.576 L1496.89 40.2903 L1478.06 12.096 Z\" fill=\"#000000\" fill-rule=\"evenodd\" fill-opacity=\"1\" /><path clip-path=\"url(#clip290)\" d=\"M 0 0 M1532.3 12.096 L1541.09 12.096 L1556.12 34.5785 L1571.23 12.096 L1580.02 12.096 L1560.57 41.141 L1581.32 72.576 L1572.52 72.576 L1555.51 46.8528 L1538.38 72.576 L1529.54 72.576 L1551.14 40.2903 L1532.3 12.096 Z\" fill=\"#000000\" fill-rule=\"evenodd\" fill-opacity=\"1\" /><path clip-path=\"url(#clip290)\" d=\"M 0 0 M1586.54 12.096 L1595.33 12.096 L1610.36 34.5785 L1625.47 12.096 L1634.26 12.096 L1614.82 41.141 L1635.56 72.576 L1626.77 72.576 L1609.75 46.8528 L1592.62 72.576 L1583.79 72.576 L1605.38 40.2903 L1586.54 12.096 Z\" fill=\"#000000\" fill-rule=\"evenodd\" fill-opacity=\"1\" /><path clip-path=\"url(#clip290)\" d=\"M 0 0 M1705.07 35.9153 Q1707.87 30.8922 1711.75 28.5022 Q1715.64 26.1121 1720.91 26.1121 Q1728 26.1121 1731.85 31.0947 Q1735.7 36.0368 1735.7 45.1919 L1735.7 72.576 L1728.2 72.576 L1728.2 45.4349 Q1728.2 38.913 1725.89 35.7533 Q1723.58 32.5936 1718.84 32.5936 Q1713.05 32.5936 1709.69 36.4419 Q1706.33 40.2903 1706.33 46.9338 L1706.33 72.576 L1698.83 72.576 L1698.83 45.4349 Q1698.83 38.8725 1696.52 35.7533 Q1694.21 32.5936 1689.39 32.5936 Q1683.68 32.5936 1680.32 36.4824 Q1676.96 40.3308 1676.96 46.9338 L1676.96 72.576 L1669.46 72.576 L1669.46 27.2059 L1676.96 27.2059 L1676.96 34.2544 Q1679.51 30.082 1683.07 28.0971 Q1686.64 26.1121 1691.54 26.1121 Q1696.48 26.1121 1699.93 28.6237 Q1703.41 31.1352 1705.07 35.9153 Z\" fill=\"#000000\" fill-rule=\"evenodd\" fill-opacity=\"1\" /><path clip-path=\"url(#clip290)\" d=\"M 0 0 M1761.09 32.4315 Q1755.1 32.4315 1751.62 37.1306 Q1748.13 41.7891 1748.13 49.9314 Q1748.13 58.0738 1751.57 62.7728 Q1755.06 67.4314 1761.09 67.4314 Q1767.05 67.4314 1770.53 62.7323 Q1774.02 58.0333 1774.02 49.9314 Q1774.02 41.8701 1770.53 37.1711 Q1767.05 32.4315 1761.09 32.4315 M1761.09 26.1121 Q1770.82 26.1121 1776.37 32.4315 Q1781.92 38.7509 1781.92 49.9314 Q1781.92 61.0714 1776.37 67.4314 Q1770.82 73.7508 1761.09 73.7508 Q1751.33 73.7508 1745.78 67.4314 Q1740.27 61.0714 1740.27 49.9314 Q1740.27 38.7509 1745.78 32.4315 Q1751.33 26.1121 1761.09 26.1121 Z\" fill=\"#000000\" fill-rule=\"evenodd\" fill-opacity=\"1\" /><path clip-path=\"url(#clip290)\" d=\"M 0 0 M1819.59 34.0924 L1819.59 9.54393 L1827.04 9.54393 L1827.04 72.576 L1819.59 72.576 L1819.59 65.7705 Q1817.24 69.8214 1813.63 71.8063 Q1810.07 73.7508 1805.05 73.7508 Q1796.82 73.7508 1791.64 67.1883 Q1786.49 60.6258 1786.49 49.9314 Q1786.49 39.2371 1791.64 32.6746 Q1796.82 26.1121 1805.05 26.1121 Q1810.07 26.1121 1813.63 28.0971 Q1817.24 30.0415 1819.59 34.0924 M1794.19 49.9314 Q1794.19 58.1548 1797.55 62.8538 Q1800.96 67.5124 1806.87 67.5124 Q1812.78 67.5124 1816.19 62.8538 Q1819.59 58.1548 1819.59 49.9314 Q1819.59 41.7081 1816.19 37.0496 Q1812.78 32.3505 1806.87 32.3505 Q1800.96 32.3505 1797.55 37.0496 Q1794.19 41.7081 1794.19 49.9314 Z\" fill=\"#000000\" fill-rule=\"evenodd\" fill-opacity=\"1\" /><path clip-path=\"url(#clip290)\" d=\"M 0 0 M1873.67 48.0275 L1873.67 51.6733 L1839.4 51.6733 Q1839.88 59.3701 1844.02 63.421 Q1848.19 67.4314 1855.6 67.4314 Q1859.9 67.4314 1863.91 66.3781 Q1867.96 65.3249 1871.93 63.2184 L1871.93 70.267 Q1867.92 71.9684 1863.7 72.8596 Q1859.49 73.7508 1855.16 73.7508 Q1844.3 73.7508 1837.94 67.4314 Q1831.62 61.1119 1831.62 50.3365 Q1831.62 39.1965 1837.62 32.6746 Q1843.65 26.1121 1853.86 26.1121 Q1863.02 26.1121 1868.32 32.0264 Q1873.67 37.9003 1873.67 48.0275 M1866.22 45.84 Q1866.13 39.7232 1862.77 36.0774 Q1859.45 32.4315 1853.94 32.4315 Q1847.7 32.4315 1843.94 35.9558 Q1840.21 39.4801 1839.64 45.8805 L1866.22 45.84 Z\" fill=\"#000000\" fill-rule=\"evenodd\" fill-opacity=\"1\" /><path clip-path=\"url(#clip290)\" d=\"M 0 0 M1881.49 9.54393 L1888.94 9.54393 L1888.94 72.576 L1881.49 72.576 L1881.49 9.54393 Z\" fill=\"#000000\" fill-rule=\"evenodd\" fill-opacity=\"1\" /><circle clip-path=\"url(#clip292)\" cx=\"296.089\" cy=\"1386.4\" r=\"14\" fill=\"#009af9\" fill-rule=\"evenodd\" fill-opacity=\"1\" stroke=\"#000000\" stroke-opacity=\"1\" stroke-width=\"3.2\"/>\n",
       "<circle clip-path=\"url(#clip292)\" cx=\"873.283\" cy=\"1044.09\" r=\"14\" fill=\"#009af9\" fill-rule=\"evenodd\" fill-opacity=\"1\" stroke=\"#000000\" stroke-opacity=\"1\" stroke-width=\"3.2\"/>\n",
       "<circle clip-path=\"url(#clip292)\" cx=\"1210.92\" cy=\"1138.38\" r=\"14\" fill=\"#009af9\" fill-rule=\"evenodd\" fill-opacity=\"1\" stroke=\"#000000\" stroke-opacity=\"1\" stroke-width=\"3.2\"/>\n",
       "<circle clip-path=\"url(#clip292)\" cx=\"1450.48\" cy=\"852.706\" r=\"14\" fill=\"#009af9\" fill-rule=\"evenodd\" fill-opacity=\"1\" stroke=\"#000000\" stroke-opacity=\"1\" stroke-width=\"3.2\"/>\n",
       "<circle clip-path=\"url(#clip292)\" cx=\"1636.29\" cy=\"759.466\" r=\"14\" fill=\"#009af9\" fill-rule=\"evenodd\" fill-opacity=\"1\" stroke=\"#000000\" stroke-opacity=\"1\" stroke-width=\"3.2\"/>\n",
       "<circle clip-path=\"url(#clip292)\" cx=\"1788.11\" cy=\"569.744\" r=\"14\" fill=\"#009af9\" fill-rule=\"evenodd\" fill-opacity=\"1\" stroke=\"#000000\" stroke-opacity=\"1\" stroke-width=\"3.2\"/>\n",
       "<circle clip-path=\"url(#clip292)\" cx=\"1916.48\" cy=\"523.729\" r=\"14\" fill=\"#009af9\" fill-rule=\"evenodd\" fill-opacity=\"1\" stroke=\"#000000\" stroke-opacity=\"1\" stroke-width=\"3.2\"/>\n",
       "<circle clip-path=\"url(#clip292)\" cx=\"2027.67\" cy=\"363.16\" r=\"14\" fill=\"#009af9\" fill-rule=\"evenodd\" fill-opacity=\"1\" stroke=\"#000000\" stroke-opacity=\"1\" stroke-width=\"3.2\"/>\n",
       "<circle clip-path=\"url(#clip292)\" cx=\"2125.75\" cy=\"284.887\" r=\"14\" fill=\"#009af9\" fill-rule=\"evenodd\" fill-opacity=\"1\" stroke=\"#000000\" stroke-opacity=\"1\" stroke-width=\"3.2\"/>\n",
       "<circle clip-path=\"url(#clip292)\" cx=\"2213.49\" cy=\"199.332\" r=\"14\" fill=\"#009af9\" fill-rule=\"evenodd\" fill-opacity=\"1\" stroke=\"#000000\" stroke-opacity=\"1\" stroke-width=\"3.2\"/>\n",
       "<circle clip-path=\"url(#clip292)\" cx=\"2292.85\" cy=\"160.256\" r=\"14\" fill=\"#009af9\" fill-rule=\"evenodd\" fill-opacity=\"1\" stroke=\"#000000\" stroke-opacity=\"1\" stroke-width=\"3.2\"/>\n",
       "</svg>\n"
      ]
     },
     "execution_count": 82,
     "metadata": {},
     "output_type": "execute_result"
    }
   ],
   "source": [
    "x = 1:length(VXXX); y = VXXX; # Lanczos Coefficients XXX model\n",
    "plot(log.(x), log.(y),title = \"Lanczos coefficients XXX model\",seriestype = :scatter,label = false)\n",
    "ylabel!(\"log(bn)\")\n",
    "xlabel!(\"log(n)\")"
   ]
  },
  {
   "cell_type": "code",
   "execution_count": 78,
   "metadata": {},
   "outputs": [
    {
     "data": {
      "text/plain": [
       "11-element Array{Float64,1}:\n",
       " 0.0\n",
       " 0.6931471805599453\n",
       " 1.0986122886681098\n",
       " 1.3862943611198906\n",
       " 1.6094379124341003\n",
       " 1.791759469228055\n",
       " 1.9459101490553132\n",
       " 2.0794415416798357\n",
       " 2.1972245773362196\n",
       " 2.302585092994046\n",
       " 2.3978952727983707"
      ]
     },
     "execution_count": 78,
     "metadata": {},
     "output_type": "execute_result"
    }
   ],
   "source": [
    "log.(x)"
   ]
  },
  {
   "cell_type": "code",
   "execution_count": 79,
   "metadata": {},
   "outputs": [
    {
     "data": {
      "text/plain": [
       "11-element Array{Float64,1}:\n",
       " 1.3862943611198906\n",
       " 1.666102255087602\n",
       " 1.5890269151739727\n",
       " 1.822538415727772\n",
       " 1.898753773266062\n",
       " 2.0538345883070397\n",
       " 2.091448327275015\n",
       " 2.22269931998616\n",
       " 2.2866798591149164\n",
       " 2.3566140294579454\n",
       " 2.388554797595554"
      ]
     },
     "execution_count": 79,
     "metadata": {},
     "output_type": "execute_result"
    }
   ],
   "source": [
    "log.(y)"
   ]
  },
  {
   "cell_type": "code",
   "execution_count": 86,
   "metadata": {},
   "outputs": [
    {
     "data": {
      "text/plain": [
       "0.5208149925794373"
      ]
     },
     "execution_count": 86,
     "metadata": {},
     "output_type": "execute_result"
    }
   ],
   "source": [
    "(log.(y)[11] - log.(y)[8])/(log.(x)[11] - log.(x)[8])"
   ]
  },
  {
   "cell_type": "code",
   "execution_count": null,
   "metadata": {},
   "outputs": [],
   "source": []
  },
  {
   "cell_type": "code",
   "execution_count": null,
   "metadata": {},
   "outputs": [],
   "source": []
  },
  {
   "cell_type": "code",
   "execution_count": 221,
   "metadata": {},
   "outputs": [
    {
     "data": {
      "image/svg+xml": [
       "<?xml version=\"1.0\" encoding=\"utf-8\"?>\n",
       "<svg xmlns=\"http://www.w3.org/2000/svg\" xmlns:xlink=\"http://www.w3.org/1999/xlink\" width=\"600\" height=\"400\" viewBox=\"0 0 2400 1600\">\n",
       "<defs>\n",
       "  <clipPath id=\"clip650\">\n",
       "    <rect x=\"0\" y=\"0\" width=\"2400\" height=\"1600\"/>\n",
       "  </clipPath>\n",
       "</defs>\n",
       "<path clip-path=\"url(#clip650)\" d=\"\n",
       "M0 1600 L2400 1600 L2400 0 L0 0  Z\n",
       "  \" fill=\"#ffffff\" fill-rule=\"evenodd\" fill-opacity=\"1\"/>\n",
       "<defs>\n",
       "  <clipPath id=\"clip651\">\n",
       "    <rect x=\"480\" y=\"0\" width=\"1681\" height=\"1600\"/>\n",
       "  </clipPath>\n",
       "</defs>\n",
       "<path clip-path=\"url(#clip650)\" d=\"\n",
       "M200.028 1423.18 L2352.76 1423.18 L2352.76 123.472 L200.028 123.472  Z\n",
       "  \" fill=\"#ffffff\" fill-rule=\"evenodd\" fill-opacity=\"1\"/>\n",
       "<defs>\n",
       "  <clipPath id=\"clip652\">\n",
       "    <rect x=\"200\" y=\"123\" width=\"2154\" height=\"1301\"/>\n",
       "  </clipPath>\n",
       "</defs>\n",
       "<polyline clip-path=\"url(#clip652)\" style=\"stroke:#000000; stroke-width:2; stroke-opacity:0.1; fill:none\" points=\"\n",
       "  514.814,1423.18 514.814,123.472 \n",
       "  \"/>\n",
       "<polyline clip-path=\"url(#clip652)\" style=\"stroke:#000000; stroke-width:2; stroke-opacity:0.1; fill:none\" points=\"\n",
       "  1022.53,1423.18 1022.53,123.472 \n",
       "  \"/>\n",
       "<polyline clip-path=\"url(#clip652)\" style=\"stroke:#000000; stroke-width:2; stroke-opacity:0.1; fill:none\" points=\"\n",
       "  1530.25,1423.18 1530.25,123.472 \n",
       "  \"/>\n",
       "<polyline clip-path=\"url(#clip652)\" style=\"stroke:#000000; stroke-width:2; stroke-opacity:0.1; fill:none\" points=\"\n",
       "  2037.97,1423.18 2037.97,123.472 \n",
       "  \"/>\n",
       "<polyline clip-path=\"url(#clip650)\" style=\"stroke:#000000; stroke-width:4; stroke-opacity:1; fill:none\" points=\"\n",
       "  200.028,1423.18 2352.76,1423.18 \n",
       "  \"/>\n",
       "<polyline clip-path=\"url(#clip650)\" style=\"stroke:#000000; stroke-width:4; stroke-opacity:1; fill:none\" points=\"\n",
       "  514.814,1423.18 514.814,1407.58 \n",
       "  \"/>\n",
       "<polyline clip-path=\"url(#clip650)\" style=\"stroke:#000000; stroke-width:4; stroke-opacity:1; fill:none\" points=\"\n",
       "  1022.53,1423.18 1022.53,1407.58 \n",
       "  \"/>\n",
       "<polyline clip-path=\"url(#clip650)\" style=\"stroke:#000000; stroke-width:4; stroke-opacity:1; fill:none\" points=\"\n",
       "  1530.25,1423.18 1530.25,1407.58 \n",
       "  \"/>\n",
       "<polyline clip-path=\"url(#clip650)\" style=\"stroke:#000000; stroke-width:4; stroke-opacity:1; fill:none\" points=\"\n",
       "  2037.97,1423.18 2037.97,1407.58 \n",
       "  \"/>\n",
       "<path clip-path=\"url(#clip650)\" d=\"M 0 0 M509.467 1479.92 L525.786 1479.92 L525.786 1483.85 L503.842 1483.85 L503.842 1479.92 Q506.504 1477.16 511.087 1472.53 Q515.694 1467.88 516.874 1466.54 Q519.12 1464.01 519.999 1462.28 Q520.902 1460.52 520.902 1458.83 Q520.902 1456.07 518.958 1454.34 Q517.036 1452.6 513.934 1452.6 Q511.735 1452.6 509.282 1453.37 Q506.851 1454.13 504.073 1455.68 L504.073 1450.96 Q506.897 1449.82 509.351 1449.25 Q511.805 1448.67 513.842 1448.67 Q519.212 1448.67 522.407 1451.35 Q525.601 1454.04 525.601 1458.53 Q525.601 1460.66 524.791 1462.58 Q524.004 1464.48 521.897 1467.07 Q521.319 1467.74 518.217 1470.96 Q515.115 1474.15 509.467 1479.92 Z\" fill=\"#000000\" fill-rule=\"evenodd\" fill-opacity=\"1\" /><path clip-path=\"url(#clip650)\" d=\"M 0 0 M1025.54 1453.37 L1013.74 1471.81 L1025.54 1471.81 L1025.54 1453.37 M1024.32 1449.29 L1030.19 1449.29 L1030.19 1471.81 L1035.13 1471.81 L1035.13 1475.7 L1030.19 1475.7 L1030.19 1483.85 L1025.54 1483.85 L1025.54 1475.7 L1009.94 1475.7 L1009.94 1471.19 L1024.32 1449.29 Z\" fill=\"#000000\" fill-rule=\"evenodd\" fill-opacity=\"1\" /><path clip-path=\"url(#clip650)\" d=\"M 0 0 M1530.66 1464.71 Q1527.51 1464.71 1525.66 1466.86 Q1523.83 1469.01 1523.83 1472.76 Q1523.83 1476.49 1525.66 1478.67 Q1527.51 1480.82 1530.66 1480.82 Q1533.8 1480.82 1535.63 1478.67 Q1537.49 1476.49 1537.49 1472.76 Q1537.49 1469.01 1535.63 1466.86 Q1533.8 1464.71 1530.66 1464.71 M1539.94 1450.06 L1539.94 1454.31 Q1538.18 1453.48 1536.37 1453.04 Q1534.59 1452.6 1532.83 1452.6 Q1528.2 1452.6 1525.75 1455.73 Q1523.32 1458.85 1522.97 1465.17 Q1524.34 1463.16 1526.4 1462.09 Q1528.46 1461 1530.93 1461 Q1536.14 1461 1539.15 1464.18 Q1542.18 1467.32 1542.18 1472.76 Q1542.18 1478.09 1539.04 1481.31 Q1535.89 1484.52 1530.66 1484.52 Q1524.66 1484.52 1521.49 1479.94 Q1518.32 1475.33 1518.32 1466.61 Q1518.32 1458.41 1522.21 1453.55 Q1526.1 1448.67 1532.65 1448.67 Q1534.41 1448.67 1536.19 1449.01 Q1537.99 1449.36 1539.94 1450.06 Z\" fill=\"#000000\" fill-rule=\"evenodd\" fill-opacity=\"1\" /><path clip-path=\"url(#clip650)\" d=\"M 0 0 M2037.97 1467.44 Q2034.64 1467.44 2032.72 1469.22 Q2030.82 1471 2030.82 1474.13 Q2030.82 1477.25 2032.72 1479.04 Q2034.64 1480.82 2037.97 1480.82 Q2041.3 1480.82 2043.22 1479.04 Q2045.15 1477.23 2045.15 1474.13 Q2045.15 1471 2043.22 1469.22 Q2041.33 1467.44 2037.97 1467.44 M2033.29 1465.45 Q2030.29 1464.71 2028.6 1462.65 Q2026.93 1460.59 2026.93 1457.63 Q2026.93 1453.48 2029.87 1451.07 Q2032.83 1448.67 2037.97 1448.67 Q2043.13 1448.67 2046.07 1451.07 Q2049.01 1453.48 2049.01 1457.63 Q2049.01 1460.59 2047.32 1462.65 Q2045.66 1464.71 2042.67 1465.45 Q2046.05 1466.24 2047.92 1468.53 Q2049.82 1470.82 2049.82 1474.13 Q2049.82 1479.15 2046.74 1481.84 Q2043.69 1484.52 2037.97 1484.52 Q2032.25 1484.52 2029.17 1481.84 Q2026.12 1479.15 2026.12 1474.13 Q2026.12 1470.82 2028.02 1468.53 Q2029.91 1466.24 2033.29 1465.45 M2031.58 1458.06 Q2031.58 1460.75 2033.25 1462.25 Q2034.94 1463.76 2037.97 1463.76 Q2040.98 1463.76 2042.67 1462.25 Q2044.38 1460.75 2044.38 1458.06 Q2044.38 1455.38 2042.67 1453.88 Q2040.98 1452.37 2037.97 1452.37 Q2034.94 1452.37 2033.25 1453.88 Q2031.58 1455.38 2031.58 1458.06 Z\" fill=\"#000000\" fill-rule=\"evenodd\" fill-opacity=\"1\" /><path clip-path=\"url(#clip650)\" d=\"M 0 0 M1291.32 1534.53 L1291.32 1556.04 L1285.46 1556.04 L1285.46 1534.72 Q1285.46 1529.66 1283.49 1527.14 Q1281.52 1524.63 1277.57 1524.63 Q1272.83 1524.63 1270.09 1527.65 Q1267.35 1530.68 1267.35 1535.9 L1267.35 1556.04 L1261.46 1556.04 L1261.46 1520.4 L1267.35 1520.4 L1267.35 1525.93 Q1269.45 1522.72 1272.29 1521.13 Q1275.15 1519.54 1278.87 1519.54 Q1285.02 1519.54 1288.17 1523.36 Q1291.32 1527.14 1291.32 1534.53 Z\" fill=\"#000000\" fill-rule=\"evenodd\" fill-opacity=\"1\" /><polyline clip-path=\"url(#clip652)\" style=\"stroke:#000000; stroke-width:2; stroke-opacity:0.1; fill:none\" points=\"\n",
       "  200.028,1276.32 2352.76,1276.32 \n",
       "  \"/>\n",
       "<polyline clip-path=\"url(#clip652)\" style=\"stroke:#000000; stroke-width:2; stroke-opacity:0.1; fill:none\" points=\"\n",
       "  200.028,1078.95 2352.76,1078.95 \n",
       "  \"/>\n",
       "<polyline clip-path=\"url(#clip652)\" style=\"stroke:#000000; stroke-width:2; stroke-opacity:0.1; fill:none\" points=\"\n",
       "  200.028,881.575 2352.76,881.575 \n",
       "  \"/>\n",
       "<polyline clip-path=\"url(#clip652)\" style=\"stroke:#000000; stroke-width:2; stroke-opacity:0.1; fill:none\" points=\"\n",
       "  200.028,684.202 2352.76,684.202 \n",
       "  \"/>\n",
       "<polyline clip-path=\"url(#clip652)\" style=\"stroke:#000000; stroke-width:2; stroke-opacity:0.1; fill:none\" points=\"\n",
       "  200.028,486.829 2352.76,486.829 \n",
       "  \"/>\n",
       "<polyline clip-path=\"url(#clip652)\" style=\"stroke:#000000; stroke-width:2; stroke-opacity:0.1; fill:none\" points=\"\n",
       "  200.028,289.456 2352.76,289.456 \n",
       "  \"/>\n",
       "<polyline clip-path=\"url(#clip650)\" style=\"stroke:#000000; stroke-width:4; stroke-opacity:1; fill:none\" points=\"\n",
       "  200.028,1423.18 200.028,123.472 \n",
       "  \"/>\n",
       "<polyline clip-path=\"url(#clip650)\" style=\"stroke:#000000; stroke-width:4; stroke-opacity:1; fill:none\" points=\"\n",
       "  200.028,1276.32 225.861,1276.32 \n",
       "  \"/>\n",
       "<polyline clip-path=\"url(#clip650)\" style=\"stroke:#000000; stroke-width:4; stroke-opacity:1; fill:none\" points=\"\n",
       "  200.028,1078.95 225.861,1078.95 \n",
       "  \"/>\n",
       "<polyline clip-path=\"url(#clip650)\" style=\"stroke:#000000; stroke-width:4; stroke-opacity:1; fill:none\" points=\"\n",
       "  200.028,881.575 225.861,881.575 \n",
       "  \"/>\n",
       "<polyline clip-path=\"url(#clip650)\" style=\"stroke:#000000; stroke-width:4; stroke-opacity:1; fill:none\" points=\"\n",
       "  200.028,684.202 225.861,684.202 \n",
       "  \"/>\n",
       "<polyline clip-path=\"url(#clip650)\" style=\"stroke:#000000; stroke-width:4; stroke-opacity:1; fill:none\" points=\"\n",
       "  200.028,486.829 225.861,486.829 \n",
       "  \"/>\n",
       "<polyline clip-path=\"url(#clip650)\" style=\"stroke:#000000; stroke-width:4; stroke-opacity:1; fill:none\" points=\"\n",
       "  200.028,289.456 225.861,289.456 \n",
       "  \"/>\n",
       "<path clip-path=\"url(#clip650)\" d=\"M 0 0 M117.107 1289.67 L124.746 1289.67 L124.746 1263.3 L116.436 1264.97 L116.436 1260.71 L124.7 1259.04 L129.376 1259.04 L129.376 1289.67 L137.015 1289.67 L137.015 1293.6 L117.107 1293.6 L117.107 1289.67 Z\" fill=\"#000000\" fill-rule=\"evenodd\" fill-opacity=\"1\" /><path clip-path=\"url(#clip650)\" d=\"M 0 0 M152.084 1262.12 Q148.473 1262.12 146.644 1265.68 Q144.839 1269.23 144.839 1276.36 Q144.839 1283.46 146.644 1287.03 Q148.473 1290.57 152.084 1290.57 Q155.718 1290.57 157.524 1287.03 Q159.353 1283.46 159.353 1276.36 Q159.353 1269.23 157.524 1265.68 Q155.718 1262.12 152.084 1262.12 M152.084 1258.42 Q157.894 1258.42 160.95 1263.02 Q164.028 1267.61 164.028 1276.36 Q164.028 1285.08 160.95 1289.69 Q157.894 1294.27 152.084 1294.27 Q146.274 1294.27 143.195 1289.69 Q140.14 1285.08 140.14 1276.36 Q140.14 1267.61 143.195 1263.02 Q146.274 1258.42 152.084 1258.42 Z\" fill=\"#000000\" fill-rule=\"evenodd\" fill-opacity=\"1\" /><path clip-path=\"url(#clip650)\" d=\"M 0 0 M118.103 1092.29 L125.742 1092.29 L125.742 1065.93 L117.431 1067.59 L117.431 1063.33 L125.695 1061.67 L130.371 1061.67 L130.371 1092.29 L138.01 1092.29 L138.01 1096.23 L118.103 1096.23 L118.103 1092.29 Z\" fill=\"#000000\" fill-rule=\"evenodd\" fill-opacity=\"1\" /><path clip-path=\"url(#clip650)\" d=\"M 0 0 M143.126 1061.67 L161.482 1061.67 L161.482 1065.6 L147.408 1065.6 L147.408 1074.08 Q148.427 1073.73 149.445 1073.57 Q150.464 1073.38 151.482 1073.38 Q157.269 1073.38 160.649 1076.55 Q164.028 1079.72 164.028 1085.14 Q164.028 1090.72 160.556 1093.82 Q157.084 1096.9 150.765 1096.9 Q148.589 1096.9 146.32 1096.53 Q144.075 1096.16 141.667 1095.42 L141.667 1090.72 Q143.751 1091.85 145.973 1092.41 Q148.195 1092.96 150.672 1092.96 Q154.677 1092.96 157.015 1090.86 Q159.353 1088.75 159.353 1085.14 Q159.353 1081.53 157.015 1079.42 Q154.677 1077.32 150.672 1077.32 Q148.797 1077.32 146.922 1077.73 Q145.07 1078.15 143.126 1079.03 L143.126 1061.67 Z\" fill=\"#000000\" fill-rule=\"evenodd\" fill-opacity=\"1\" /><path clip-path=\"url(#clip650)\" d=\"M 0 0 M120.695 894.92 L137.015 894.92 L137.015 898.855 L115.07 898.855 L115.07 894.92 Q117.732 892.165 122.316 887.535 Q126.922 882.883 128.103 881.54 Q130.348 879.017 131.228 877.281 Q132.13 875.522 132.13 873.832 Q132.13 871.077 130.186 869.341 Q128.265 867.605 125.163 867.605 Q122.964 867.605 120.51 868.369 Q118.08 869.133 115.302 870.684 L115.302 865.962 Q118.126 864.827 120.58 864.249 Q123.033 863.67 125.07 863.67 Q130.441 863.67 133.635 866.355 Q136.829 869.04 136.829 873.531 Q136.829 875.661 136.019 877.582 Q135.232 879.48 133.126 882.073 Q132.547 882.744 129.445 885.961 Q126.343 889.156 120.695 894.92 Z\" fill=\"#000000\" fill-rule=\"evenodd\" fill-opacity=\"1\" /><path clip-path=\"url(#clip650)\" d=\"M 0 0 M152.084 867.374 Q148.473 867.374 146.644 870.938 Q144.839 874.48 144.839 881.61 Q144.839 888.716 146.644 892.281 Q148.473 895.822 152.084 895.822 Q155.718 895.822 157.524 892.281 Q159.353 888.716 159.353 881.61 Q159.353 874.48 157.524 870.938 Q155.718 867.374 152.084 867.374 M152.084 863.67 Q157.894 863.67 160.95 868.276 Q164.028 872.86 164.028 881.61 Q164.028 890.336 160.95 894.943 Q157.894 899.526 152.084 899.526 Q146.274 899.526 143.195 894.943 Q140.14 890.336 140.14 881.61 Q140.14 872.86 143.195 868.276 Q146.274 863.67 152.084 863.67 Z\" fill=\"#000000\" fill-rule=\"evenodd\" fill-opacity=\"1\" /><path clip-path=\"url(#clip650)\" d=\"M 0 0 M121.691 697.547 L138.01 697.547 L138.01 701.482 L116.066 701.482 L116.066 697.547 Q118.728 694.792 123.311 690.162 Q127.917 685.51 129.098 684.167 Q131.343 681.644 132.223 679.908 Q133.126 678.149 133.126 676.459 Q133.126 673.704 131.181 671.968 Q129.26 670.232 126.158 670.232 Q123.959 670.232 121.505 670.996 Q119.075 671.76 116.297 673.311 L116.297 668.588 Q119.121 667.454 121.575 666.875 Q124.029 666.297 126.066 666.297 Q131.436 666.297 134.63 668.982 Q137.825 671.667 137.825 676.158 Q137.825 678.287 137.015 680.209 Q136.228 682.107 134.121 684.699 Q133.542 685.371 130.441 688.588 Q127.339 691.783 121.691 697.547 Z\" fill=\"#000000\" fill-rule=\"evenodd\" fill-opacity=\"1\" /><path clip-path=\"url(#clip650)\" d=\"M 0 0 M143.126 666.922 L161.482 666.922 L161.482 670.857 L147.408 670.857 L147.408 679.329 Q148.427 678.982 149.445 678.82 Q150.464 678.635 151.482 678.635 Q157.269 678.635 160.649 681.806 Q164.028 684.977 164.028 690.394 Q164.028 695.973 160.556 699.074 Q157.084 702.153 150.765 702.153 Q148.589 702.153 146.32 701.783 Q144.075 701.412 141.667 700.672 L141.667 695.973 Q143.751 697.107 145.973 697.662 Q148.195 698.218 150.672 698.218 Q154.677 698.218 157.015 696.111 Q159.353 694.005 159.353 690.394 Q159.353 686.783 157.015 684.676 Q154.677 682.57 150.672 682.57 Q148.797 682.57 146.922 682.986 Q145.07 683.403 143.126 684.283 L143.126 666.922 Z\" fill=\"#000000\" fill-rule=\"evenodd\" fill-opacity=\"1\" /><path clip-path=\"url(#clip650)\" d=\"M 0 0 M129.885 485.474 Q133.242 486.192 135.117 488.461 Q137.015 490.729 137.015 494.062 Q137.015 499.178 133.496 501.979 Q129.978 504.78 123.496 504.78 Q121.32 504.78 119.006 504.34 Q116.714 503.923 114.26 503.067 L114.26 498.553 Q116.205 499.687 118.519 500.266 Q120.834 500.845 123.357 500.845 Q127.755 500.845 130.047 499.109 Q132.362 497.373 132.362 494.062 Q132.362 491.007 130.209 489.294 Q128.08 487.558 124.26 487.558 L120.232 487.558 L120.232 483.715 L124.445 483.715 Q127.894 483.715 129.723 482.349 Q131.552 480.961 131.552 478.368 Q131.552 475.706 129.654 474.294 Q127.779 472.859 124.26 472.859 Q122.339 472.859 120.14 473.275 Q117.941 473.692 115.302 474.572 L115.302 470.405 Q117.964 469.664 120.279 469.294 Q122.617 468.924 124.677 468.924 Q130.001 468.924 133.103 471.354 Q136.204 473.762 136.204 477.882 Q136.204 480.752 134.561 482.743 Q132.917 484.711 129.885 485.474 Z\" fill=\"#000000\" fill-rule=\"evenodd\" fill-opacity=\"1\" /><path clip-path=\"url(#clip650)\" d=\"M 0 0 M152.084 472.627 Q148.473 472.627 146.644 476.192 Q144.839 479.734 144.839 486.863 Q144.839 493.97 146.644 497.535 Q148.473 501.076 152.084 501.076 Q155.718 501.076 157.524 497.535 Q159.353 493.97 159.353 486.863 Q159.353 479.734 157.524 476.192 Q155.718 472.627 152.084 472.627 M152.084 468.924 Q157.894 468.924 160.95 473.53 Q164.028 478.113 164.028 486.863 Q164.028 495.59 160.95 500.197 Q157.894 504.78 152.084 504.78 Q146.274 504.78 143.195 500.197 Q140.14 495.59 140.14 486.863 Q140.14 478.113 143.195 473.53 Q146.274 468.924 152.084 468.924 Z\" fill=\"#000000\" fill-rule=\"evenodd\" fill-opacity=\"1\" /><path clip-path=\"url(#clip650)\" d=\"M 0 0 M130.88 288.101 Q134.237 288.819 136.112 291.087 Q138.01 293.356 138.01 296.689 Q138.01 301.805 134.492 304.606 Q130.973 307.407 124.492 307.407 Q122.316 307.407 120.001 306.967 Q117.709 306.55 115.256 305.694 L115.256 301.18 Q117.2 302.314 119.515 302.893 Q121.83 303.472 124.353 303.472 Q128.751 303.472 131.042 301.736 Q133.357 299.999 133.357 296.689 Q133.357 293.634 131.205 291.921 Q129.075 290.185 125.255 290.185 L121.228 290.185 L121.228 286.342 L125.441 286.342 Q128.89 286.342 130.718 284.976 Q132.547 283.588 132.547 280.995 Q132.547 278.333 130.649 276.921 Q128.774 275.486 125.255 275.486 Q123.334 275.486 121.135 275.902 Q118.936 276.319 116.297 277.199 L116.297 273.032 Q118.959 272.291 121.274 271.921 Q123.612 271.551 125.672 271.551 Q130.996 271.551 134.098 273.981 Q137.2 276.388 137.2 280.509 Q137.2 283.379 135.556 285.37 Q133.913 287.337 130.88 288.101 Z\" fill=\"#000000\" fill-rule=\"evenodd\" fill-opacity=\"1\" /><path clip-path=\"url(#clip650)\" d=\"M 0 0 M143.126 272.176 L161.482 272.176 L161.482 276.111 L147.408 276.111 L147.408 284.583 Q148.427 284.236 149.445 284.074 Q150.464 283.888 151.482 283.888 Q157.269 283.888 160.649 287.06 Q164.028 290.231 164.028 295.648 Q164.028 301.226 160.556 304.328 Q157.084 307.407 150.765 307.407 Q148.589 307.407 146.32 307.036 Q144.075 306.666 141.667 305.925 L141.667 301.226 Q143.751 302.361 145.973 302.916 Q148.195 303.472 150.672 303.472 Q154.677 303.472 157.015 301.365 Q159.353 299.259 159.353 295.648 Q159.353 292.037 157.015 289.93 Q154.677 287.824 150.672 287.824 Q148.797 287.824 146.922 288.24 Q145.07 288.657 143.126 289.537 L143.126 272.176 Z\" fill=\"#000000\" fill-rule=\"evenodd\" fill-opacity=\"1\" /><path clip-path=\"url(#clip650)\" d=\"M 0 0 M70.212 781.347 Q63.7508 781.347 60.0905 784.02 Q56.3984 786.662 56.3984 791.309 Q56.3984 795.956 60.0905 798.63 Q63.7508 801.271 70.212 801.271 Q76.6732 801.271 80.3653 798.63 Q84.0256 795.956 84.0256 791.309 Q84.0256 786.662 80.3653 784.02 Q76.6732 781.347 70.212 781.347 M57.7671 801.271 Q54.5842 799.425 53.0564 796.624 Q51.4968 793.792 51.4968 789.877 Q51.4968 783.384 56.6531 779.342 Q61.8093 775.268 70.212 775.268 Q78.6147 775.268 83.771 779.342 Q88.9272 783.384 88.9272 789.877 Q88.9272 793.792 87.3994 796.624 Q85.8398 799.425 82.657 801.271 L88.0042 801.271 L88.0042 807.16 L38.479 807.16 L38.479 801.271 L57.7671 801.271 Z\" fill=\"#000000\" fill-rule=\"evenodd\" fill-opacity=\"1\" /><path clip-path=\"url(#clip650)\" d=\"M 0 0 M66.4881 739.492 L88.0042 739.492 L88.0042 745.349 L66.679 745.349 Q61.6183 745.349 59.1038 747.322 Q56.5894 749.295 56.5894 753.242 Q56.5894 757.985 59.6131 760.722 Q62.6368 763.459 67.8567 763.459 L88.0042 763.459 L88.0042 769.347 L52.3562 769.347 L52.3562 763.459 L57.8944 763.459 Q54.6797 761.358 53.0883 758.526 Q51.4968 755.661 51.4968 751.937 Q51.4968 745.794 55.3163 742.643 Q59.1038 739.492 66.4881 739.492 Z\" fill=\"#000000\" fill-rule=\"evenodd\" fill-opacity=\"1\" /><path clip-path=\"url(#clip650)\" d=\"M 0 0 M517.172 20.1573 L506.072 50.2555 L528.312 50.2555 L517.172 20.1573 M512.554 12.096 L521.83 12.096 L544.88 72.576 L536.373 72.576 L530.864 57.061 L503.601 57.061 L498.092 72.576 L489.464 72.576 L512.554 12.096 Z\" fill=\"#000000\" fill-rule=\"evenodd\" fill-opacity=\"1\" /><path clip-path=\"url(#clip650)\" d=\"M 0 0 M542.49 27.2059 L550.389 27.2059 L564.567 65.2844 L578.745 27.2059 L586.645 27.2059 L569.631 72.576 L559.504 72.576 L542.49 27.2059 Z\" fill=\"#000000\" fill-rule=\"evenodd\" fill-opacity=\"1\" /><path clip-path=\"url(#clip650)\" d=\"M 0 0 M633.271 48.0275 L633.271 51.6733 L599 51.6733 Q599.486 59.3701 603.618 63.421 Q607.79 67.4314 615.204 67.4314 Q619.498 67.4314 623.508 66.3781 Q627.559 65.3249 631.529 63.2184 L631.529 70.267 Q627.518 71.9684 623.305 72.8596 Q619.092 73.7508 614.758 73.7508 Q603.902 73.7508 597.542 67.4314 Q591.222 61.1119 591.222 50.3365 Q591.222 39.1965 597.218 32.6746 Q603.253 26.1121 613.462 26.1121 Q622.617 26.1121 627.923 32.0264 Q633.271 37.9003 633.271 48.0275 M625.817 45.84 Q625.736 39.7232 622.374 36.0774 Q619.052 32.4315 613.543 32.4315 Q607.304 32.4315 603.537 35.9558 Q599.81 39.4801 599.243 45.8805 L625.817 45.84 Z\" fill=\"#000000\" fill-rule=\"evenodd\" fill-opacity=\"1\" /><path clip-path=\"url(#clip650)\" d=\"M 0 0 M667.379 34.1734 Q666.123 33.4443 664.625 33.1202 Q663.166 32.7556 661.384 32.7556 Q655.064 32.7556 651.662 36.8875 Q648.299 40.9789 648.299 48.6757 L648.299 72.576 L640.805 72.576 L640.805 27.2059 L648.299 27.2059 L648.299 34.2544 Q650.649 30.1225 654.416 28.1376 Q658.184 26.1121 663.571 26.1121 Q664.341 26.1121 665.273 26.2337 Q666.204 26.3147 667.339 26.5172 L667.379 34.1734 Z\" fill=\"#000000\" fill-rule=\"evenodd\" fill-opacity=\"1\" /><path clip-path=\"url(#clip650)\" d=\"M 0 0 M695.817 49.7694 Q686.783 49.7694 683.299 51.8354 Q679.815 53.9013 679.815 58.8839 Q679.815 62.8538 682.408 65.2034 Q685.041 67.5124 689.538 67.5124 Q695.736 67.5124 699.462 63.1374 Q703.23 58.7219 703.23 51.4303 L703.23 49.7694 L695.817 49.7694 M710.683 46.6907 L710.683 72.576 L703.23 72.576 L703.23 65.6895 Q700.678 69.8214 696.87 71.8063 Q693.062 73.7508 687.553 73.7508 Q680.585 73.7508 676.453 69.8619 Q672.362 65.9325 672.362 59.3701 Q672.362 51.7138 677.466 47.825 Q682.611 43.9361 692.778 43.9361 L703.23 43.9361 L703.23 43.2069 Q703.23 38.0623 699.827 35.2672 Q696.465 32.4315 690.348 32.4315 Q686.459 32.4315 682.773 33.3632 Q679.086 34.295 675.684 36.1584 L675.684 29.2718 Q679.775 27.692 683.623 26.9223 Q687.472 26.1121 691.118 26.1121 Q700.961 26.1121 705.822 31.2163 Q710.683 36.3204 710.683 46.6907 Z\" fill=\"#000000\" fill-rule=\"evenodd\" fill-opacity=\"1\" /><path clip-path=\"url(#clip650)\" d=\"M 0 0 M748.357 49.3643 Q748.357 41.2625 744.995 36.8065 Q741.673 32.3505 735.637 32.3505 Q729.642 32.3505 726.279 36.8065 Q722.958 41.2625 722.958 49.3643 Q722.958 57.4256 726.279 61.8816 Q729.642 66.3376 735.637 66.3376 Q741.673 66.3376 744.995 61.8816 Q748.357 57.4256 748.357 49.3643 M755.81 66.9452 Q755.81 78.5308 750.666 84.1616 Q745.521 89.8329 734.908 89.8329 Q730.978 89.8329 727.495 89.2252 Q724.011 88.6581 720.73 87.4428 L720.73 80.1917 Q724.011 81.9741 727.211 82.8248 Q730.411 83.6755 733.733 83.6755 Q741.065 83.6755 744.711 79.8271 Q748.357 76.0193 748.357 68.282 L748.357 64.5957 Q746.048 68.6061 742.442 70.5911 Q738.837 72.576 733.814 72.576 Q725.469 72.576 720.365 66.2161 Q715.261 59.8562 715.261 49.3643 Q715.261 38.832 720.365 32.472 Q725.469 26.1121 733.814 26.1121 Q738.837 26.1121 742.442 28.0971 Q746.048 30.082 748.357 34.0924 L748.357 27.2059 L755.81 27.2059 L755.81 66.9452 Z\" fill=\"#000000\" fill-rule=\"evenodd\" fill-opacity=\"1\" /><path clip-path=\"url(#clip650)\" d=\"M 0 0 M802.436 48.0275 L802.436 51.6733 L768.166 51.6733 Q768.652 59.3701 772.784 63.421 Q776.956 67.4314 784.369 67.4314 Q788.663 67.4314 792.674 66.3781 Q796.725 65.3249 800.694 63.2184 L800.694 70.267 Q796.684 71.9684 792.471 72.8596 Q788.258 73.7508 783.924 73.7508 Q773.067 73.7508 766.707 67.4314 Q760.388 61.1119 760.388 50.3365 Q760.388 39.1965 766.383 32.6746 Q772.419 26.1121 782.627 26.1121 Q791.782 26.1121 797.089 32.0264 Q802.436 37.9003 802.436 48.0275 M794.983 45.84 Q794.902 39.7232 791.539 36.0774 Q788.218 32.4315 782.708 32.4315 Q776.47 32.4315 772.703 35.9558 Q768.976 39.4801 768.409 45.8805 L794.983 45.84 Z\" fill=\"#000000\" fill-rule=\"evenodd\" fill-opacity=\"1\" /><path clip-path=\"url(#clip650)\" d=\"M 0 0 M836.95 12.096 L845.133 12.096 L845.133 65.6895 L874.583 65.6895 L874.583 72.576 L836.95 72.576 L836.95 12.096 Z\" fill=\"#000000\" fill-rule=\"evenodd\" fill-opacity=\"1\" /><path clip-path=\"url(#clip650)\" d=\"M 0 0 M903.02 49.7694 Q893.987 49.7694 890.503 51.8354 Q887.019 53.9013 887.019 58.8839 Q887.019 62.8538 889.612 65.2034 Q892.245 67.5124 896.741 67.5124 Q902.939 67.5124 906.666 63.1374 Q910.433 58.7219 910.433 51.4303 L910.433 49.7694 L903.02 49.7694 M917.887 46.6907 L917.887 72.576 L910.433 72.576 L910.433 65.6895 Q907.881 69.8214 904.074 71.8063 Q900.266 73.7508 894.756 73.7508 Q887.789 73.7508 883.657 69.8619 Q879.566 65.9325 879.566 59.3701 Q879.566 51.7138 884.67 47.825 Q889.814 43.9361 899.982 43.9361 L910.433 43.9361 L910.433 43.2069 Q910.433 38.0623 907.031 35.2672 Q903.668 32.4315 897.552 32.4315 Q893.663 32.4315 889.976 33.3632 Q886.29 34.295 882.887 36.1584 L882.887 29.2718 Q886.979 27.692 890.827 26.9223 Q894.675 26.1121 898.321 26.1121 Q908.165 26.1121 913.026 31.2163 Q917.887 36.3204 917.887 46.6907 Z\" fill=\"#000000\" fill-rule=\"evenodd\" fill-opacity=\"1\" /><path clip-path=\"url(#clip650)\" d=\"M 0 0 M963.419 45.1919 L963.419 72.576 L955.966 72.576 L955.966 45.4349 Q955.966 38.994 953.454 35.7938 Q950.943 32.5936 945.919 32.5936 Q939.884 32.5936 936.4 36.4419 Q932.916 40.2903 932.916 46.9338 L932.916 72.576 L925.422 72.576 L925.422 27.2059 L932.916 27.2059 L932.916 34.2544 Q935.59 30.163 939.195 28.1376 Q942.841 26.1121 947.58 26.1121 Q955.399 26.1121 959.409 30.9732 Q963.419 35.7938 963.419 45.1919 Z\" fill=\"#000000\" fill-rule=\"evenodd\" fill-opacity=\"1\" /><path clip-path=\"url(#clip650)\" d=\"M 0 0 M1003.89 28.9478 L1003.89 35.9153 Q1000.73 34.1734 997.528 33.3227 Q994.368 32.4315 991.127 32.4315 Q983.876 32.4315 979.866 37.0496 Q975.856 41.6271 975.856 49.9314 Q975.856 58.2358 979.866 62.8538 Q983.876 67.4314 991.127 67.4314 Q994.368 67.4314 997.528 66.5807 Q1000.73 65.6895 1003.89 63.9476 L1003.89 70.8341 Q1000.77 72.2924 997.406 73.0216 Q994.085 73.7508 990.317 73.7508 Q980.069 73.7508 974.033 67.3098 Q967.997 60.8689 967.997 49.9314 Q967.997 38.832 974.073 32.472 Q980.19 26.1121 990.803 26.1121 Q994.247 26.1121 997.528 26.8413 Q1000.81 27.5299 1003.89 28.9478 Z\" fill=\"#000000\" fill-rule=\"evenodd\" fill-opacity=\"1\" /><path clip-path=\"url(#clip650)\" d=\"M 0 0 M1008.47 27.2059 L1043.87 27.2059 L1043.87 34.0114 L1015.84 66.6212 L1043.87 66.6212 L1043.87 72.576 L1007.45 72.576 L1007.45 65.7705 L1035.48 33.1607 L1008.47 33.1607 L1008.47 27.2059 Z\" fill=\"#000000\" fill-rule=\"evenodd\" fill-opacity=\"1\" /><path clip-path=\"url(#clip650)\" d=\"M 0 0 M1069.27 32.4315 Q1063.27 32.4315 1059.79 37.1306 Q1056.31 41.7891 1056.31 49.9314 Q1056.31 58.0738 1059.75 62.7728 Q1063.23 67.4314 1069.27 67.4314 Q1075.22 67.4314 1078.71 62.7323 Q1082.19 58.0333 1082.19 49.9314 Q1082.19 41.8701 1078.71 37.1711 Q1075.22 32.4315 1069.27 32.4315 M1069.27 26.1121 Q1078.99 26.1121 1084.54 32.4315 Q1090.09 38.7509 1090.09 49.9314 Q1090.09 61.0714 1084.54 67.4314 Q1078.99 73.7508 1069.27 73.7508 Q1059.51 73.7508 1053.96 67.4314 Q1048.45 61.0714 1048.45 49.9314 Q1048.45 38.7509 1053.96 32.4315 Q1059.51 26.1121 1069.27 26.1121 Z\" fill=\"#000000\" fill-rule=\"evenodd\" fill-opacity=\"1\" /><path clip-path=\"url(#clip650)\" d=\"M 0 0 M1126.83 28.5427 L1126.83 35.5912 Q1123.67 33.9709 1120.27 33.1607 Q1116.87 32.3505 1113.22 32.3505 Q1107.67 32.3505 1104.88 34.0519 Q1102.12 35.7533 1102.12 39.156 Q1102.12 41.7486 1104.11 43.2475 Q1106.09 44.7058 1112.09 46.0426 L1114.64 46.6097 Q1122.58 48.3111 1125.9 51.4303 Q1129.26 54.509 1129.26 60.0587 Q1129.26 66.3781 1124.24 70.0644 Q1119.26 73.7508 1110.51 73.7508 Q1106.86 73.7508 1102.89 73.0216 Q1098.96 72.3329 1094.59 70.9151 L1094.59 63.2184 Q1098.72 65.3654 1102.73 66.4591 Q1106.74 67.5124 1110.67 67.5124 Q1115.94 67.5124 1118.77 65.73 Q1121.61 63.9071 1121.61 60.6258 Q1121.61 57.5877 1119.54 55.9673 Q1117.52 54.3469 1110.59 52.8481 L1108 52.2405 Q1101.07 50.7821 1097.99 47.7845 Q1094.91 44.7463 1094.91 39.4801 Q1094.91 33.0797 1099.45 29.5959 Q1103.99 26.1121 1112.33 26.1121 Q1116.46 26.1121 1120.11 26.7198 Q1123.75 27.3274 1126.83 28.5427 Z\" fill=\"#000000\" fill-rule=\"evenodd\" fill-opacity=\"1\" /><path clip-path=\"url(#clip650)\" d=\"M 0 0 M1196.1 28.9478 L1196.1 35.9153 Q1192.94 34.1734 1189.74 33.3227 Q1186.58 32.4315 1183.34 32.4315 Q1176.09 32.4315 1172.08 37.0496 Q1168.07 41.6271 1168.07 49.9314 Q1168.07 58.2358 1172.08 62.8538 Q1176.09 67.4314 1183.34 67.4314 Q1186.58 67.4314 1189.74 66.5807 Q1192.94 65.6895 1196.1 63.9476 L1196.1 70.8341 Q1192.98 72.2924 1189.62 73.0216 Q1186.3 73.7508 1182.53 73.7508 Q1172.28 73.7508 1166.25 67.3098 Q1160.21 60.8689 1160.21 49.9314 Q1160.21 38.832 1166.29 32.472 Q1172.41 26.1121 1183.02 26.1121 Q1186.46 26.1121 1189.74 26.8413 Q1193.02 27.5299 1196.1 28.9478 Z\" fill=\"#000000\" fill-rule=\"evenodd\" fill-opacity=\"1\" /><path clip-path=\"url(#clip650)\" d=\"M 0 0 M1221.5 32.4315 Q1215.51 32.4315 1212.02 37.1306 Q1208.54 41.7891 1208.54 49.9314 Q1208.54 58.0738 1211.98 62.7728 Q1215.47 67.4314 1221.5 67.4314 Q1227.46 67.4314 1230.94 62.7323 Q1234.42 58.0333 1234.42 49.9314 Q1234.42 41.8701 1230.94 37.1711 Q1227.46 32.4315 1221.5 32.4315 M1221.5 26.1121 Q1231.22 26.1121 1236.77 32.4315 Q1242.32 38.7509 1242.32 49.9314 Q1242.32 61.0714 1236.77 67.4314 Q1231.22 73.7508 1221.5 73.7508 Q1211.74 73.7508 1206.19 67.4314 Q1200.68 61.0714 1200.68 49.9314 Q1200.68 38.7509 1206.19 32.4315 Q1211.74 26.1121 1221.5 26.1121 Z\" fill=\"#000000\" fill-rule=\"evenodd\" fill-opacity=\"1\" /><path clip-path=\"url(#clip650)\" d=\"M 0 0 M1288.95 48.0275 L1288.95 51.6733 L1254.68 51.6733 Q1255.17 59.3701 1259.3 63.421 Q1263.47 67.4314 1270.88 67.4314 Q1275.18 67.4314 1279.19 66.3781 Q1283.24 65.3249 1287.21 63.2184 L1287.21 70.267 Q1283.2 71.9684 1278.98 72.8596 Q1274.77 73.7508 1270.44 73.7508 Q1259.58 73.7508 1253.22 67.4314 Q1246.9 61.1119 1246.9 50.3365 Q1246.9 39.1965 1252.9 32.6746 Q1258.93 26.1121 1269.14 26.1121 Q1278.3 26.1121 1283.6 32.0264 Q1288.95 37.9003 1288.95 48.0275 M1281.5 45.84 Q1281.42 39.7232 1278.05 36.0774 Q1274.73 32.4315 1269.22 32.4315 Q1262.98 32.4315 1259.22 35.9558 Q1255.49 39.4801 1254.92 45.8805 L1281.5 45.84 Z\" fill=\"#000000\" fill-rule=\"evenodd\" fill-opacity=\"1\" /><path clip-path=\"url(#clip650)\" d=\"M 0 0 M1319.74 9.54393 L1319.74 15.7418 L1312.61 15.7418 Q1308.6 15.7418 1307.02 17.3622 Q1305.48 18.9825 1305.48 23.1955 L1305.48 27.2059 L1317.75 27.2059 L1317.75 32.9987 L1305.48 32.9987 L1305.48 72.576 L1297.98 72.576 L1297.98 32.9987 L1290.85 32.9987 L1290.85 27.2059 L1297.98 27.2059 L1297.98 24.0462 Q1297.98 16.471 1301.51 13.0277 Q1305.03 9.54393 1312.69 9.54393 L1319.74 9.54393 Z\" fill=\"#000000\" fill-rule=\"evenodd\" fill-opacity=\"1\" /><path clip-path=\"url(#clip650)\" d=\"M 0 0 M1350.52 9.54393 L1350.52 15.7418 L1343.39 15.7418 Q1339.38 15.7418 1337.8 17.3622 Q1336.26 18.9825 1336.26 23.1955 L1336.26 27.2059 L1348.54 27.2059 L1348.54 32.9987 L1336.26 32.9987 L1336.26 72.576 L1328.77 72.576 L1328.77 32.9987 L1321.64 32.9987 L1321.64 27.2059 L1328.77 27.2059 L1328.77 24.0462 Q1328.77 16.471 1332.29 13.0277 Q1335.82 9.54393 1343.48 9.54393 L1350.52 9.54393 Z\" fill=\"#000000\" fill-rule=\"evenodd\" fill-opacity=\"1\" /><path clip-path=\"url(#clip650)\" d=\"M 0 0 M1358.34 27.2059 L1365.8 27.2059 L1365.8 72.576 L1358.34 72.576 L1358.34 27.2059 M1358.34 9.54393 L1365.8 9.54393 L1365.8 18.9825 L1358.34 18.9825 L1358.34 9.54393 Z\" fill=\"#000000\" fill-rule=\"evenodd\" fill-opacity=\"1\" /><path clip-path=\"url(#clip650)\" d=\"M 0 0 M1406.26 28.9478 L1406.26 35.9153 Q1403.1 34.1734 1399.9 33.3227 Q1396.74 32.4315 1393.5 32.4315 Q1386.25 32.4315 1382.24 37.0496 Q1378.23 41.6271 1378.23 49.9314 Q1378.23 58.2358 1382.24 62.8538 Q1386.25 67.4314 1393.5 67.4314 Q1396.74 67.4314 1399.9 66.5807 Q1403.1 65.6895 1406.26 63.9476 L1406.26 70.8341 Q1403.14 72.2924 1399.78 73.0216 Q1396.46 73.7508 1392.69 73.7508 Q1382.44 73.7508 1376.41 67.3098 Q1370.37 60.8689 1370.37 49.9314 Q1370.37 38.832 1376.45 32.472 Q1382.57 26.1121 1393.18 26.1121 Q1396.62 26.1121 1399.9 26.8413 Q1403.19 27.5299 1406.26 28.9478 Z\" fill=\"#000000\" fill-rule=\"evenodd\" fill-opacity=\"1\" /><path clip-path=\"url(#clip650)\" d=\"M 0 0 M1414.08 27.2059 L1421.54 27.2059 L1421.54 72.576 L1414.08 72.576 L1414.08 27.2059 M1414.08 9.54393 L1421.54 9.54393 L1421.54 18.9825 L1414.08 18.9825 L1414.08 9.54393 Z\" fill=\"#000000\" fill-rule=\"evenodd\" fill-opacity=\"1\" /><path clip-path=\"url(#clip650)\" d=\"M 0 0 M1468.16 48.0275 L1468.16 51.6733 L1433.89 51.6733 Q1434.38 59.3701 1438.51 63.421 Q1442.68 67.4314 1450.09 67.4314 Q1454.39 67.4314 1458.4 66.3781 Q1462.45 65.3249 1466.42 63.2184 L1466.42 70.267 Q1462.41 71.9684 1458.2 72.8596 Q1453.98 73.7508 1449.65 73.7508 Q1438.79 73.7508 1432.43 67.4314 Q1426.11 61.1119 1426.11 50.3365 Q1426.11 39.1965 1432.11 32.6746 Q1438.14 26.1121 1448.35 26.1121 Q1457.51 26.1121 1462.81 32.0264 Q1468.16 37.9003 1468.16 48.0275 M1460.71 45.84 Q1460.63 39.7232 1457.27 36.0774 Q1453.94 32.4315 1448.43 32.4315 Q1442.2 32.4315 1438.43 35.9558 Q1434.7 39.4801 1434.13 45.8805 L1460.71 45.84 Z\" fill=\"#000000\" fill-rule=\"evenodd\" fill-opacity=\"1\" /><path clip-path=\"url(#clip650)\" d=\"M 0 0 M1513.69 45.1919 L1513.69 72.576 L1506.24 72.576 L1506.24 45.4349 Q1506.24 38.994 1503.73 35.7938 Q1501.22 32.5936 1496.19 32.5936 Q1490.16 32.5936 1486.67 36.4419 Q1483.19 40.2903 1483.19 46.9338 L1483.19 72.576 L1475.7 72.576 L1475.7 27.2059 L1483.19 27.2059 L1483.19 34.2544 Q1485.86 30.163 1489.47 28.1376 Q1493.12 26.1121 1497.86 26.1121 Q1505.67 26.1121 1509.68 30.9732 Q1513.69 35.7938 1513.69 45.1919 Z\" fill=\"#000000\" fill-rule=\"evenodd\" fill-opacity=\"1\" /><path clip-path=\"url(#clip650)\" d=\"M 0 0 M1528.89 14.324 L1528.89 27.2059 L1544.24 27.2059 L1544.24 32.9987 L1528.89 32.9987 L1528.89 57.6282 Q1528.89 63.1779 1530.38 64.7578 Q1531.92 66.3376 1536.58 66.3376 L1544.24 66.3376 L1544.24 72.576 L1536.58 72.576 Q1527.95 72.576 1524.67 69.3758 Q1521.39 66.1351 1521.39 57.6282 L1521.39 32.9987 L1515.92 32.9987 L1515.92 27.2059 L1521.39 27.2059 L1521.39 14.324 L1528.89 14.324 Z\" fill=\"#000000\" fill-rule=\"evenodd\" fill-opacity=\"1\" /><path clip-path=\"url(#clip650)\" d=\"M 0 0 M1580.98 28.5427 L1580.98 35.5912 Q1577.82 33.9709 1574.42 33.1607 Q1571.01 32.3505 1567.37 32.3505 Q1561.82 32.3505 1559.02 34.0519 Q1556.27 35.7533 1556.27 39.156 Q1556.27 41.7486 1558.25 43.2475 Q1560.24 44.7058 1566.23 46.0426 L1568.79 46.6097 Q1576.73 48.3111 1580.05 51.4303 Q1583.41 54.509 1583.41 60.0587 Q1583.41 66.3781 1578.39 70.0644 Q1573.4 73.7508 1564.65 73.7508 Q1561.01 73.7508 1557.04 73.0216 Q1553.11 72.3329 1548.73 70.9151 L1548.73 63.2184 Q1552.87 65.3654 1556.88 66.4591 Q1560.89 67.5124 1564.82 67.5124 Q1570.08 67.5124 1572.92 65.73 Q1575.75 63.9071 1575.75 60.6258 Q1575.75 57.5877 1573.69 55.9673 Q1571.66 54.3469 1564.74 52.8481 L1562.14 52.2405 Q1555.22 50.7821 1552.14 47.7845 Q1549.06 44.7463 1549.06 39.4801 Q1549.06 33.0797 1553.6 29.5959 Q1558.13 26.1121 1566.48 26.1121 Q1570.61 26.1121 1574.26 26.7198 Q1577.9 27.3274 1580.98 28.5427 Z\" fill=\"#000000\" fill-rule=\"evenodd\" fill-opacity=\"1\" /><path clip-path=\"url(#clip650)\" d=\"M 0 0 M1617.92 12.096 L1630.12 12.096 L1645.55 53.2532 L1661.07 12.096 L1673.26 12.096 L1673.26 72.576 L1665.28 72.576 L1665.28 19.4686 L1649.68 60.9499 L1641.46 60.9499 L1625.86 19.4686 L1625.86 72.576 L1617.92 72.576 L1617.92 12.096 Z\" fill=\"#000000\" fill-rule=\"evenodd\" fill-opacity=\"1\" /><path clip-path=\"url(#clip650)\" d=\"M 0 0 M1689.58 43.6931 L1689.58 65.8515 L1702.71 65.8515 Q1709.31 65.8515 1712.47 63.1374 Q1715.67 60.3828 1715.67 54.752 Q1715.67 49.0808 1712.47 46.4072 Q1709.31 43.6931 1702.71 43.6931 L1689.58 43.6931 M1689.58 18.8205 L1689.58 37.0496 L1701.7 37.0496 Q1707.69 37.0496 1710.61 34.8216 Q1713.57 32.5531 1713.57 27.935 Q1713.57 23.3575 1710.61 21.089 Q1707.69 18.8205 1701.7 18.8205 L1689.58 18.8205 M1681.4 12.096 L1702.3 12.096 Q1711.66 12.096 1716.73 15.9849 Q1721.79 19.8737 1721.79 27.0438 Q1721.79 32.5936 1719.2 35.8748 Q1716.6 39.156 1711.58 39.9662 Q1717.62 41.2625 1720.94 45.3944 Q1724.3 49.4858 1724.3 55.6432 Q1724.3 63.745 1718.79 68.1605 Q1713.28 72.576 1703.11 72.576 L1681.4 72.576 L1681.4 12.096 Z\" fill=\"#000000\" fill-rule=\"evenodd\" fill-opacity=\"1\" /><path clip-path=\"url(#clip650)\" d=\"M 0 0 M1732.44 12.096 L1740.63 12.096 L1740.63 65.6895 L1770.08 65.6895 L1770.08 72.576 L1732.44 72.576 L1732.44 12.096 Z\" fill=\"#000000\" fill-rule=\"evenodd\" fill-opacity=\"1\" /><path clip-path=\"url(#clip650)\" d=\"M 0 0 M1779.8 62.2867 L1788.35 62.2867 L1788.35 69.2543 L1781.7 82.2172 L1776.48 82.2172 L1779.8 69.2543 L1779.8 62.2867 Z\" fill=\"#000000\" fill-rule=\"evenodd\" fill-opacity=\"1\" /><path clip-path=\"url(#clip650)\" d=\"M 0 0 M1860.25 45.1919 L1860.25 72.576 L1852.8 72.576 L1852.8 45.4349 Q1852.8 38.994 1850.28 35.7938 Q1847.77 32.5936 1842.75 32.5936 Q1836.71 32.5936 1833.23 36.4419 Q1829.75 40.2903 1829.75 46.9338 L1829.75 72.576 L1822.25 72.576 L1822.25 9.54393 L1829.75 9.54393 L1829.75 34.2544 Q1832.42 30.163 1836.02 28.1376 Q1839.67 26.1121 1844.41 26.1121 Q1852.23 26.1121 1856.24 30.9732 Q1860.25 35.7938 1860.25 45.1919 Z\" fill=\"#000000\" fill-rule=\"evenodd\" fill-opacity=\"1\" /><path clip-path=\"url(#clip650)\" d=\"M 0 0 M1895.41 34.9026 L1947.34 34.9026 L1947.34 41.7081 L1895.41 41.7081 L1895.41 34.9026 M1895.41 51.4303 L1947.34 51.4303 L1947.34 58.3168 L1895.41 58.3168 L1895.41 51.4303 Z\" fill=\"#000000\" fill-rule=\"evenodd\" fill-opacity=\"1\" /><path clip-path=\"url(#clip650)\" d=\"M 0 0 M1984 65.6895 L1997.37 65.6895 L1997.37 19.5497 L1982.83 22.4663 L1982.83 15.0127 L1997.29 12.096 L2005.47 12.096 L2005.47 65.6895 L2018.84 65.6895 L2018.84 72.576 L1984 72.576 L1984 65.6895 Z\" fill=\"#000000\" fill-rule=\"evenodd\" fill-opacity=\"1\" /><path clip-path=\"url(#clip650)\" d=\"M 0 0 M2034.76 65.6895 L2063.32 65.6895 L2063.32 72.576 L2024.92 72.576 L2024.92 65.6895 Q2029.58 60.8689 2037.6 52.7671 Q2045.66 44.6248 2047.72 42.2752 Q2051.65 37.8598 2053.19 34.8216 Q2054.77 31.7429 2054.77 28.7857 Q2054.77 23.9651 2051.37 20.927 Q2048.01 17.8888 2042.58 17.8888 Q2038.73 17.8888 2034.44 19.2256 Q2030.18 20.5624 2025.32 23.2765 L2025.32 15.0127 Q2030.27 13.0277 2034.56 12.015 Q2038.85 11.0023 2042.42 11.0023 Q2051.82 11.0023 2057.41 15.7013 Q2063 20.4004 2063 28.2591 Q2063 31.9859 2061.58 35.3482 Q2060.2 38.6699 2056.52 43.2069 Q2055.5 44.3817 2050.07 50.0125 Q2044.65 55.6027 2034.76 65.6895 Z\" fill=\"#000000\" fill-rule=\"evenodd\" fill-opacity=\"1\" /><circle clip-path=\"url(#clip652)\" cx=\"260.955\" cy=\"1024.19\" r=\"14\" fill=\"#009af9\" fill-rule=\"evenodd\" fill-opacity=\"1\" stroke=\"#000000\" stroke-opacity=\"1\" stroke-width=\"3.2\"/>\n",
       "<circle clip-path=\"url(#clip652)\" cx=\"514.814\" cy=\"1386.4\" r=\"14\" fill=\"#009af9\" fill-rule=\"evenodd\" fill-opacity=\"1\" stroke=\"#000000\" stroke-opacity=\"1\" stroke-width=\"3.2\"/>\n",
       "<circle clip-path=\"url(#clip652)\" cx=\"768.673\" cy=\"927.574\" r=\"14\" fill=\"#009af9\" fill-rule=\"evenodd\" fill-opacity=\"1\" stroke=\"#000000\" stroke-opacity=\"1\" stroke-width=\"3.2\"/>\n",
       "<circle clip-path=\"url(#clip652)\" cx=\"1022.53\" cy=\"1126.61\" r=\"14\" fill=\"#009af9\" fill-rule=\"evenodd\" fill-opacity=\"1\" stroke=\"#000000\" stroke-opacity=\"1\" stroke-width=\"3.2\"/>\n",
       "<circle clip-path=\"url(#clip652)\" cx=\"1276.39\" cy=\"326.292\" r=\"14\" fill=\"#009af9\" fill-rule=\"evenodd\" fill-opacity=\"1\" stroke=\"#000000\" stroke-opacity=\"1\" stroke-width=\"3.2\"/>\n",
       "<circle clip-path=\"url(#clip652)\" cx=\"1530.25\" cy=\"513.399\" r=\"14\" fill=\"#009af9\" fill-rule=\"evenodd\" fill-opacity=\"1\" stroke=\"#000000\" stroke-opacity=\"1\" stroke-width=\"3.2\"/>\n",
       "<circle clip-path=\"url(#clip652)\" cx=\"1784.11\" cy=\"628.096\" r=\"14\" fill=\"#009af9\" fill-rule=\"evenodd\" fill-opacity=\"1\" stroke=\"#000000\" stroke-opacity=\"1\" stroke-width=\"3.2\"/>\n",
       "<circle clip-path=\"url(#clip652)\" cx=\"2037.97\" cy=\"589.865\" r=\"14\" fill=\"#009af9\" fill-rule=\"evenodd\" fill-opacity=\"1\" stroke=\"#000000\" stroke-opacity=\"1\" stroke-width=\"3.2\"/>\n",
       "<circle clip-path=\"url(#clip652)\" cx=\"2291.83\" cy=\"160.256\" r=\"14\" fill=\"#009af9\" fill-rule=\"evenodd\" fill-opacity=\"1\" stroke=\"#000000\" stroke-opacity=\"1\" stroke-width=\"3.2\"/>\n",
       "</svg>\n"
      ]
     },
     "execution_count": 221,
     "metadata": {},
     "output_type": "execute_result"
    }
   ],
   "source": [
    "x = 1:length(meanA)-1; y = meanA[2:10]; # Lanczos Coefficients XXX model\n",
    "plot(x, y,title = \"Average Lanczos coefficients MBL, h = 12\",seriestype = :scatter,label = false)\n",
    "ylabel!(\"bn\")\n",
    "xlabel!(\"n\")"
   ]
  },
  {
   "cell_type": "code",
   "execution_count": 212,
   "metadata": {},
   "outputs": [
    {
     "data": {
      "text/plain": [
       "10-element Array{Float64,1}:\n",
       "  0.0\n",
       " 16.38711035991349\n",
       "  7.2115094667915915\n",
       " 18.834703960175084\n",
       " 13.79248623456991\n",
       " 34.06682780708835\n",
       " 29.326891141650616\n",
       " 26.42130422323878\n",
       " 27.38979573582435\n",
       " 38.272969375689044"
      ]
     },
     "execution_count": 212,
     "metadata": {},
     "output_type": "execute_result"
    }
   ],
   "source": [
    "meanA\n"
   ]
  },
  {
   "cell_type": "code",
   "execution_count": null,
   "metadata": {},
   "outputs": [],
   "source": []
  },
  {
   "cell_type": "code",
   "execution_count": null,
   "metadata": {},
   "outputs": [],
   "source": []
  },
  {
   "cell_type": "code",
   "execution_count": null,
   "metadata": {},
   "outputs": [],
   "source": []
  },
  {
   "cell_type": "code",
   "execution_count": null,
   "metadata": {},
   "outputs": [],
   "source": []
  }
 ],
 "metadata": {
  "kernelspec": {
   "display_name": "Julia 1.5.2",
   "language": "julia",
   "name": "julia-1.5"
  },
  "language_info": {
   "file_extension": ".jl",
   "mimetype": "application/julia",
   "name": "julia",
   "version": "1.5.2"
  }
 },
 "nbformat": 4,
 "nbformat_minor": 4
}
